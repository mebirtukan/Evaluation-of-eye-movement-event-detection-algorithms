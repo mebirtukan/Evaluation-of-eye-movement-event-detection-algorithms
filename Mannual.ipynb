{
  "nbformat": 4,
  "nbformat_minor": 0,
  "metadata": {
    "colab": {
      "provenance": [],
      "include_colab_link": true
    },
    "kernelspec": {
      "name": "python3",
      "display_name": "Python 3"
    },
    "language_info": {
      "name": "python"
    }
  },
  "cells": [
    {
      "cell_type": "markdown",
      "metadata": {
        "id": "view-in-github",
        "colab_type": "text"
      },
      "source": [
        "<a href=\"https://colab.research.google.com/github/mebirtukan/EyeMovementEventDetectionAlgorithms/blob/main/Mannual.ipynb\" target=\"_parent\"><img src=\"https://colab.research.google.com/assets/colab-badge.svg\" alt=\"Open In Colab\"/></a>"
      ]
    },
    {
      "cell_type": "code",
      "execution_count": null,
      "metadata": {
        "id": "Wc2PsB5k77kX"
      },
      "outputs": [],
      "source": [
        "from scipy.io import loadmat\n",
        "import pandas as pd\n",
        "import numpy as np\n",
        "import matplotlib as mpl\n",
        "import matplotlib.pyplot as plt\n",
        "from sklearn.model_selection import train_test_split\n",
        "from sklearn.preprocessing import MinMaxScaler, StandardScaler\n",
        "import tensorflow as tf\n",
        "from sklearn.metrics import f1_score \n",
        "\n",
        "import os\n",
        "import glob"
      ]
    },
    {
      "cell_type": "code",
      "source": [
        "!wget www.kasprowski.pl/datasets/events.zip\n",
        "!unzip events.zip > xx"
      ],
      "metadata": {
        "id": "TZ-E6GB58kTM",
        "colab": {
          "base_uri": "https://localhost:8080/"
        },
        "outputId": "240e8adb-f120-4561-9a78-18c16cc09af6"
      },
      "execution_count": null,
      "outputs": [
        {
          "output_type": "stream",
          "name": "stdout",
          "text": [
            "--2022-07-28 09:09:29--  http://www.kasprowski.pl/datasets/events.zip\n",
            "Resolving www.kasprowski.pl (www.kasprowski.pl)... 94.152.164.213\n",
            "Connecting to www.kasprowski.pl (www.kasprowski.pl)|94.152.164.213|:80... connected.\n",
            "HTTP request sent, awaiting response... 200 OK\n",
            "Length: 2909538 (2.8M) [application/zip]\n",
            "Saving to: ‘events.zip’\n",
            "\n",
            "events.zip          100%[===================>]   2.77M  2.67MB/s    in 1.0s    \n",
            "\n",
            "2022-07-28 09:09:31 (2.67 MB/s) - ‘events.zip’ saved [2909538/2909538]\n",
            "\n"
          ]
        }
      ]
    },
    {
      "cell_type": "code",
      "source": [
        "def openfile(filename):\n",
        "  mat = loadmat(filename)\n",
        "  mdata = mat['ETdata']\n",
        "  mtype = mdata.dtype\n",
        "  ndata = {n: mdata[n][0,0] for n in mtype.names}\n",
        "  data_headline = ndata['pos']\n",
        "  data_headline = data_headline[0]\n",
        "  data_raw = ndata['pos']\n",
        "  pdata = pd.DataFrame(data_raw,columns=data_headline)\n",
        "  df=pd.DataFrame(pdata)\n",
        "  df=pd.DataFrame(pdata)\n",
        "  df[1.0]=df[1.0].astype(int)\n",
        "  x=pdata.iloc[:, 3:5].values\n",
        "  y=pdata.iloc[:, 5].values\n",
        "  print(\"File\",filename,\"opened\")\n",
        "  return x ,y"
      ],
      "metadata": {
        "id": "dO-nPRY88APw"
      },
      "execution_count": null,
      "outputs": []
    },
    {
      "cell_type": "code",
      "source": [
        "x,y=openfile('data/UH21_img_Rome_labelled_RA.mat')\n"
      ],
      "metadata": {
        "colab": {
          "base_uri": "https://localhost:8080/"
        },
        "id": "KFLh9CMy8DmM",
        "outputId": "001cc58d-2283-4ecf-d429-f1da1e31a5ac"
      },
      "execution_count": null,
      "outputs": [
        {
          "output_type": "stream",
          "name": "stdout",
          "text": [
            "File data/UH21_img_Rome_labelled_RA.mat opened\n"
          ]
        }
      ]
    },
    {
      "cell_type": "code",
      "source": [
        "x1, y1=openfile('data/UH21_img_Rome_labelled_MN.mat')\n"
      ],
      "metadata": {
        "colab": {
          "base_uri": "https://localhost:8080/"
        },
        "id": "QokiD6FV8I7s",
        "outputId": "a2742ba6-05bf-4fe1-c30d-5183051a10e2"
      },
      "execution_count": null,
      "outputs": [
        {
          "output_type": "stream",
          "name": "stdout",
          "text": [
            "File data/UH21_img_Rome_labelled_MN.mat opened\n"
          ]
        }
      ]
    },
    {
      "cell_type": "code",
      "source": [
        "from sklearn import ensemble\n",
        "from sklearn.metrics import classification_report, confusion_matrix\n",
        "print(\"RA as ground truth\")\n",
        "print(classification_report(y, y1))\n",
        "print(confusion_matrix(y, y1))\n",
        "CM=confusion_matrix(y, y1)\n",
        "\n",
        "print(\"MN as ground truth\")\n",
        "print(classification_report(y1, y))\n",
        "print(confusion_matrix(y1, y))\n",
        "CM=confusion_matrix(y1, y)\n",
        "\n",
        "## Create LaTEX table!\n",
        "for row in range(CM.shape[0]):\n",
        "  for col in range(CM.shape[1]):\n",
        "    print(CM[row,col],end='& ')\n",
        "  print('\\\\\\\\')  \n"
      ],
      "metadata": {
        "colab": {
          "base_uri": "https://localhost:8080/"
        },
        "id": "nzMvsEMV8dNb",
        "outputId": "a38ff3ad-11c4-47bf-a74a-a0056511b232"
      },
      "execution_count": null,
      "outputs": [
        {
          "output_type": "stream",
          "name": "stdout",
          "text": [
            "RA as ground truth\n",
            "              precision    recall  f1-score   support\n",
            "\n",
            "           1       0.99      0.99      0.99      4165\n",
            "           2       0.92      0.96      0.94       462\n",
            "           3       0.88      0.82      0.85       361\n",
            "\n",
            "    accuracy                           0.97      4988\n",
            "   macro avg       0.93      0.92      0.93      4988\n",
            "weighted avg       0.97      0.97      0.97      4988\n",
            "\n",
            "[[4111   28   26]\n",
            " [   4  444   14]\n",
            " [  54   10  297]]\n",
            "MN as ground truth\n",
            "              precision    recall  f1-score   support\n",
            "\n",
            "           1       0.99      0.99      0.99      4169\n",
            "           2       0.96      0.92      0.94       482\n",
            "           3       0.82      0.88      0.85       337\n",
            "\n",
            "    accuracy                           0.97      4988\n",
            "   macro avg       0.92      0.93      0.93      4988\n",
            "weighted avg       0.97      0.97      0.97      4988\n",
            "\n",
            "[[4111    4   54]\n",
            " [  28  444   10]\n",
            " [  26   14  297]]\n",
            "4111& 4& 54& \\\\\n",
            "28& 444& 10& \\\\\n",
            "26& 14& 297& \\\\\n"
          ]
        }
      ]
    },
    {
      "cell_type": "code",
      "source": [
        "import seaborn as sns\n",
        "cm_normalized=np.round(CM/np.sum(CM, axis=1).reshape(-1, 1), 2)\n",
        "print(cm_normalized)\n",
        "sns.heatmap(cm_normalized, cmap='Blues', annot=True, cbar_kws={\"orientation\": \"vertical\", \"label\": \"color bar\"}, xticklabels=['fix','sac','pso'], yticklabels=['fix', 'sac', 'pso'])\n",
        "plt.xlabel(\"RA classification\")\n",
        "plt.ylabel(\"MN classification\")\n",
        "plt.show()"
      ],
      "metadata": {
        "colab": {
          "base_uri": "https://localhost:8080/",
          "height": 334
        },
        "id": "XoN-sYnG1cea",
        "outputId": "479d7de5-6462-46df-8857-745108b513aa"
      },
      "execution_count": null,
      "outputs": [
        {
          "output_type": "stream",
          "name": "stdout",
          "text": [
            "[[0.99 0.   0.01]\n",
            " [0.06 0.92 0.02]\n",
            " [0.08 0.04 0.88]]\n"
          ]
        },
        {
          "output_type": "display_data",
          "data": {
            "text/plain": [
              "<Figure size 432x288 with 2 Axes>"
            ],
            "image/png": "[encoded data removed]"
          },
          "metadata": {
            "needs_background": "light"
          }
        }
      ]
    },
    {
      "cell_type": "code",
      "source": [
        "from sklearn.metrics import classification_report,accuracy_score, confusion_matrix, precision_score, cohen_kappa_score, recall_score\n",
        "print(cohen_kappa_score(y, y1))\n",
        "print(cohen_kappa_score(y1, y))\n"
      ],
      "metadata": {
        "colab": {
          "base_uri": "https://localhost:8080/"
        },
        "id": "zZcpJ1_zkhlt",
        "outputId": "81080a35-2140-492c-bbae-b24a76b54314"
      },
      "execution_count": null,
      "outputs": [
        {
          "output_type": "stream",
          "name": "stdout",
          "text": [
            "0.9054133078487512\n",
            "0.9054133078487512\n"
          ]
        }
      ]
    }
  ]
}