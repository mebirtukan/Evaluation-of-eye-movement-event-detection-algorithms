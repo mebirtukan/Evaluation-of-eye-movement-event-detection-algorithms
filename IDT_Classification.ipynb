{
  "cells": [
    {
      "cell_type": "markdown",
      "metadata": {
        "id": "view-in-github",
        "colab_type": "text"
      },
      "source": [
        "<a href=\"https://colab.research.google.com/github/mebirtukan/EyeMovementEventDetectionAlgorithms/blob/main/IDT_Classification.ipynb\" target=\"_parent\"><img src=\"https://colab.research.google.com/assets/colab-badge.svg\" alt=\"Open In Colab\"/></a>"
      ]
    },
    {
      "cell_type": "code",
      "execution_count": null,
      "metadata": {
        "id": "7XB8-T_77YJ_"
      },
      "outputs": [],
      "source": [
        "from scipy.io import loadmat\n",
        "import pandas as pd\n",
        "import numpy as np\n",
        "import matplotlib as mpl\n",
        "import matplotlib.pyplot as plt\n",
        "from sklearn.model_selection import train_test_split\n",
        "from tensorflow.keras.preprocessing.sequence import  TimeseriesGenerator\n",
        "from sklearn.preprocessing import MinMaxScaler, StandardScaler\n",
        "import tensorflow as tf\n",
        "from sklearn.metrics import confusion_matrix\n",
        "import matplotlib.pyplot as plt \n",
        "from sklearn.metrics import accuracy_score\n",
        "\n"
      ]
    },
    {
      "cell_type": "code",
      "execution_count": null,
      "metadata": {
        "id": "siIOf6mv7iJv",
        "colab": {
          "base_uri": "https://localhost:8080/"
        },
        "outputId": "a73456a5-eb21-4bff-c3ff-6775cd9fb29a"
      },
      "outputs": [
        {
          "output_type": "stream",
          "name": "stdout",
          "text": [
            "--2022-10-29 14:29:28--  http://www.kasprowski.pl/datasets/events.zip\n",
            "Resolving www.kasprowski.pl (www.kasprowski.pl)... 94.152.164.213\n",
            "Connecting to www.kasprowski.pl (www.kasprowski.pl)|94.152.164.213|:80... connected.\n",
            "HTTP request sent, awaiting response... 200 OK\n",
            "Length: 2909538 (2.8M) [application/zip]\n",
            "Saving to: ‘events.zip’\n",
            "\n",
            "events.zip          100%[===================>]   2.77M  2.43MB/s    in 1.1s    \n",
            "\n",
            "2022-10-29 14:29:30 (2.43 MB/s) - ‘events.zip’ saved [2909538/2909538]\n",
            "\n"
          ]
        }
      ],
      "source": [
        "!wget www.kasprowski.pl/datasets/events.zip\n",
        "!unzip events.zip > xxxy"
      ]
    },
    {
      "cell_type": "code",
      "source": [
        "\n",
        "def openfile(filename):\n",
        "  mat = loadmat(filename)\n",
        "  mdata = mat['ETdata']\n",
        "  mtype = mdata.dtype\n",
        "  ndata = {n: mdata[n][0,0] for n in mtype.names}\n",
        "  ndata\n",
        "\n",
        "  data_headline = ndata['pos']\n",
        "  print(data_headline)\n",
        "  data_headline = data_headline[0]\n",
        "  data_raw = ndata['pos']\n",
        "  len(data_raw)\n",
        "  pdata = pd.DataFrame(data_raw,columns=data_headline)\n",
        "  df=pd.DataFrame(pdata)\n",
        "  df=pd.DataFrame(pdata)\n",
        "  df.dtypes\n",
        "  df[1.0]=df[1.0].astype(int)\n",
        "  df[1.0].dtypes\n",
        "  x=pdata.iloc[:, 3:5].values\n",
        "  y=pdata.iloc[:, 5].values\n",
        "  x[0]\n",
        "  x.shape[0]\n",
        "  return x ,y"
      ],
      "metadata": {
        "id": "Au7AecocPx3O"
      },
      "execution_count": null,
      "outputs": []
    },
    {
      "cell_type": "code",
      "source": [
        "## we don't use it here for now\n",
        "def open_list_of_files(files_to_load):\n",
        "  samples = []\n",
        "  labels =[]\n",
        "  for my_file in files_to_load:\n",
        "    sam,lab = openfile(my_file)\n",
        "    #ssam,slab = make_sequences(sam,lab,50)\n",
        "    print('Number of samples so far:',len(samples))\n",
        "    samples.extend(sam)\n",
        "    labels.extend(lab)\n",
        "  samples = np.array(samples)\n",
        "  labels = np.array(labels)\n",
        "  print('Number of samples at the end:',len(samples))\n",
        "  return samples,labels\n",
        "files_to_load = ['data/UH33_img_vy_labelled_MN.mat','data/UH47_img_Europe_labelled_RA.mat','data/UH21_img_Rome_labelled_MN.mat']\n",
        "#files_to_load = ['data/TH34_img_Europe_labelled_MN.mat', 'data/UH21_img_Rome_labelled_RA.mat', 'data/UH47_img_Europe_labelled_MN.mat', 'data/UH27_img_vy_labelled_MN.mat']\n",
        "\n",
        "#s,l = open_list_of_files(files_to_load)\n",
        "x,y=open_list_of_files(files_to_load)\n",
        "#print(x.shape)\n",
        "#print(y.shape)\n",
        "#print(s1.shape)\n",
        "#print(l1.shape)"
      ],
      "metadata": {
        "colab": {
          "base_uri": "https://localhost:8080/"
        },
        "id": "VzR7gUgCY1eg",
        "outputId": "a4d1acb0-a1cc-45aa-d466-6e585dde9339"
      },
      "execution_count": null,
      "outputs": [
        {
          "output_type": "stream",
          "name": "stdout",
          "text": [
            "[[3.92137817e+09 2.30000000e+01 2.20000000e+01 5.13900500e+02\n",
            "  4.03585700e+02 1.00000000e+00]\n",
            " [3.92138017e+09 2.30000000e+01 2.20000000e+01 5.14502200e+02\n",
            "  4.03069100e+02 1.00000000e+00]\n",
            " [3.92138217e+09 2.30000000e+01 2.20000000e+01 5.14937900e+02\n",
            "  4.03189600e+02 1.00000000e+00]\n",
            " ...\n",
            " [3.93135019e+09 2.50000000e+01 2.40000000e+01 5.53063700e+02\n",
            "  5.37588400e+02 1.00000000e+00]\n",
            " [3.93135219e+09 2.50000000e+01 2.40000000e+01 5.53479800e+02\n",
            "  5.37836700e+02 1.00000000e+00]\n",
            " [3.93135419e+09 2.50000000e+01 2.40000000e+01 5.52668200e+02\n",
            "  5.37910200e+02 1.00000000e+00]]\n",
            "Number of samples so far: 0\n",
            "[[2.59371216e+09 2.10000000e+01 2.10000000e+01 5.04312800e+02\n",
            "  3.94728500e+02 1.00000000e+00]\n",
            " [2.59371716e+09 2.10000000e+01 2.10000000e+01 5.04939200e+02\n",
            "  3.94330800e+02 1.00000000e+00]\n",
            " [2.59372216e+09 2.10000000e+01 2.10000000e+01 5.05242100e+02\n",
            "  3.93573200e+02 1.00000000e+00]\n",
            " ...\n",
            " [2.60368213e+09 2.40000000e+01 2.40000000e+01 7.46249600e+02\n",
            "  3.18997200e+02 1.00000000e+00]\n",
            " [2.60368712e+09 2.40000000e+01 2.40000000e+01 7.46052900e+02\n",
            "  3.19014400e+02 1.00000000e+00]\n",
            " [2.60369212e+09 2.40000000e+01 2.40000000e+01 7.45669600e+02\n",
            "  3.19392200e+02 1.00000000e+00]]\n",
            "Number of samples so far: 4988\n",
            "[[6.78053517e+09 2.20000000e+01 2.30000000e+01 5.53437900e+02\n",
            "  4.12084800e+02 1.00000000e+00]\n",
            " [6.78053717e+09 2.20000000e+01 2.30000000e+01 5.54019700e+02\n",
            "  4.12477500e+02 1.00000000e+00]\n",
            " [6.78053917e+09 2.20000000e+01 2.30000000e+01 5.54564700e+02\n",
            "  4.12221400e+02 1.00000000e+00]\n",
            " ...\n",
            " [6.79050722e+09 2.50000000e+01 2.80000000e+01 4.88114900e+02\n",
            "  6.36379100e+02 1.00000000e+00]\n",
            " [6.79050922e+09 2.50000000e+01 2.70000000e+01 4.88146100e+02\n",
            "  6.36474000e+02 1.00000000e+00]\n",
            " [6.79051122e+09 2.50000000e+01 2.80000000e+01 4.89047300e+02\n",
            "  6.36165000e+02 1.00000000e+00]]\n",
            "Number of samples so far: 6985\n",
            "Number of samples at the end: 11973\n"
          ]
        }
      ]
    },
    {
      "cell_type": "code",
      "source": [],
      "metadata": {
        "id": "nMN7FznXY1RF"
      },
      "execution_count": null,
      "outputs": []
    },
    {
      "cell_type": "code",
      "source": [
        "#x,y=openfile('data/UH33_img_vy_labelled_MN.mat')"
      ],
      "metadata": {
        "id": "ee3ipAPhP17h"
      },
      "execution_count": null,
      "outputs": []
    },
    {
      "cell_type": "code",
      "source": [
        "# sequence \n",
        "def make_sequences(samples, labels, sequence_dim = 100, sequence_lag = 1, sequence_attributes = 2):\n",
        "    nsamples = []\n",
        "    nlabels = [] \n",
        "    for i in range(0,samples.shape[0]-sequence_dim,sequence_lag):\n",
        "            nsample = np.zeros((sequence_dim,sequence_attributes))\n",
        "            for j in range(i,i+sequence_dim):\n",
        "                nsample[j-i,0] = samples[j,0]\n",
        "                nsample[j-i,1] = samples[j,1]\n",
        "            nlabel = labels[i+sequence_dim//2]\n",
        "            nsamples.append(nsample)\n",
        "            nlabels.append(nlabel)\n",
        "        \n",
        "    samples = np.array(nsamples)\n",
        "    labels = np.array(nlabels)\n",
        "    return samples,labels "
      ],
      "metadata": {
        "id": "lFTwuULFmEkx"
      },
      "execution_count": null,
      "outputs": []
    },
    {
      "cell_type": "code",
      "source": [
        "sequence_dim = 2\n",
        "print(\"Converting to sequences of length {}\".format(sequence_dim))\n",
        "X,Y = make_sequences(x, y, sequence_dim)\n",
        "#x1,y1 = make_sequences(s1, l1, sequence_dim)\n",
        "print(\"done:\",X.shape )"
      ],
      "metadata": {
        "colab": {
          "base_uri": "https://localhost:8080/"
        },
        "id": "H_8OL5RcPZ8m",
        "outputId": "d00d324e-ec4c-4fe0-a00d-b99d0c457584"
      },
      "execution_count": null,
      "outputs": [
        {
          "output_type": "stream",
          "name": "stdout",
          "text": [
            "Converting to sequences of length 2\n",
            "done: (11971, 2, 2)\n"
          ]
        }
      ]
    },
    {
      "cell_type": "code",
      "source": [
        "#X = X.reshape(-1, sequence_dim*2)\n",
        "x.shape"
      ],
      "metadata": {
        "id": "Vr4BDwXRPd3L",
        "colab": {
          "base_uri": "https://localhost:8080/"
        },
        "outputId": "cd613bf9-f97c-43b8-d0b1-d2a37b106957"
      },
      "execution_count": null,
      "outputs": [
        {
          "output_type": "execute_result",
          "data": {
            "text/plain": [
              "(11973, 2)"
            ]
          },
          "metadata": {},
          "execution_count": 8
        }
      ]
    },
    {
      "cell_type": "code",
      "source": [
        "type(X)\n"
      ],
      "metadata": {
        "colab": {
          "base_uri": "https://localhost:8080/"
        },
        "id": "RaC8IOFHUpFt",
        "outputId": "76cdd3f9-e417-4cd5-83ee-debe3a677887"
      },
      "execution_count": null,
      "outputs": [
        {
          "output_type": "execute_result",
          "data": {
            "text/plain": [
              "numpy.ndarray"
            ]
          },
          "metadata": {},
          "execution_count": 9
        }
      ]
    },
    {
      "cell_type": "code",
      "source": [
        "X[0][1]"
      ],
      "metadata": {
        "colab": {
          "base_uri": "https://localhost:8080/"
        },
        "id": "onDUPWwZUm1V",
        "outputId": "93fdba48-46ef-44a2-9a53-691f59d378da"
      },
      "execution_count": null,
      "outputs": [
        {
          "output_type": "execute_result",
          "data": {
            "text/plain": [
              "array([514.5022, 403.0691])"
            ]
          },
          "metadata": {},
          "execution_count": 10
        }
      ]
    },
    {
      "cell_type": "code",
      "source": [
        "#calculate dsipersion for sequence of previous to next samples"
      ],
      "metadata": {
        "id": "Jb6bVDcexLuL"
      },
      "execution_count": null,
      "outputs": []
    },
    {
      "cell_type": "code",
      "source": [
        "from scipy.spatial import distance\n",
        "import csv\n",
        "import numpy as np\n",
        "\n",
        "def calcu_disp(data, disp_thres):\n",
        "  Xs = data[:,[0]]\n",
        "  Ys = data[:,[1]]\n",
        "\n",
        "  \n",
        "  disper = [] #x values difference\n",
        "  #Y = [] #y values difference \n",
        "  #Dispersion=[]\n",
        "  mvmts=[]\n",
        "\n",
        "  for i in range(len(data) - 1):\n",
        "    if i>=sequence_dim:\n",
        "      disper.append(max((Xs[i-sequence_dim:i+sequence_dim])) - min((Xs[i-sequence_dim:i+sequence_dim]) )+(max(Ys[i-sequence_dim:i+sequence_dim]) - min(Ys[i-sequence_dim:i:i+sequence_dim]) ))\n",
        "    else:\n",
        "      disper.append(0)\n",
        "    #Y.append(max(Ys[i:i+sequence_dim]) - min(Ys[i:i+sequence_dim]) )\n",
        "  #Dispersion=(X+Y)\n",
        "  #Dispersion=np.absolute(Dispersion)\n",
        "  Dispersion=np.absolute(disper)\n",
        "  print(Dispersion)\n",
        "  print('Max Dipersion=', max(Dispersion))\n",
        "  print('min disp=', min(Dispersion))\n",
        "\n",
        "  for D in Dispersion:\n",
        "    if(D<disp_thres):\n",
        "      mvmts.append(1)\n",
        "    else:\n",
        "        mvmts.append(2)\n",
        "  return mvmts\n",
        "  #store 1 in mvmts[] if dispersion is less than threshold else store 2\n",
        "  \n",
        "y1=calcu_disp(x, disp_thres=0.1)\n",
        "  \n",
        "\n",
        "  \n",
        "\n",
        "\n"
      ],
      "metadata": {
        "colab": {
          "base_uri": "https://localhost:8080/"
        },
        "id": "ha17e_xCW8uP",
        "outputId": "1832b059-779b-4475-f4db-9fcd4bd43481"
      },
      "execution_count": null,
      "outputs": [
        {
          "output_type": "stream",
          "name": "stdout",
          "text": [
            "[0 0 array([1.1189]) ... array([1.0922]) array([1.1399]) array([1.3899])]\n",
            "Max Dipersion= [327.9998]\n",
            "min disp= 0\n"
          ]
        },
        {
          "output_type": "stream",
          "name": "stderr",
          "text": [
            "/usr/local/lib/python3.7/dist-packages/ipykernel_launcher.py:23: VisibleDeprecationWarning: Creating an ndarray from ragged nested sequences (which is a list-or-tuple of lists-or-tuples-or ndarrays with different lengths or shapes) is deprecated. If you meant to do this, you must specify 'dtype=object' when creating the ndarray.\n"
          ]
        }
      ]
    },
    {
      "cell_type": "code",
      "source": [
        "#calculate dsipersion for sequence of current to next samples"
      ],
      "metadata": {
        "id": "L1_zmZPexhx9"
      },
      "execution_count": null,
      "outputs": []
    },
    {
      "cell_type": "code",
      "source": [
        "y_pred=np.array(y1)"
      ],
      "metadata": {
        "id": "tzfcWoxUkctX"
      },
      "execution_count": null,
      "outputs": []
    },
    {
      "cell_type": "code",
      "source": [
        "len(y_pred),"
      ],
      "metadata": {
        "id": "CioEOXjQkXzc",
        "colab": {
          "base_uri": "https://localhost:8080/"
        },
        "outputId": "1d9569ec-100f-45de-d6ce-3124f37b4442"
      },
      "execution_count": null,
      "outputs": [
        {
          "output_type": "execute_result",
          "data": {
            "text/plain": [
              "(11972,)"
            ]
          },
          "metadata": {},
          "execution_count": 15
        }
      ]
    },
    {
      "cell_type": "code",
      "source": [
        "thresholds=[0, 1.0, 1.5, 2.0, 2.5, 3.0, 3.5, 4.0, 4.5, 5.0, 5.5, 6.0, 6.5, 7, 7.5, 8, 9, 10, 12,13, 14, 15, 16, 20, 22, 25, 30, 35, 50]\n"
      ],
      "metadata": {
        "id": "cOKwUDxUi6pB"
      },
      "execution_count": null,
      "outputs": []
    },
    {
      "cell_type": "code",
      "execution_count": null,
      "metadata": {
        "id": "lqK9JerPNtYP"
      },
      "outputs": [],
      "source": []
    },
    {
      "cell_type": "code",
      "source": [
        "#thresholds=[x/10 for x in range(0,50)]\n",
        "#y=y[:-1]\n",
        "from sklearn.metrics import classification_report,accuracy_score, confusion_matrix, precision_score, cohen_kappa_score, recall_score\n",
        "fixation_recall=[]\n",
        "fixation_precision=[]\n",
        "fixation_f1_score=[]\n",
        "saccade_recall=[]\n",
        "saccade_precision=[]\n",
        "saccade_f1_score=[]\n",
        "\n",
        "\n",
        "for t in thresholds:\n",
        "  y1=calcu_disp(x, disp_thres=t)\n",
        "  y_pred=np.array(y1)\n",
        "    #y_pred=np.array(y1)\n",
        "  y_pred=(y_pred[:-1])\n",
        "  #print(len(y_real))\n",
        " # print(len(y_pred))\n",
        "  cm=confusion_matrix(y, y_pred)\n",
        "  #print(cm)\n",
        "  print(classification_report(y,y_pred))\n",
        "  print('Kochen kappa for threshold', t, cohen_kappa_score(y, y_pred))\n",
        "  #print(classification_report(y,y_pred['f1-score']))\n",
        "  #Fixation accuracy calculation\n",
        "  sumf=cm[0][0]+cm[0][1]\n",
        "  Tc=cm[0][0]\n",
        "  fixation_recall.append(Tc*100/sumf)\n",
        "  print('Fixation recall at threshol',t, 'is', fixation_recall[-1])\n",
        "  #fixation precision \n",
        "  sumfp=cm[0][0]+cm[1][0]\n",
        "  Tcfp=cm[0][0]\n",
        "  fixation_precision.append(Tcfp*100/sumfp)\n",
        "  print('Fixation precission at threshold', t, 'is', fixation_precision[-1])\n",
        "  #fixation f1_score\n",
        "  multiple_recal_prec=2*((Tcfp*100/sumfp)*(Tc*100/sumf))\n",
        "  add_recall_prec=((Tc*100/sumf)+Tcfp*100/sumfp)\n",
        "  result_f1_score=multiple_recal_prec/add_recall_prec\n",
        "  fixation_f1_score.append(result_f1_score)\n",
        "  print('fixation_f1_score for threshold', t, 'is', fixation_f1_score[-1])\n",
        "  #Saccade accuracy calculation\n",
        "  sums=cm[1][0]+cm[1][1]\n",
        "  Tcs=cm[1][1]\n",
        "  saccade_recall.append(Tcs*100/sums)\n",
        "  print('Saccade recall at threshol',t, 'is', saccade_recall[-1])\n",
        "  #Saccade precison\n",
        "  sum_saccP=cm[0][1]+cm[1][1]\n",
        "  Tc_saccP=cm[1][1]\n",
        "  saccade_precision.append(Tc_saccP*100/sum_saccP)\n",
        "  print('saccade_precision for threshold', t, 'is', saccade_precision[-1])\n",
        "  #saccade f1_score\n",
        "  multiply=2*((Tc_saccP*100/sum_saccP)*(Tcs*100/sums))\n",
        "  addition=(Tcs*100/sums)+(Tc_saccP*100/sum_saccP)\n",
        "  saccade_f1_score.append(multiply/addition)\n",
        "  print('saccade_f1_score for threshold', t, 'is', saccade_f1_score[-1])\n",
        "  \n",
        "  \n",
        "  "
      ],
      "metadata": {
        "colab": {
          "base_uri": "https://localhost:8080/"
        },
        "id": "kwIo8KgPGxQO",
        "outputId": "0f0f30ee-aa5f-4034-f00a-d8c0c2e04a99"
      },
      "execution_count": null,
      "outputs": [
        {
          "output_type": "stream",
          "name": "stderr",
          "text": [
            "/usr/local/lib/python3.7/dist-packages/ipykernel_launcher.py:23: VisibleDeprecationWarning: Creating an ndarray from ragged nested sequences (which is a list-or-tuple of lists-or-tuples-or ndarrays with different lengths or shapes) is deprecated. If you meant to do this, you must specify 'dtype=object' when creating the ndarray.\n",
            "/usr/local/lib/python3.7/dist-packages/sklearn/metrics/_classification.py:1318: UndefinedMetricWarning: Precision and F-score are ill-defined and being set to 0.0 in labels with no predicted samples. Use `zero_division` parameter to control this behavior.\n",
            "  _warn_prf(average, modifier, msg_start, len(result))\n",
            "/usr/local/lib/python3.7/dist-packages/sklearn/metrics/_classification.py:1318: UndefinedMetricWarning: Precision and F-score are ill-defined and being set to 0.0 in labels with no predicted samples. Use `zero_division` parameter to control this behavior.\n",
            "  _warn_prf(average, modifier, msg_start, len(result))\n",
            "/usr/local/lib/python3.7/dist-packages/sklearn/metrics/_classification.py:1318: UndefinedMetricWarning: Precision and F-score are ill-defined and being set to 0.0 in labels with no predicted samples. Use `zero_division` parameter to control this behavior.\n",
            "  _warn_prf(average, modifier, msg_start, len(result))\n",
            "/usr/local/lib/python3.7/dist-packages/ipykernel_launcher.py:32: RuntimeWarning: invalid value encountered in long_scalars\n",
            "/usr/local/lib/python3.7/dist-packages/ipykernel_launcher.py:35: RuntimeWarning: invalid value encountered in long_scalars\n",
            "/usr/local/lib/python3.7/dist-packages/ipykernel_launcher.py:36: RuntimeWarning: invalid value encountered in long_scalars\n"
          ]
        },
        {
          "output_type": "stream",
          "name": "stdout",
          "text": [
            "[0 0 array([1.1189]) ... array([1.0922]) array([1.1399]) array([1.3899])]\n",
            "Max Dipersion= [327.9998]\n",
            "min disp= 0\n",
            "              precision    recall  f1-score   support\n",
            "\n",
            "           1       0.00      0.00      0.00     10091\n",
            "           2       0.10      1.00      0.18      1196\n",
            "           3       0.00      0.00      0.00       684\n",
            "\n",
            "    accuracy                           0.10     11971\n",
            "   macro avg       0.03      0.33      0.06     11971\n",
            "weighted avg       0.01      0.10      0.02     11971\n",
            "\n",
            "Kochen kappa for threshold 0 0.0\n",
            "Fixation recall at threshol 0 is 0.0\n",
            "Fixation precission at threshold 0 is nan\n",
            "fixation_f1_score for threshold 0 is nan\n",
            "Saccade recall at threshol 0 is 100.0\n",
            "saccade_precision for threshold 0 is 10.596261185434571\n",
            "saccade_f1_score for threshold 0 is 19.16206040214692\n"
          ]
        },
        {
          "output_type": "stream",
          "name": "stderr",
          "text": [
            "/usr/local/lib/python3.7/dist-packages/ipykernel_launcher.py:23: VisibleDeprecationWarning: Creating an ndarray from ragged nested sequences (which is a list-or-tuple of lists-or-tuples-or ndarrays with different lengths or shapes) is deprecated. If you meant to do this, you must specify 'dtype=object' when creating the ndarray.\n",
            "/usr/local/lib/python3.7/dist-packages/sklearn/metrics/_classification.py:1318: UndefinedMetricWarning: Precision and F-score are ill-defined and being set to 0.0 in labels with no predicted samples. Use `zero_division` parameter to control this behavior.\n",
            "  _warn_prf(average, modifier, msg_start, len(result))\n",
            "/usr/local/lib/python3.7/dist-packages/sklearn/metrics/_classification.py:1318: UndefinedMetricWarning: Precision and F-score are ill-defined and being set to 0.0 in labels with no predicted samples. Use `zero_division` parameter to control this behavior.\n",
            "  _warn_prf(average, modifier, msg_start, len(result))\n",
            "/usr/local/lib/python3.7/dist-packages/sklearn/metrics/_classification.py:1318: UndefinedMetricWarning: Precision and F-score are ill-defined and being set to 0.0 in labels with no predicted samples. Use `zero_division` parameter to control this behavior.\n",
            "  _warn_prf(average, modifier, msg_start, len(result))\n"
          ]
        },
        {
          "output_type": "stream",
          "name": "stdout",
          "text": [
            "[0 0 array([1.1189]) ... array([1.0922]) array([1.1399]) array([1.3899])]\n",
            "Max Dipersion= [327.9998]\n",
            "min disp= 0\n",
            "              precision    recall  f1-score   support\n",
            "\n",
            "           1       0.99      0.39      0.56     10091\n",
            "           2       0.15      0.99      0.26      1196\n",
            "           3       0.00      0.00      0.00       684\n",
            "\n",
            "    accuracy                           0.43     11971\n",
            "   macro avg       0.38      0.46      0.27     11971\n",
            "weighted avg       0.85      0.43      0.50     11971\n",
            "\n",
            "Kochen kappa for threshold 1.0 0.12574331687579998\n",
            "Fixation recall at threshol 1.0 is 38.9951441878902\n",
            "Fixation precission at threshold 1.0 is 99.82242516489092\n",
            "fixation_f1_score for threshold 1.0 is 56.08209221121642\n",
            "Saccade recall at threshol 1.0 is 99.41471571906355\n",
            "saccade_precision for threshold 1.0 is 16.18788291354663\n",
            "saccade_f1_score for threshold 1.0 is 27.8421730476525\n"
          ]
        },
        {
          "output_type": "stream",
          "name": "stderr",
          "text": [
            "/usr/local/lib/python3.7/dist-packages/ipykernel_launcher.py:23: VisibleDeprecationWarning: Creating an ndarray from ragged nested sequences (which is a list-or-tuple of lists-or-tuples-or ndarrays with different lengths or shapes) is deprecated. If you meant to do this, you must specify 'dtype=object' when creating the ndarray.\n",
            "/usr/local/lib/python3.7/dist-packages/sklearn/metrics/_classification.py:1318: UndefinedMetricWarning: Precision and F-score are ill-defined and being set to 0.0 in labels with no predicted samples. Use `zero_division` parameter to control this behavior.\n",
            "  _warn_prf(average, modifier, msg_start, len(result))\n",
            "/usr/local/lib/python3.7/dist-packages/sklearn/metrics/_classification.py:1318: UndefinedMetricWarning: Precision and F-score are ill-defined and being set to 0.0 in labels with no predicted samples. Use `zero_division` parameter to control this behavior.\n",
            "  _warn_prf(average, modifier, msg_start, len(result))\n",
            "/usr/local/lib/python3.7/dist-packages/sklearn/metrics/_classification.py:1318: UndefinedMetricWarning: Precision and F-score are ill-defined and being set to 0.0 in labels with no predicted samples. Use `zero_division` parameter to control this behavior.\n",
            "  _warn_prf(average, modifier, msg_start, len(result))\n"
          ]
        },
        {
          "output_type": "stream",
          "name": "stdout",
          "text": [
            "[0 0 array([1.1189]) ... array([1.0922]) array([1.1399]) array([1.3899])]\n",
            "Max Dipersion= [327.9998]\n",
            "min disp= 0\n",
            "              precision    recall  f1-score   support\n",
            "\n",
            "           1       0.99      0.62      0.77     10091\n",
            "           2       0.21      0.98      0.35      1196\n",
            "           3       0.00      0.00      0.00       684\n",
            "\n",
            "    accuracy                           0.62     11971\n",
            "   macro avg       0.40      0.54      0.37     11971\n",
            "weighted avg       0.86      0.62      0.68     11971\n",
            "\n",
            "Kochen kappa for threshold 1.5 0.2566121023256879\n",
            "Fixation recall at threshol 1.5 is 62.33277177683084\n",
            "Fixation precission at threshold 1.5 is 99.714648065948\n",
            "fixation_f1_score for threshold 1.5 is 76.71199463381915\n",
            "Saccade recall at threshol 1.5 is 98.49498327759197\n",
            "saccade_precision for threshold 1.5 is 23.659369351275355\n",
            "saccade_f1_score for threshold 1.5 is 38.153846153846146\n"
          ]
        },
        {
          "output_type": "stream",
          "name": "stderr",
          "text": [
            "/usr/local/lib/python3.7/dist-packages/ipykernel_launcher.py:23: VisibleDeprecationWarning: Creating an ndarray from ragged nested sequences (which is a list-or-tuple of lists-or-tuples-or ndarrays with different lengths or shapes) is deprecated. If you meant to do this, you must specify 'dtype=object' when creating the ndarray.\n",
            "/usr/local/lib/python3.7/dist-packages/sklearn/metrics/_classification.py:1318: UndefinedMetricWarning: Precision and F-score are ill-defined and being set to 0.0 in labels with no predicted samples. Use `zero_division` parameter to control this behavior.\n",
            "  _warn_prf(average, modifier, msg_start, len(result))\n",
            "/usr/local/lib/python3.7/dist-packages/sklearn/metrics/_classification.py:1318: UndefinedMetricWarning: Precision and F-score are ill-defined and being set to 0.0 in labels with no predicted samples. Use `zero_division` parameter to control this behavior.\n",
            "  _warn_prf(average, modifier, msg_start, len(result))\n",
            "/usr/local/lib/python3.7/dist-packages/sklearn/metrics/_classification.py:1318: UndefinedMetricWarning: Precision and F-score are ill-defined and being set to 0.0 in labels with no predicted samples. Use `zero_division` parameter to control this behavior.\n",
            "  _warn_prf(average, modifier, msg_start, len(result))\n"
          ]
        },
        {
          "output_type": "stream",
          "name": "stdout",
          "text": [
            "[0 0 array([1.1189]) ... array([1.0922]) array([1.1399]) array([1.3899])]\n",
            "Max Dipersion= [327.9998]\n",
            "min disp= 0\n",
            "              precision    recall  f1-score   support\n",
            "\n",
            "           1       0.99      0.78      0.87     10091\n",
            "           2       0.29      0.98      0.45      1196\n",
            "           3       0.00      0.00      0.00       684\n",
            "\n",
            "    accuracy                           0.75     11971\n",
            "   macro avg       0.43      0.59      0.44     11971\n",
            "weighted avg       0.86      0.75      0.78     11971\n",
            "\n",
            "Kochen kappa for threshold 2.0 0.3956099629813057\n",
            "Fixation recall at threshol 2.0 is 77.95064909325141\n",
            "Fixation precission at threshold 2.0 is 99.63267891070298\n",
            "fixation_f1_score for threshold 2.0 is 87.46803069053709\n",
            "Saccade recall at threshol 2.0 is 97.5752508361204\n",
            "saccade_precision for threshold 2.0 is 34.404481132075475\n",
            "saccade_f1_score for threshold 2.0 is 50.871839581516994\n"
          ]
        },
        {
          "output_type": "stream",
          "name": "stderr",
          "text": [
            "/usr/local/lib/python3.7/dist-packages/ipykernel_launcher.py:23: VisibleDeprecationWarning: Creating an ndarray from ragged nested sequences (which is a list-or-tuple of lists-or-tuples-or ndarrays with different lengths or shapes) is deprecated. If you meant to do this, you must specify 'dtype=object' when creating the ndarray.\n",
            "/usr/local/lib/python3.7/dist-packages/sklearn/metrics/_classification.py:1318: UndefinedMetricWarning: Precision and F-score are ill-defined and being set to 0.0 in labels with no predicted samples. Use `zero_division` parameter to control this behavior.\n",
            "  _warn_prf(average, modifier, msg_start, len(result))\n",
            "/usr/local/lib/python3.7/dist-packages/sklearn/metrics/_classification.py:1318: UndefinedMetricWarning: Precision and F-score are ill-defined and being set to 0.0 in labels with no predicted samples. Use `zero_division` parameter to control this behavior.\n",
            "  _warn_prf(average, modifier, msg_start, len(result))\n",
            "/usr/local/lib/python3.7/dist-packages/sklearn/metrics/_classification.py:1318: UndefinedMetricWarning: Precision and F-score are ill-defined and being set to 0.0 in labels with no predicted samples. Use `zero_division` parameter to control this behavior.\n",
            "  _warn_prf(average, modifier, msg_start, len(result))\n"
          ]
        },
        {
          "output_type": "stream",
          "name": "stdout",
          "text": [
            "[0 0 array([1.1189]) ... array([1.0922]) array([1.1399]) array([1.3899])]\n",
            "Max Dipersion= [327.9998]\n",
            "min disp= 0\n",
            "              precision    recall  f1-score   support\n",
            "\n",
            "           1       0.99      0.87      0.92     10091\n",
            "           2       0.37      0.96      0.54      1196\n",
            "           3       0.00      0.00      0.00       684\n",
            "\n",
            "    accuracy                           0.83     11971\n",
            "   macro avg       0.45      0.61      0.49     11971\n",
            "weighted avg       0.87      0.83      0.83     11971\n",
            "\n",
            "Kochen kappa for threshold 2.5 0.5057389100335046\n",
            "Fixation recall at threshol 2.5 is 86.80011891784758\n",
            "Fixation precission at threshold 2.5 is 99.50017039645576\n",
            "fixation_f1_score for threshold 2.5 is 92.71726474012915\n",
            "Saccade recall at threshol 2.5 is 96.32107023411372\n",
            "saccade_precision for threshold 2.5 is 46.3768115942029\n",
            "saccade_f1_score for threshold 2.5 is 62.60869565217392\n"
          ]
        },
        {
          "output_type": "stream",
          "name": "stderr",
          "text": [
            "/usr/local/lib/python3.7/dist-packages/ipykernel_launcher.py:23: VisibleDeprecationWarning: Creating an ndarray from ragged nested sequences (which is a list-or-tuple of lists-or-tuples-or ndarrays with different lengths or shapes) is deprecated. If you meant to do this, you must specify 'dtype=object' when creating the ndarray.\n",
            "/usr/local/lib/python3.7/dist-packages/sklearn/metrics/_classification.py:1318: UndefinedMetricWarning: Precision and F-score are ill-defined and being set to 0.0 in labels with no predicted samples. Use `zero_division` parameter to control this behavior.\n",
            "  _warn_prf(average, modifier, msg_start, len(result))\n",
            "/usr/local/lib/python3.7/dist-packages/sklearn/metrics/_classification.py:1318: UndefinedMetricWarning: Precision and F-score are ill-defined and being set to 0.0 in labels with no predicted samples. Use `zero_division` parameter to control this behavior.\n",
            "  _warn_prf(average, modifier, msg_start, len(result))\n",
            "/usr/local/lib/python3.7/dist-packages/sklearn/metrics/_classification.py:1318: UndefinedMetricWarning: Precision and F-score are ill-defined and being set to 0.0 in labels with no predicted samples. Use `zero_division` parameter to control this behavior.\n",
            "  _warn_prf(average, modifier, msg_start, len(result))\n"
          ]
        },
        {
          "output_type": "stream",
          "name": "stdout",
          "text": [
            "[0 0 array([1.1189]) ... array([1.0922]) array([1.1399]) array([1.3899])]\n",
            "Max Dipersion= [327.9998]\n",
            "min disp= 0\n",
            "              precision    recall  f1-score   support\n",
            "\n",
            "           1       0.98      0.92      0.95     10091\n",
            "           2       0.45      0.95      0.61      1196\n",
            "           3       0.00      0.00      0.00       684\n",
            "\n",
            "    accuracy                           0.87     11971\n",
            "   macro avg       0.48      0.62      0.52     11971\n",
            "weighted avg       0.87      0.87      0.86     11971\n",
            "\n",
            "Kochen kappa for threshold 3.0 0.5839592043265782\n",
            "Fixation recall at threshol 3.0 is 92.01268457040928\n",
            "Fixation precission at threshold 3.0 is 99.3048128342246\n",
            "fixation_f1_score for threshold 3.0 is 95.51977778920838\n",
            "Saccade recall at threshol 3.0 is 94.56521739130434\n",
            "saccade_precision for threshold 3.0 is 58.38926174496644\n",
            "saccade_f1_score for threshold 3.0 is 72.19917012448133\n"
          ]
        },
        {
          "output_type": "stream",
          "name": "stderr",
          "text": [
            "/usr/local/lib/python3.7/dist-packages/ipykernel_launcher.py:23: VisibleDeprecationWarning: Creating an ndarray from ragged nested sequences (which is a list-or-tuple of lists-or-tuples-or ndarrays with different lengths or shapes) is deprecated. If you meant to do this, you must specify 'dtype=object' when creating the ndarray.\n",
            "/usr/local/lib/python3.7/dist-packages/sklearn/metrics/_classification.py:1318: UndefinedMetricWarning: Precision and F-score are ill-defined and being set to 0.0 in labels with no predicted samples. Use `zero_division` parameter to control this behavior.\n",
            "  _warn_prf(average, modifier, msg_start, len(result))\n",
            "/usr/local/lib/python3.7/dist-packages/sklearn/metrics/_classification.py:1318: UndefinedMetricWarning: Precision and F-score are ill-defined and being set to 0.0 in labels with no predicted samples. Use `zero_division` parameter to control this behavior.\n",
            "  _warn_prf(average, modifier, msg_start, len(result))\n",
            "/usr/local/lib/python3.7/dist-packages/sklearn/metrics/_classification.py:1318: UndefinedMetricWarning: Precision and F-score are ill-defined and being set to 0.0 in labels with no predicted samples. Use `zero_division` parameter to control this behavior.\n",
            "  _warn_prf(average, modifier, msg_start, len(result))\n"
          ]
        },
        {
          "output_type": "stream",
          "name": "stdout",
          "text": [
            "[0 0 array([1.1189]) ... array([1.0922]) array([1.1399]) array([1.3899])]\n",
            "Max Dipersion= [327.9998]\n",
            "min disp= 0\n",
            "              precision    recall  f1-score   support\n",
            "\n",
            "           1       0.98      0.95      0.96     10091\n",
            "           2       0.51      0.93      0.66      1196\n",
            "           3       0.00      0.00      0.00       684\n",
            "\n",
            "    accuracy                           0.89     11971\n",
            "   macro avg       0.49      0.63      0.54     11971\n",
            "weighted avg       0.87      0.89      0.88     11971\n",
            "\n",
            "Kochen kappa for threshold 3.5 0.6262841793880973\n",
            "Fixation recall at threshol 3.5 is 94.62887721732237\n",
            "Fixation precission at threshold 3.5 is 99.11770811708533\n",
            "fixation_f1_score for threshold 3.5 is 96.8212927756654\n",
            "Saccade recall at threshol 3.5 is 92.89297658862876\n",
            "saccade_precision for threshold 3.5 is 67.21113127646703\n",
            "saccade_f1_score for threshold 3.5 is 77.99227799227799\n"
          ]
        },
        {
          "output_type": "stream",
          "name": "stderr",
          "text": [
            "/usr/local/lib/python3.7/dist-packages/ipykernel_launcher.py:23: VisibleDeprecationWarning: Creating an ndarray from ragged nested sequences (which is a list-or-tuple of lists-or-tuples-or ndarrays with different lengths or shapes) is deprecated. If you meant to do this, you must specify 'dtype=object' when creating the ndarray.\n",
            "/usr/local/lib/python3.7/dist-packages/sklearn/metrics/_classification.py:1318: UndefinedMetricWarning: Precision and F-score are ill-defined and being set to 0.0 in labels with no predicted samples. Use `zero_division` parameter to control this behavior.\n",
            "  _warn_prf(average, modifier, msg_start, len(result))\n",
            "/usr/local/lib/python3.7/dist-packages/sklearn/metrics/_classification.py:1318: UndefinedMetricWarning: Precision and F-score are ill-defined and being set to 0.0 in labels with no predicted samples. Use `zero_division` parameter to control this behavior.\n",
            "  _warn_prf(average, modifier, msg_start, len(result))\n",
            "/usr/local/lib/python3.7/dist-packages/sklearn/metrics/_classification.py:1318: UndefinedMetricWarning: Precision and F-score are ill-defined and being set to 0.0 in labels with no predicted samples. Use `zero_division` parameter to control this behavior.\n",
            "  _warn_prf(average, modifier, msg_start, len(result))\n"
          ]
        },
        {
          "output_type": "stream",
          "name": "stdout",
          "text": [
            "[0 0 array([1.1189]) ... array([1.0922]) array([1.1399]) array([1.3899])]\n",
            "Max Dipersion= [327.9998]\n",
            "min disp= 0\n",
            "              precision    recall  f1-score   support\n",
            "\n",
            "           1       0.97      0.96      0.97     10091\n",
            "           2       0.55      0.91      0.69      1196\n",
            "           3       0.00      0.00      0.00       684\n",
            "\n",
            "    accuracy                           0.90     11971\n",
            "   macro avg       0.51      0.63      0.55     11971\n",
            "weighted avg       0.87      0.90      0.88     11971\n",
            "\n",
            "Kochen kappa for threshold 4.0 0.6532434110215095\n",
            "Fixation recall at threshol 4.0 is 96.31354672480428\n",
            "Fixation precission at threshold 4.0 is 98.94126030744172\n",
            "fixation_f1_score for threshold 4.0 is 97.60972180375617\n",
            "Saccade recall at threshol 4.0 is 91.30434782608695\n",
            "saccade_precision for threshold 4.0 is 74.59016393442623\n",
            "saccade_f1_score for threshold 4.0 is 82.10526315789474\n"
          ]
        },
        {
          "output_type": "stream",
          "name": "stderr",
          "text": [
            "/usr/local/lib/python3.7/dist-packages/ipykernel_launcher.py:23: VisibleDeprecationWarning: Creating an ndarray from ragged nested sequences (which is a list-or-tuple of lists-or-tuples-or ndarrays with different lengths or shapes) is deprecated. If you meant to do this, you must specify 'dtype=object' when creating the ndarray.\n",
            "/usr/local/lib/python3.7/dist-packages/sklearn/metrics/_classification.py:1318: UndefinedMetricWarning: Precision and F-score are ill-defined and being set to 0.0 in labels with no predicted samples. Use `zero_division` parameter to control this behavior.\n",
            "  _warn_prf(average, modifier, msg_start, len(result))\n",
            "/usr/local/lib/python3.7/dist-packages/sklearn/metrics/_classification.py:1318: UndefinedMetricWarning: Precision and F-score are ill-defined and being set to 0.0 in labels with no predicted samples. Use `zero_division` parameter to control this behavior.\n",
            "  _warn_prf(average, modifier, msg_start, len(result))\n",
            "/usr/local/lib/python3.7/dist-packages/sklearn/metrics/_classification.py:1318: UndefinedMetricWarning: Precision and F-score are ill-defined and being set to 0.0 in labels with no predicted samples. Use `zero_division` parameter to control this behavior.\n",
            "  _warn_prf(average, modifier, msg_start, len(result))\n"
          ]
        },
        {
          "output_type": "stream",
          "name": "stdout",
          "text": [
            "[0 0 array([1.1189]) ... array([1.0922]) array([1.1399]) array([1.3899])]\n",
            "Max Dipersion= [327.9998]\n",
            "min disp= 0\n",
            "              precision    recall  f1-score   support\n",
            "\n",
            "           1       0.97      0.97      0.97     10091\n",
            "           2       0.59      0.90      0.72      1196\n",
            "           3       0.00      0.00      0.00       684\n",
            "\n",
            "    accuracy                           0.91     11971\n",
            "   macro avg       0.52      0.62      0.56     11971\n",
            "weighted avg       0.87      0.91      0.89     11971\n",
            "\n",
            "Kochen kappa for threshold 4.5 0.6685991729383629\n",
            "Fixation recall at threshol 4.5 is 97.39371717371915\n",
            "Fixation precission at threshold 4.5 is 98.7837973665695\n",
            "fixation_f1_score for threshold 4.5 is 98.08383233532935\n",
            "Saccade recall at threshol 4.5 is 89.88294314381271\n",
            "saccade_precision for threshold 4.5 is 80.34379671150971\n",
            "saccade_f1_score for threshold 4.5 is 84.84609313338595\n"
          ]
        },
        {
          "output_type": "stream",
          "name": "stderr",
          "text": [
            "/usr/local/lib/python3.7/dist-packages/ipykernel_launcher.py:23: VisibleDeprecationWarning: Creating an ndarray from ragged nested sequences (which is a list-or-tuple of lists-or-tuples-or ndarrays with different lengths or shapes) is deprecated. If you meant to do this, you must specify 'dtype=object' when creating the ndarray.\n",
            "/usr/local/lib/python3.7/dist-packages/sklearn/metrics/_classification.py:1318: UndefinedMetricWarning: Precision and F-score are ill-defined and being set to 0.0 in labels with no predicted samples. Use `zero_division` parameter to control this behavior.\n",
            "  _warn_prf(average, modifier, msg_start, len(result))\n",
            "/usr/local/lib/python3.7/dist-packages/sklearn/metrics/_classification.py:1318: UndefinedMetricWarning: Precision and F-score are ill-defined and being set to 0.0 in labels with no predicted samples. Use `zero_division` parameter to control this behavior.\n",
            "  _warn_prf(average, modifier, msg_start, len(result))\n",
            "/usr/local/lib/python3.7/dist-packages/sklearn/metrics/_classification.py:1318: UndefinedMetricWarning: Precision and F-score are ill-defined and being set to 0.0 in labels with no predicted samples. Use `zero_division` parameter to control this behavior.\n",
            "  _warn_prf(average, modifier, msg_start, len(result))\n"
          ]
        },
        {
          "output_type": "stream",
          "name": "stdout",
          "text": [
            "[0 0 array([1.1189]) ... array([1.0922]) array([1.1399]) array([1.3899])]\n",
            "Max Dipersion= [327.9998]\n",
            "min disp= 0\n",
            "              precision    recall  f1-score   support\n",
            "\n",
            "           1       0.96      0.98      0.97     10091\n",
            "           2       0.62      0.89      0.73      1196\n",
            "           3       0.00      0.00      0.00       684\n",
            "\n",
            "    accuracy                           0.91     11971\n",
            "   macro avg       0.53      0.62      0.57     11971\n",
            "weighted avg       0.87      0.91      0.89     11971\n",
            "\n",
            "Kochen kappa for threshold 5.0 0.6746101160129796\n",
            "Fixation recall at threshol 5.0 is 97.98830641165395\n",
            "Fixation precission at threshold 5.0 is 98.64325618515562\n",
            "fixation_f1_score for threshold 5.0 is 98.31469052945563\n",
            "Saccade recall at threshol 5.0 is 88.62876254180603\n",
            "saccade_precision for threshold 5.0 is 83.92715756136184\n",
            "saccade_f1_score for threshold 5.0 is 86.21390809272062\n"
          ]
        },
        {
          "output_type": "stream",
          "name": "stderr",
          "text": [
            "/usr/local/lib/python3.7/dist-packages/ipykernel_launcher.py:23: VisibleDeprecationWarning: Creating an ndarray from ragged nested sequences (which is a list-or-tuple of lists-or-tuples-or ndarrays with different lengths or shapes) is deprecated. If you meant to do this, you must specify 'dtype=object' when creating the ndarray.\n",
            "/usr/local/lib/python3.7/dist-packages/sklearn/metrics/_classification.py:1318: UndefinedMetricWarning: Precision and F-score are ill-defined and being set to 0.0 in labels with no predicted samples. Use `zero_division` parameter to control this behavior.\n",
            "  _warn_prf(average, modifier, msg_start, len(result))\n",
            "/usr/local/lib/python3.7/dist-packages/sklearn/metrics/_classification.py:1318: UndefinedMetricWarning: Precision and F-score are ill-defined and being set to 0.0 in labels with no predicted samples. Use `zero_division` parameter to control this behavior.\n",
            "  _warn_prf(average, modifier, msg_start, len(result))\n",
            "/usr/local/lib/python3.7/dist-packages/sklearn/metrics/_classification.py:1318: UndefinedMetricWarning: Precision and F-score are ill-defined and being set to 0.0 in labels with no predicted samples. Use `zero_division` parameter to control this behavior.\n",
            "  _warn_prf(average, modifier, msg_start, len(result))\n"
          ]
        },
        {
          "output_type": "stream",
          "name": "stdout",
          "text": [
            "[0 0 array([1.1189]) ... array([1.0922]) array([1.1399]) array([1.3899])]\n",
            "Max Dipersion= [327.9998]\n",
            "min disp= 0\n",
            "              precision    recall  f1-score   support\n",
            "\n",
            "           1       0.96      0.98      0.97     10091\n",
            "           2       0.65      0.87      0.74      1196\n",
            "           3       0.00      0.00      0.00       684\n",
            "\n",
            "    accuracy                           0.92     11971\n",
            "   macro avg       0.54      0.62      0.57     11971\n",
            "weighted avg       0.87      0.92      0.89     11971\n",
            "\n",
            "Kochen kappa for threshold 5.5 0.6764817362161806\n",
            "Fixation recall at threshol 5.5 is 98.4243385194728\n",
            "Fixation precission at threshold 5.5 is 98.49266164220548\n",
            "fixation_f1_score for threshold 5.5 is 98.45848822800495\n",
            "Saccade recall at threshol 5.5 is 87.29096989966555\n",
            "saccade_precision for threshold 5.5 is 86.78304239401496\n",
            "saccade_f1_score for threshold 5.5 is 87.0362651104627\n"
          ]
        },
        {
          "output_type": "stream",
          "name": "stderr",
          "text": [
            "/usr/local/lib/python3.7/dist-packages/ipykernel_launcher.py:23: VisibleDeprecationWarning: Creating an ndarray from ragged nested sequences (which is a list-or-tuple of lists-or-tuples-or ndarrays with different lengths or shapes) is deprecated. If you meant to do this, you must specify 'dtype=object' when creating the ndarray.\n",
            "/usr/local/lib/python3.7/dist-packages/sklearn/metrics/_classification.py:1318: UndefinedMetricWarning: Precision and F-score are ill-defined and being set to 0.0 in labels with no predicted samples. Use `zero_division` parameter to control this behavior.\n",
            "  _warn_prf(average, modifier, msg_start, len(result))\n",
            "/usr/local/lib/python3.7/dist-packages/sklearn/metrics/_classification.py:1318: UndefinedMetricWarning: Precision and F-score are ill-defined and being set to 0.0 in labels with no predicted samples. Use `zero_division` parameter to control this behavior.\n",
            "  _warn_prf(average, modifier, msg_start, len(result))\n",
            "/usr/local/lib/python3.7/dist-packages/sklearn/metrics/_classification.py:1318: UndefinedMetricWarning: Precision and F-score are ill-defined and being set to 0.0 in labels with no predicted samples. Use `zero_division` parameter to control this behavior.\n",
            "  _warn_prf(average, modifier, msg_start, len(result))\n"
          ]
        },
        {
          "output_type": "stream",
          "name": "stdout",
          "text": [
            "[0 0 array([1.1189]) ... array([1.0922]) array([1.1399]) array([1.3899])]\n",
            "Max Dipersion= [327.9998]\n",
            "min disp= 0\n",
            "              precision    recall  f1-score   support\n",
            "\n",
            "           1       0.95      0.99      0.97     10091\n",
            "           2       0.67      0.86      0.75      1196\n",
            "           3       0.00      0.00      0.00       684\n",
            "\n",
            "    accuracy                           0.92     11971\n",
            "   macro avg       0.54      0.62      0.57     11971\n",
            "weighted avg       0.87      0.92      0.89     11971\n",
            "\n",
            "Kochen kappa for threshold 6.0 0.6766440961103846\n",
            "Fixation recall at threshol 6.0 is 98.79100188286591\n",
            "Fixation precission at threshold 6.0 is 98.32330604596115\n",
            "fixation_f1_score for threshold 6.0 is 98.55659911023233\n",
            "Saccade recall at threshol 6.0 is 85.78595317725753\n",
            "saccade_precision for threshold 6.0 is 89.37282229965157\n",
            "saccade_f1_score for threshold 6.0 is 87.54266211604096\n"
          ]
        },
        {
          "output_type": "stream",
          "name": "stderr",
          "text": [
            "/usr/local/lib/python3.7/dist-packages/ipykernel_launcher.py:23: VisibleDeprecationWarning: Creating an ndarray from ragged nested sequences (which is a list-or-tuple of lists-or-tuples-or ndarrays with different lengths or shapes) is deprecated. If you meant to do this, you must specify 'dtype=object' when creating the ndarray.\n",
            "/usr/local/lib/python3.7/dist-packages/sklearn/metrics/_classification.py:1318: UndefinedMetricWarning: Precision and F-score are ill-defined and being set to 0.0 in labels with no predicted samples. Use `zero_division` parameter to control this behavior.\n",
            "  _warn_prf(average, modifier, msg_start, len(result))\n",
            "/usr/local/lib/python3.7/dist-packages/sklearn/metrics/_classification.py:1318: UndefinedMetricWarning: Precision and F-score are ill-defined and being set to 0.0 in labels with no predicted samples. Use `zero_division` parameter to control this behavior.\n",
            "  _warn_prf(average, modifier, msg_start, len(result))\n",
            "/usr/local/lib/python3.7/dist-packages/sklearn/metrics/_classification.py:1318: UndefinedMetricWarning: Precision and F-score are ill-defined and being set to 0.0 in labels with no predicted samples. Use `zero_division` parameter to control this behavior.\n",
            "  _warn_prf(average, modifier, msg_start, len(result))\n"
          ]
        },
        {
          "output_type": "stream",
          "name": "stdout",
          "text": [
            "[0 0 array([1.1189]) ... array([1.0922]) array([1.1399]) array([1.3899])]\n",
            "Max Dipersion= [327.9998]\n",
            "min disp= 0\n",
            "              precision    recall  f1-score   support\n",
            "\n",
            "           1       0.95      0.99      0.97     10091\n",
            "           2       0.70      0.85      0.77      1196\n",
            "           3       0.00      0.00      0.00       684\n",
            "\n",
            "    accuracy                           0.92     11971\n",
            "   macro avg       0.55      0.61      0.58     11971\n",
            "weighted avg       0.87      0.92      0.90     11971\n",
            "\n",
            "Kochen kappa for threshold 6.5 0.6785970308026138\n",
            "Fixation recall at threshol 6.5 is 99.16757506689129\n",
            "Fixation precission at threshold 6.5 is 98.20412168792934\n",
            "fixation_f1_score for threshold 6.5 is 98.68349686899069\n",
            "Saccade recall at threshol 6.5 is 84.6989966555184\n",
            "saccade_precision for threshold 6.5 is 92.34275296262534\n",
            "saccade_f1_score for threshold 6.5 is 88.35586567815089\n"
          ]
        },
        {
          "output_type": "stream",
          "name": "stderr",
          "text": [
            "/usr/local/lib/python3.7/dist-packages/ipykernel_launcher.py:23: VisibleDeprecationWarning: Creating an ndarray from ragged nested sequences (which is a list-or-tuple of lists-or-tuples-or ndarrays with different lengths or shapes) is deprecated. If you meant to do this, you must specify 'dtype=object' when creating the ndarray.\n",
            "/usr/local/lib/python3.7/dist-packages/sklearn/metrics/_classification.py:1318: UndefinedMetricWarning: Precision and F-score are ill-defined and being set to 0.0 in labels with no predicted samples. Use `zero_division` parameter to control this behavior.\n",
            "  _warn_prf(average, modifier, msg_start, len(result))\n",
            "/usr/local/lib/python3.7/dist-packages/sklearn/metrics/_classification.py:1318: UndefinedMetricWarning: Precision and F-score are ill-defined and being set to 0.0 in labels with no predicted samples. Use `zero_division` parameter to control this behavior.\n",
            "  _warn_prf(average, modifier, msg_start, len(result))\n",
            "/usr/local/lib/python3.7/dist-packages/sklearn/metrics/_classification.py:1318: UndefinedMetricWarning: Precision and F-score are ill-defined and being set to 0.0 in labels with no predicted samples. Use `zero_division` parameter to control this behavior.\n",
            "  _warn_prf(average, modifier, msg_start, len(result))\n"
          ]
        },
        {
          "output_type": "stream",
          "name": "stdout",
          "text": [
            "[0 0 array([1.1189]) ... array([1.0922]) array([1.1399]) array([1.3899])]\n",
            "Max Dipersion= [327.9998]\n",
            "min disp= 0\n",
            "              precision    recall  f1-score   support\n",
            "\n",
            "           1       0.95      0.99      0.97     10091\n",
            "           2       0.72      0.84      0.77      1196\n",
            "           3       0.00      0.00      0.00       684\n",
            "\n",
            "    accuracy                           0.92     11971\n",
            "   macro avg       0.55      0.61      0.58     11971\n",
            "weighted avg       0.87      0.92      0.89     11971\n",
            "\n",
            "Kochen kappa for threshold 7 0.6757266435490752\n",
            "Fixation recall at threshol 7 is 99.35586165890398\n",
            "Fixation precission at threshold 7 is 98.07297270859826\n",
            "fixation_f1_score for threshold 7 is 98.71024908929802\n",
            "Saccade recall at threshol 7 is 83.52842809364549\n",
            "saccade_precision for threshold 7 is 93.89097744360902\n",
            "saccade_f1_score for threshold 7 is 88.40707964601769\n"
          ]
        },
        {
          "output_type": "stream",
          "name": "stderr",
          "text": [
            "/usr/local/lib/python3.7/dist-packages/ipykernel_launcher.py:23: VisibleDeprecationWarning: Creating an ndarray from ragged nested sequences (which is a list-or-tuple of lists-or-tuples-or ndarrays with different lengths or shapes) is deprecated. If you meant to do this, you must specify 'dtype=object' when creating the ndarray.\n",
            "/usr/local/lib/python3.7/dist-packages/sklearn/metrics/_classification.py:1318: UndefinedMetricWarning: Precision and F-score are ill-defined and being set to 0.0 in labels with no predicted samples. Use `zero_division` parameter to control this behavior.\n",
            "  _warn_prf(average, modifier, msg_start, len(result))\n",
            "/usr/local/lib/python3.7/dist-packages/sklearn/metrics/_classification.py:1318: UndefinedMetricWarning: Precision and F-score are ill-defined and being set to 0.0 in labels with no predicted samples. Use `zero_division` parameter to control this behavior.\n",
            "  _warn_prf(average, modifier, msg_start, len(result))\n",
            "/usr/local/lib/python3.7/dist-packages/sklearn/metrics/_classification.py:1318: UndefinedMetricWarning: Precision and F-score are ill-defined and being set to 0.0 in labels with no predicted samples. Use `zero_division` parameter to control this behavior.\n",
            "  _warn_prf(average, modifier, msg_start, len(result))\n"
          ]
        },
        {
          "output_type": "stream",
          "name": "stdout",
          "text": [
            "[0 0 array([1.1189]) ... array([1.0922]) array([1.1399]) array([1.3899])]\n",
            "Max Dipersion= [327.9998]\n",
            "min disp= 0\n",
            "              precision    recall  f1-score   support\n",
            "\n",
            "           1       0.94      0.99      0.97     10091\n",
            "           2       0.73      0.82      0.77      1196\n",
            "           3       0.00      0.00      0.00       684\n",
            "\n",
            "    accuracy                           0.92     11971\n",
            "   macro avg       0.56      0.61      0.58     11971\n",
            "weighted avg       0.87      0.92      0.89     11971\n",
            "\n",
            "Kochen kappa for threshold 7.5 0.6708492770058718\n",
            "Fixation recall at threshol 7.5 is 99.48468932712318\n",
            "Fixation precission at threshold 7.5 is 97.93190908204078\n",
            "fixation_f1_score for threshold 7.5 is 98.7021925081113\n",
            "Saccade recall at threshol 7.5 is 82.27424749163879\n",
            "saccade_precision for threshold 7.5 is 94.98069498069498\n",
            "saccade_f1_score for threshold 7.5 is 88.17204301075269\n"
          ]
        },
        {
          "output_type": "stream",
          "name": "stderr",
          "text": [
            "/usr/local/lib/python3.7/dist-packages/ipykernel_launcher.py:23: VisibleDeprecationWarning: Creating an ndarray from ragged nested sequences (which is a list-or-tuple of lists-or-tuples-or ndarrays with different lengths or shapes) is deprecated. If you meant to do this, you must specify 'dtype=object' when creating the ndarray.\n",
            "/usr/local/lib/python3.7/dist-packages/sklearn/metrics/_classification.py:1318: UndefinedMetricWarning: Precision and F-score are ill-defined and being set to 0.0 in labels with no predicted samples. Use `zero_division` parameter to control this behavior.\n",
            "  _warn_prf(average, modifier, msg_start, len(result))\n",
            "/usr/local/lib/python3.7/dist-packages/sklearn/metrics/_classification.py:1318: UndefinedMetricWarning: Precision and F-score are ill-defined and being set to 0.0 in labels with no predicted samples. Use `zero_division` parameter to control this behavior.\n",
            "  _warn_prf(average, modifier, msg_start, len(result))\n",
            "/usr/local/lib/python3.7/dist-packages/sklearn/metrics/_classification.py:1318: UndefinedMetricWarning: Precision and F-score are ill-defined and being set to 0.0 in labels with no predicted samples. Use `zero_division` parameter to control this behavior.\n",
            "  _warn_prf(average, modifier, msg_start, len(result))\n"
          ]
        },
        {
          "output_type": "stream",
          "name": "stdout",
          "text": [
            "[0 0 array([1.1189]) ... array([1.0922]) array([1.1399]) array([1.3899])]\n",
            "Max Dipersion= [327.9998]\n",
            "min disp= 0\n",
            "              precision    recall  f1-score   support\n",
            "\n",
            "           1       0.94      1.00      0.97     10091\n",
            "           2       0.74      0.81      0.78      1196\n",
            "           3       0.00      0.00      0.00       684\n",
            "\n",
            "    accuracy                           0.92     11971\n",
            "   macro avg       0.56      0.60      0.58     11971\n",
            "weighted avg       0.87      0.92      0.89     11971\n",
            "\n",
            "Kochen kappa for threshold 8 0.6654866090180064\n",
            "Fixation recall at threshol 8 is 99.55405807154891\n",
            "Fixation precission at threshold 8 is 97.80936617661376\n",
            "fixation_f1_score for threshold 8 is 98.67400058933306\n",
            "Saccade recall at threshol 8 is 81.18729096989966\n",
            "saccade_precision for threshold 8 is 95.57086614173228\n",
            "saccade_f1_score for threshold 8 is 87.79385171790236\n"
          ]
        },
        {
          "output_type": "stream",
          "name": "stderr",
          "text": [
            "/usr/local/lib/python3.7/dist-packages/ipykernel_launcher.py:23: VisibleDeprecationWarning: Creating an ndarray from ragged nested sequences (which is a list-or-tuple of lists-or-tuples-or ndarrays with different lengths or shapes) is deprecated. If you meant to do this, you must specify 'dtype=object' when creating the ndarray.\n",
            "/usr/local/lib/python3.7/dist-packages/sklearn/metrics/_classification.py:1318: UndefinedMetricWarning: Precision and F-score are ill-defined and being set to 0.0 in labels with no predicted samples. Use `zero_division` parameter to control this behavior.\n",
            "  _warn_prf(average, modifier, msg_start, len(result))\n",
            "/usr/local/lib/python3.7/dist-packages/sklearn/metrics/_classification.py:1318: UndefinedMetricWarning: Precision and F-score are ill-defined and being set to 0.0 in labels with no predicted samples. Use `zero_division` parameter to control this behavior.\n",
            "  _warn_prf(average, modifier, msg_start, len(result))\n",
            "/usr/local/lib/python3.7/dist-packages/sklearn/metrics/_classification.py:1318: UndefinedMetricWarning: Precision and F-score are ill-defined and being set to 0.0 in labels with no predicted samples. Use `zero_division` parameter to control this behavior.\n",
            "  _warn_prf(average, modifier, msg_start, len(result))\n"
          ]
        },
        {
          "output_type": "stream",
          "name": "stdout",
          "text": [
            "[0 0 array([1.1189]) ... array([1.0922]) array([1.1399]) array([1.3899])]\n",
            "Max Dipersion= [327.9998]\n",
            "min disp= 0\n",
            "              precision    recall  f1-score   support\n",
            "\n",
            "           1       0.94      1.00      0.97     10091\n",
            "           2       0.77      0.79      0.78      1196\n",
            "           3       0.00      0.00      0.00       684\n",
            "\n",
            "    accuracy                           0.92     11971\n",
            "   macro avg       0.57      0.60      0.58     11971\n",
            "weighted avg       0.87      0.92      0.89     11971\n",
            "\n",
            "Kochen kappa for threshold 9 0.6533413929163512\n",
            "Fixation recall at threshol 9 is 99.7027053810326\n",
            "Fixation precission at threshold 9 is 97.54702346325384\n",
            "fixation_f1_score for threshold 9 is 98.61308502817937\n",
            "Saccade recall at threshol 9 is 78.84615384615384\n",
            "saccade_precision for threshold 9 is 96.91675231243576\n",
            "saccade_f1_score for threshold 9 is 86.95251267865375\n"
          ]
        },
        {
          "output_type": "stream",
          "name": "stderr",
          "text": [
            "/usr/local/lib/python3.7/dist-packages/ipykernel_launcher.py:23: VisibleDeprecationWarning: Creating an ndarray from ragged nested sequences (which is a list-or-tuple of lists-or-tuples-or ndarrays with different lengths or shapes) is deprecated. If you meant to do this, you must specify 'dtype=object' when creating the ndarray.\n",
            "/usr/local/lib/python3.7/dist-packages/sklearn/metrics/_classification.py:1318: UndefinedMetricWarning: Precision and F-score are ill-defined and being set to 0.0 in labels with no predicted samples. Use `zero_division` parameter to control this behavior.\n",
            "  _warn_prf(average, modifier, msg_start, len(result))\n",
            "/usr/local/lib/python3.7/dist-packages/sklearn/metrics/_classification.py:1318: UndefinedMetricWarning: Precision and F-score are ill-defined and being set to 0.0 in labels with no predicted samples. Use `zero_division` parameter to control this behavior.\n",
            "  _warn_prf(average, modifier, msg_start, len(result))\n",
            "/usr/local/lib/python3.7/dist-packages/sklearn/metrics/_classification.py:1318: UndefinedMetricWarning: Precision and F-score are ill-defined and being set to 0.0 in labels with no predicted samples. Use `zero_division` parameter to control this behavior.\n",
            "  _warn_prf(average, modifier, msg_start, len(result))\n"
          ]
        },
        {
          "output_type": "stream",
          "name": "stdout",
          "text": [
            "[0 0 array([1.1189]) ... array([1.0922]) array([1.1399]) array([1.3899])]\n",
            "Max Dipersion= [327.9998]\n",
            "min disp= 0\n",
            "              precision    recall  f1-score   support\n",
            "\n",
            "           1       0.93      1.00      0.96     10091\n",
            "           2       0.80      0.77      0.78      1196\n",
            "           3       0.00      0.00      0.00       684\n",
            "\n",
            "    accuracy                           0.92     11971\n",
            "   macro avg       0.58      0.59      0.58     11971\n",
            "weighted avg       0.86      0.92      0.89     11971\n",
            "\n",
            "Kochen kappa for threshold 10 0.6406172804629908\n",
            "Fixation recall at threshol 10 is 99.78198394609058\n",
            "Fixation precission at threshold 10 is 97.32263676783298\n",
            "fixation_f1_score for threshold 10 is 98.53696726525418\n",
            "Saccade recall at threshol 10 is 76.83946488294315\n",
            "saccade_precision for threshold 10 is 97.66206163655686\n",
            "saccade_f1_score for threshold 10 is 86.00842302292935\n"
          ]
        },
        {
          "output_type": "stream",
          "name": "stderr",
          "text": [
            "/usr/local/lib/python3.7/dist-packages/ipykernel_launcher.py:23: VisibleDeprecationWarning: Creating an ndarray from ragged nested sequences (which is a list-or-tuple of lists-or-tuples-or ndarrays with different lengths or shapes) is deprecated. If you meant to do this, you must specify 'dtype=object' when creating the ndarray.\n",
            "/usr/local/lib/python3.7/dist-packages/sklearn/metrics/_classification.py:1318: UndefinedMetricWarning: Precision and F-score are ill-defined and being set to 0.0 in labels with no predicted samples. Use `zero_division` parameter to control this behavior.\n",
            "  _warn_prf(average, modifier, msg_start, len(result))\n",
            "/usr/local/lib/python3.7/dist-packages/sklearn/metrics/_classification.py:1318: UndefinedMetricWarning: Precision and F-score are ill-defined and being set to 0.0 in labels with no predicted samples. Use `zero_division` parameter to control this behavior.\n",
            "  _warn_prf(average, modifier, msg_start, len(result))\n",
            "/usr/local/lib/python3.7/dist-packages/sklearn/metrics/_classification.py:1318: UndefinedMetricWarning: Precision and F-score are ill-defined and being set to 0.0 in labels with no predicted samples. Use `zero_division` parameter to control this behavior.\n",
            "  _warn_prf(average, modifier, msg_start, len(result))\n"
          ]
        },
        {
          "output_type": "stream",
          "name": "stdout",
          "text": [
            "[0 0 array([1.1189]) ... array([1.0922]) array([1.1399]) array([1.3899])]\n",
            "Max Dipersion= [327.9998]\n",
            "min disp= 0\n",
            "              precision    recall  f1-score   support\n",
            "\n",
            "           1       0.92      1.00      0.96     10091\n",
            "           2       0.84      0.74      0.79      1196\n",
            "           3       0.00      0.00      0.00       684\n",
            "\n",
            "    accuracy                           0.92     11971\n",
            "   macro avg       0.59      0.58      0.58     11971\n",
            "weighted avg       0.86      0.92      0.89     11971\n",
            "\n",
            "Kochen kappa for threshold 12 0.6202806695452481\n",
            "Fixation recall at threshol 12 is 99.91081161430978\n",
            "Fixation precission at threshold 12 is 96.96095402962108\n",
            "fixation_f1_score for threshold 12 is 98.41378300551514\n",
            "Saccade recall at threshol 12 is 73.57859531772576\n",
            "saccade_precision for threshold 12 is 98.98762654668167\n",
            "saccade_f1_score for threshold 12 is 84.41247002398082\n"
          ]
        },
        {
          "output_type": "stream",
          "name": "stderr",
          "text": [
            "/usr/local/lib/python3.7/dist-packages/ipykernel_launcher.py:23: VisibleDeprecationWarning: Creating an ndarray from ragged nested sequences (which is a list-or-tuple of lists-or-tuples-or ndarrays with different lengths or shapes) is deprecated. If you meant to do this, you must specify 'dtype=object' when creating the ndarray.\n",
            "/usr/local/lib/python3.7/dist-packages/sklearn/metrics/_classification.py:1318: UndefinedMetricWarning: Precision and F-score are ill-defined and being set to 0.0 in labels with no predicted samples. Use `zero_division` parameter to control this behavior.\n",
            "  _warn_prf(average, modifier, msg_start, len(result))\n",
            "/usr/local/lib/python3.7/dist-packages/sklearn/metrics/_classification.py:1318: UndefinedMetricWarning: Precision and F-score are ill-defined and being set to 0.0 in labels with no predicted samples. Use `zero_division` parameter to control this behavior.\n",
            "  _warn_prf(average, modifier, msg_start, len(result))\n",
            "/usr/local/lib/python3.7/dist-packages/sklearn/metrics/_classification.py:1318: UndefinedMetricWarning: Precision and F-score are ill-defined and being set to 0.0 in labels with no predicted samples. Use `zero_division` parameter to control this behavior.\n",
            "  _warn_prf(average, modifier, msg_start, len(result))\n"
          ]
        },
        {
          "output_type": "stream",
          "name": "stdout",
          "text": [
            "[0 0 array([1.1189]) ... array([1.0922]) array([1.1399]) array([1.3899])]\n",
            "Max Dipersion= [327.9998]\n",
            "min disp= 0\n",
            "              precision    recall  f1-score   support\n",
            "\n",
            "           1       0.92      1.00      0.96     10091\n",
            "           2       0.85      0.71      0.78      1196\n",
            "           3       0.00      0.00      0.00       684\n",
            "\n",
            "    accuracy                           0.91     11971\n",
            "   macro avg       0.59      0.57      0.58     11971\n",
            "weighted avg       0.86      0.91      0.88     11971\n",
            "\n",
            "Kochen kappa for threshold 13 0.6048819047006726\n",
            "Fixation recall at threshol 13 is 99.91081161430978\n",
            "Fixation precission at threshold 13 is 96.7005563015538\n",
            "fixation_f1_score for threshold 13 is 98.27947555685529\n",
            "Saccade recall at threshol 13 is 71.23745819397993\n",
            "saccade_precision for threshold 13 is 98.95470383275261\n",
            "saccade_f1_score for threshold 13 is 82.8390860476422\n"
          ]
        },
        {
          "output_type": "stream",
          "name": "stderr",
          "text": [
            "/usr/local/lib/python3.7/dist-packages/ipykernel_launcher.py:23: VisibleDeprecationWarning: Creating an ndarray from ragged nested sequences (which is a list-or-tuple of lists-or-tuples-or ndarrays with different lengths or shapes) is deprecated. If you meant to do this, you must specify 'dtype=object' when creating the ndarray.\n",
            "/usr/local/lib/python3.7/dist-packages/sklearn/metrics/_classification.py:1318: UndefinedMetricWarning: Precision and F-score are ill-defined and being set to 0.0 in labels with no predicted samples. Use `zero_division` parameter to control this behavior.\n",
            "  _warn_prf(average, modifier, msg_start, len(result))\n",
            "/usr/local/lib/python3.7/dist-packages/sklearn/metrics/_classification.py:1318: UndefinedMetricWarning: Precision and F-score are ill-defined and being set to 0.0 in labels with no predicted samples. Use `zero_division` parameter to control this behavior.\n",
            "  _warn_prf(average, modifier, msg_start, len(result))\n",
            "/usr/local/lib/python3.7/dist-packages/sklearn/metrics/_classification.py:1318: UndefinedMetricWarning: Precision and F-score are ill-defined and being set to 0.0 in labels with no predicted samples. Use `zero_division` parameter to control this behavior.\n",
            "  _warn_prf(average, modifier, msg_start, len(result))\n"
          ]
        },
        {
          "output_type": "stream",
          "name": "stdout",
          "text": [
            "[0 0 array([1.1189]) ... array([1.0922]) array([1.1399]) array([1.3899])]\n",
            "Max Dipersion= [327.9998]\n",
            "min disp= 0\n",
            "              precision    recall  f1-score   support\n",
            "\n",
            "           1       0.92      1.00      0.96     10091\n",
            "           2       0.86      0.70      0.77      1196\n",
            "           3       0.00      0.00      0.00       684\n",
            "\n",
            "    accuracy                           0.91     11971\n",
            "   macro avg       0.59      0.57      0.58     11971\n",
            "weighted avg       0.86      0.91      0.88     11971\n",
            "\n",
            "Kochen kappa for threshold 14 0.5942325292086825\n",
            "Fixation recall at threshol 14 is 99.91081161430978\n",
            "Fixation precission at threshold 14 is 96.53389505936423\n",
            "fixation_f1_score for threshold 14 is 98.19332846359873\n",
            "Saccade recall at threshol 14 is 69.7324414715719\n",
            "saccade_precision for threshold 14 is 98.932384341637\n",
            "saccade_f1_score for threshold 14 is 81.80480627758706\n"
          ]
        },
        {
          "output_type": "stream",
          "name": "stderr",
          "text": [
            "/usr/local/lib/python3.7/dist-packages/ipykernel_launcher.py:23: VisibleDeprecationWarning: Creating an ndarray from ragged nested sequences (which is a list-or-tuple of lists-or-tuples-or ndarrays with different lengths or shapes) is deprecated. If you meant to do this, you must specify 'dtype=object' when creating the ndarray.\n",
            "/usr/local/lib/python3.7/dist-packages/sklearn/metrics/_classification.py:1318: UndefinedMetricWarning: Precision and F-score are ill-defined and being set to 0.0 in labels with no predicted samples. Use `zero_division` parameter to control this behavior.\n",
            "  _warn_prf(average, modifier, msg_start, len(result))\n",
            "/usr/local/lib/python3.7/dist-packages/sklearn/metrics/_classification.py:1318: UndefinedMetricWarning: Precision and F-score are ill-defined and being set to 0.0 in labels with no predicted samples. Use `zero_division` parameter to control this behavior.\n",
            "  _warn_prf(average, modifier, msg_start, len(result))\n",
            "/usr/local/lib/python3.7/dist-packages/sklearn/metrics/_classification.py:1318: UndefinedMetricWarning: Precision and F-score are ill-defined and being set to 0.0 in labels with no predicted samples. Use `zero_division` parameter to control this behavior.\n",
            "  _warn_prf(average, modifier, msg_start, len(result))\n"
          ]
        },
        {
          "output_type": "stream",
          "name": "stdout",
          "text": [
            "[0 0 array([1.1189]) ... array([1.0922]) array([1.1399]) array([1.3899])]\n",
            "Max Dipersion= [327.9998]\n",
            "min disp= 0\n",
            "              precision    recall  f1-score   support\n",
            "\n",
            "           1       0.91      1.00      0.95     10091\n",
            "           2       0.87      0.68      0.76      1196\n",
            "           3       0.00      0.00      0.00       684\n",
            "\n",
            "    accuracy                           0.91     11971\n",
            "   macro avg       0.60      0.56      0.57     11971\n",
            "weighted avg       0.86      0.91      0.88     11971\n",
            "\n",
            "Kochen kappa for threshold 15 0.5827513410557286\n",
            "Fixation recall at threshol 15 is 99.92072143494202\n",
            "Fixation precission at threshold 15 is 96.34973721930244\n",
            "fixation_f1_score for threshold 15 is 98.10274372446001\n",
            "Saccade recall at threshol 15 is 68.06020066889631\n",
            "saccade_precision for threshold 15 is 99.02676399026764\n",
            "saccade_f1_score for threshold 15 is 80.67393458870167\n"
          ]
        },
        {
          "output_type": "stream",
          "name": "stderr",
          "text": [
            "/usr/local/lib/python3.7/dist-packages/ipykernel_launcher.py:23: VisibleDeprecationWarning: Creating an ndarray from ragged nested sequences (which is a list-or-tuple of lists-or-tuples-or ndarrays with different lengths or shapes) is deprecated. If you meant to do this, you must specify 'dtype=object' when creating the ndarray.\n",
            "/usr/local/lib/python3.7/dist-packages/sklearn/metrics/_classification.py:1318: UndefinedMetricWarning: Precision and F-score are ill-defined and being set to 0.0 in labels with no predicted samples. Use `zero_division` parameter to control this behavior.\n",
            "  _warn_prf(average, modifier, msg_start, len(result))\n",
            "/usr/local/lib/python3.7/dist-packages/sklearn/metrics/_classification.py:1318: UndefinedMetricWarning: Precision and F-score are ill-defined and being set to 0.0 in labels with no predicted samples. Use `zero_division` parameter to control this behavior.\n",
            "  _warn_prf(average, modifier, msg_start, len(result))\n",
            "/usr/local/lib/python3.7/dist-packages/sklearn/metrics/_classification.py:1318: UndefinedMetricWarning: Precision and F-score are ill-defined and being set to 0.0 in labels with no predicted samples. Use `zero_division` parameter to control this behavior.\n",
            "  _warn_prf(average, modifier, msg_start, len(result))\n"
          ]
        },
        {
          "output_type": "stream",
          "name": "stdout",
          "text": [
            "[0 0 array([1.1189]) ... array([1.0922]) array([1.1399]) array([1.3899])]\n",
            "Max Dipersion= [327.9998]\n",
            "min disp= 0\n",
            "              precision    recall  f1-score   support\n",
            "\n",
            "           1       0.91      1.00      0.95     10091\n",
            "           2       0.88      0.66      0.76      1196\n",
            "           3       0.00      0.00      0.00       684\n",
            "\n",
            "    accuracy                           0.91     11971\n",
            "   macro avg       0.60      0.55      0.57     11971\n",
            "weighted avg       0.86      0.91      0.88     11971\n",
            "\n",
            "Kochen kappa for threshold 16 0.5692302843197479\n",
            "Fixation recall at threshol 16 is 99.93063125557427\n",
            "Fixation precission at threshold 16 is 96.13881208885499\n",
            "fixation_f1_score for threshold 16 is 97.99805636540331\n",
            "Saccade recall at threshol 16 is 66.1371237458194\n",
            "saccade_precision for threshold 16 is 99.12280701754386\n",
            "saccade_f1_score for threshold 16 is 79.33801404212637\n"
          ]
        },
        {
          "output_type": "stream",
          "name": "stderr",
          "text": [
            "/usr/local/lib/python3.7/dist-packages/ipykernel_launcher.py:23: VisibleDeprecationWarning: Creating an ndarray from ragged nested sequences (which is a list-or-tuple of lists-or-tuples-or ndarrays with different lengths or shapes) is deprecated. If you meant to do this, you must specify 'dtype=object' when creating the ndarray.\n",
            "/usr/local/lib/python3.7/dist-packages/sklearn/metrics/_classification.py:1318: UndefinedMetricWarning: Precision and F-score are ill-defined and being set to 0.0 in labels with no predicted samples. Use `zero_division` parameter to control this behavior.\n",
            "  _warn_prf(average, modifier, msg_start, len(result))\n",
            "/usr/local/lib/python3.7/dist-packages/sklearn/metrics/_classification.py:1318: UndefinedMetricWarning: Precision and F-score are ill-defined and being set to 0.0 in labels with no predicted samples. Use `zero_division` parameter to control this behavior.\n",
            "  _warn_prf(average, modifier, msg_start, len(result))\n",
            "/usr/local/lib/python3.7/dist-packages/sklearn/metrics/_classification.py:1318: UndefinedMetricWarning: Precision and F-score are ill-defined and being set to 0.0 in labels with no predicted samples. Use `zero_division` parameter to control this behavior.\n",
            "  _warn_prf(average, modifier, msg_start, len(result))\n"
          ]
        },
        {
          "output_type": "stream",
          "name": "stdout",
          "text": [
            "[0 0 array([1.1189]) ... array([1.0922]) array([1.1399]) array([1.3899])]\n",
            "Max Dipersion= [327.9998]\n",
            "min disp= 0\n",
            "              precision    recall  f1-score   support\n",
            "\n",
            "           1       0.90      1.00      0.95     10091\n",
            "           2       0.91      0.60      0.72      1196\n",
            "           3       0.00      0.00      0.00       684\n",
            "\n",
            "    accuracy                           0.90     11971\n",
            "   macro avg       0.60      0.53      0.56     11971\n",
            "weighted avg       0.85      0.90      0.87     11971\n",
            "\n",
            "Kochen kappa for threshold 20 0.5236640731961155\n",
            "Fixation recall at threshol 20 is 99.94054107620651\n",
            "Fixation precission at threshold 20 is 95.42959878879637\n",
            "fixation_f1_score for threshold 20 is 97.63299288445712\n",
            "Saccade recall at threshol 20 is 59.61538461538461\n",
            "saccade_precision for threshold 20 is 99.16550764951322\n",
            "saccade_f1_score for threshold 20 is 74.46475195822454\n"
          ]
        },
        {
          "output_type": "stream",
          "name": "stderr",
          "text": [
            "/usr/local/lib/python3.7/dist-packages/ipykernel_launcher.py:23: VisibleDeprecationWarning: Creating an ndarray from ragged nested sequences (which is a list-or-tuple of lists-or-tuples-or ndarrays with different lengths or shapes) is deprecated. If you meant to do this, you must specify 'dtype=object' when creating the ndarray.\n",
            "/usr/local/lib/python3.7/dist-packages/sklearn/metrics/_classification.py:1318: UndefinedMetricWarning: Precision and F-score are ill-defined and being set to 0.0 in labels with no predicted samples. Use `zero_division` parameter to control this behavior.\n",
            "  _warn_prf(average, modifier, msg_start, len(result))\n",
            "/usr/local/lib/python3.7/dist-packages/sklearn/metrics/_classification.py:1318: UndefinedMetricWarning: Precision and F-score are ill-defined and being set to 0.0 in labels with no predicted samples. Use `zero_division` parameter to control this behavior.\n",
            "  _warn_prf(average, modifier, msg_start, len(result))\n",
            "/usr/local/lib/python3.7/dist-packages/sklearn/metrics/_classification.py:1318: UndefinedMetricWarning: Precision and F-score are ill-defined and being set to 0.0 in labels with no predicted samples. Use `zero_division` parameter to control this behavior.\n",
            "  _warn_prf(average, modifier, msg_start, len(result))\n"
          ]
        },
        {
          "output_type": "stream",
          "name": "stdout",
          "text": [
            "[0 0 array([1.1189]) ... array([1.0922]) array([1.1399]) array([1.3899])]\n",
            "Max Dipersion= [327.9998]\n",
            "min disp= 0\n",
            "              precision    recall  f1-score   support\n",
            "\n",
            "           1       0.90      1.00      0.95     10091\n",
            "           2       0.92      0.57      0.70      1196\n",
            "           3       0.00      0.00      0.00       684\n",
            "\n",
            "    accuracy                           0.90     11971\n",
            "   macro avg       0.61      0.52      0.55     11971\n",
            "weighted avg       0.85      0.90      0.87     11971\n",
            "\n",
            "Kochen kappa for threshold 22 0.5030659984441799\n",
            "Fixation recall at threshol 22 is 99.94054107620651\n",
            "Fixation precission at threshold 22 is 95.13253466654089\n",
            "fixation_f1_score for threshold 22 is 97.47728590759715\n",
            "Saccade recall at threshol 22 is 56.8561872909699\n",
            "saccade_precision for threshold 22 is 99.12536443148689\n",
            "saccade_f1_score for threshold 22 is 72.2635494155154\n"
          ]
        },
        {
          "output_type": "stream",
          "name": "stderr",
          "text": [
            "/usr/local/lib/python3.7/dist-packages/ipykernel_launcher.py:23: VisibleDeprecationWarning: Creating an ndarray from ragged nested sequences (which is a list-or-tuple of lists-or-tuples-or ndarrays with different lengths or shapes) is deprecated. If you meant to do this, you must specify 'dtype=object' when creating the ndarray.\n",
            "/usr/local/lib/python3.7/dist-packages/sklearn/metrics/_classification.py:1318: UndefinedMetricWarning: Precision and F-score are ill-defined and being set to 0.0 in labels with no predicted samples. Use `zero_division` parameter to control this behavior.\n",
            "  _warn_prf(average, modifier, msg_start, len(result))\n",
            "/usr/local/lib/python3.7/dist-packages/sklearn/metrics/_classification.py:1318: UndefinedMetricWarning: Precision and F-score are ill-defined and being set to 0.0 in labels with no predicted samples. Use `zero_division` parameter to control this behavior.\n",
            "  _warn_prf(average, modifier, msg_start, len(result))\n",
            "/usr/local/lib/python3.7/dist-packages/sklearn/metrics/_classification.py:1318: UndefinedMetricWarning: Precision and F-score are ill-defined and being set to 0.0 in labels with no predicted samples. Use `zero_division` parameter to control this behavior.\n",
            "  _warn_prf(average, modifier, msg_start, len(result))\n"
          ]
        },
        {
          "output_type": "stream",
          "name": "stdout",
          "text": [
            "[0 0 array([1.1189]) ... array([1.0922]) array([1.1399]) array([1.3899])]\n",
            "Max Dipersion= [327.9998]\n",
            "min disp= 0\n",
            "              precision    recall  f1-score   support\n",
            "\n",
            "           1       0.89      1.00      0.94     10091\n",
            "           2       0.93      0.52      0.67      1196\n",
            "           3       0.00      0.00      0.00       684\n",
            "\n",
            "    accuracy                           0.89     11971\n",
            "   macro avg       0.61      0.51      0.54     11971\n",
            "weighted avg       0.85      0.89      0.86     11971\n",
            "\n",
            "Kochen kappa for threshold 25 0.4680928339872902\n",
            "Fixation recall at threshol 25 is 99.94054107620651\n",
            "Fixation precission at threshold 25 is 94.6148794446008\n",
            "fixation_f1_score for threshold 25 is 97.20481927710841\n",
            "Saccade recall at threshol 25 is 52.0066889632107\n",
            "saccade_precision for threshold 25 is 99.04458598726114\n",
            "saccade_f1_score for threshold 25 is 68.2017543859649\n"
          ]
        },
        {
          "output_type": "stream",
          "name": "stderr",
          "text": [
            "/usr/local/lib/python3.7/dist-packages/ipykernel_launcher.py:23: VisibleDeprecationWarning: Creating an ndarray from ragged nested sequences (which is a list-or-tuple of lists-or-tuples-or ndarrays with different lengths or shapes) is deprecated. If you meant to do this, you must specify 'dtype=object' when creating the ndarray.\n",
            "/usr/local/lib/python3.7/dist-packages/sklearn/metrics/_classification.py:1318: UndefinedMetricWarning: Precision and F-score are ill-defined and being set to 0.0 in labels with no predicted samples. Use `zero_division` parameter to control this behavior.\n",
            "  _warn_prf(average, modifier, msg_start, len(result))\n",
            "/usr/local/lib/python3.7/dist-packages/sklearn/metrics/_classification.py:1318: UndefinedMetricWarning: Precision and F-score are ill-defined and being set to 0.0 in labels with no predicted samples. Use `zero_division` parameter to control this behavior.\n",
            "  _warn_prf(average, modifier, msg_start, len(result))\n",
            "/usr/local/lib/python3.7/dist-packages/sklearn/metrics/_classification.py:1318: UndefinedMetricWarning: Precision and F-score are ill-defined and being set to 0.0 in labels with no predicted samples. Use `zero_division` parameter to control this behavior.\n",
            "  _warn_prf(average, modifier, msg_start, len(result))\n"
          ]
        },
        {
          "output_type": "stream",
          "name": "stdout",
          "text": [
            "[0 0 array([1.1189]) ... array([1.0922]) array([1.1399]) array([1.3899])]\n",
            "Max Dipersion= [327.9998]\n",
            "min disp= 0\n",
            "              precision    recall  f1-score   support\n",
            "\n",
            "           1       0.89      1.00      0.94     10091\n",
            "           2       0.94      0.46      0.62      1196\n",
            "           3       0.00      0.00      0.00       684\n",
            "\n",
            "    accuracy                           0.89     11971\n",
            "   macro avg       0.61      0.49      0.52     11971\n",
            "weighted avg       0.84      0.89      0.85     11971\n",
            "\n",
            "Kochen kappa for threshold 30 0.4210214649924199\n",
            "Fixation recall at threshol 30 is 99.94054107620651\n",
            "Fixation precission at threshold 30 is 93.96254542066524\n",
            "fixation_f1_score for threshold 30 is 96.85939300806761\n",
            "Saccade recall at threshol 30 is 45.819397993311036\n",
            "saccade_precision for threshold 30 is 98.91696750902527\n",
            "saccade_f1_score for threshold 30 is 62.62857142857143\n"
          ]
        },
        {
          "output_type": "stream",
          "name": "stderr",
          "text": [
            "/usr/local/lib/python3.7/dist-packages/ipykernel_launcher.py:23: VisibleDeprecationWarning: Creating an ndarray from ragged nested sequences (which is a list-or-tuple of lists-or-tuples-or ndarrays with different lengths or shapes) is deprecated. If you meant to do this, you must specify 'dtype=object' when creating the ndarray.\n",
            "/usr/local/lib/python3.7/dist-packages/sklearn/metrics/_classification.py:1318: UndefinedMetricWarning: Precision and F-score are ill-defined and being set to 0.0 in labels with no predicted samples. Use `zero_division` parameter to control this behavior.\n",
            "  _warn_prf(average, modifier, msg_start, len(result))\n",
            "/usr/local/lib/python3.7/dist-packages/sklearn/metrics/_classification.py:1318: UndefinedMetricWarning: Precision and F-score are ill-defined and being set to 0.0 in labels with no predicted samples. Use `zero_division` parameter to control this behavior.\n",
            "  _warn_prf(average, modifier, msg_start, len(result))\n",
            "/usr/local/lib/python3.7/dist-packages/sklearn/metrics/_classification.py:1318: UndefinedMetricWarning: Precision and F-score are ill-defined and being set to 0.0 in labels with no predicted samples. Use `zero_division` parameter to control this behavior.\n",
            "  _warn_prf(average, modifier, msg_start, len(result))\n"
          ]
        },
        {
          "output_type": "stream",
          "name": "stdout",
          "text": [
            "[0 0 array([1.1189]) ... array([1.0922]) array([1.1399]) array([1.3899])]\n",
            "Max Dipersion= [327.9998]\n",
            "min disp= 0\n",
            "              precision    recall  f1-score   support\n",
            "\n",
            "           1       0.88      1.00      0.94     10091\n",
            "           2       0.96      0.40      0.56      1196\n",
            "           3       0.00      0.00      0.00       684\n",
            "\n",
            "    accuracy                           0.88     11971\n",
            "   macro avg       0.61      0.47      0.50     11971\n",
            "weighted avg       0.84      0.88      0.84     11971\n",
            "\n",
            "Kochen kappa for threshold 35 0.3718323630391208\n",
            "Fixation recall at threshol 35 is 99.94054107620651\n",
            "Fixation precission at threshold 35 is 93.31914499861202\n",
            "fixation_f1_score for threshold 35 is 96.51641305388075\n",
            "Saccade recall at threshol 35 is 39.63210702341137\n",
            "saccade_precision for threshold 35 is 98.75\n",
            "saccade_f1_score for threshold 35 is 56.56324582338902\n",
            "[0 0 array([1.1189]) ... array([1.0922]) array([1.1399]) array([1.3899])]\n",
            "Max Dipersion= [327.9998]\n",
            "min disp= 0\n",
            "              precision    recall  f1-score   support\n",
            "\n",
            "           1       0.86      1.00      0.93     10091\n",
            "           2       0.97      0.23      0.37      1196\n",
            "           3       0.00      0.00      0.00       684\n",
            "\n",
            "    accuracy                           0.87     11971\n",
            "   macro avg       0.61      0.41      0.43     11971\n",
            "weighted avg       0.82      0.87      0.82     11971\n",
            "\n",
            "Kochen kappa for threshold 50 0.22874224029418144\n",
            "Fixation recall at threshol 50 is 99.97027053810326\n",
            "Fixation precission at threshold 50 is 91.60915365056302\n",
            "fixation_f1_score for threshold 50 is 95.60725963133204\n",
            "Saccade recall at threshol 50 is 22.74247491638796\n",
            "saccade_precision for threshold 50 is 98.9090909090909\n",
            "saccade_f1_score for threshold 50 is 36.98164513936098\n"
          ]
        },
        {
          "output_type": "stream",
          "name": "stderr",
          "text": [
            "/usr/local/lib/python3.7/dist-packages/ipykernel_launcher.py:23: VisibleDeprecationWarning: Creating an ndarray from ragged nested sequences (which is a list-or-tuple of lists-or-tuples-or ndarrays with different lengths or shapes) is deprecated. If you meant to do this, you must specify 'dtype=object' when creating the ndarray.\n",
            "/usr/local/lib/python3.7/dist-packages/sklearn/metrics/_classification.py:1318: UndefinedMetricWarning: Precision and F-score are ill-defined and being set to 0.0 in labels with no predicted samples. Use `zero_division` parameter to control this behavior.\n",
            "  _warn_prf(average, modifier, msg_start, len(result))\n",
            "/usr/local/lib/python3.7/dist-packages/sklearn/metrics/_classification.py:1318: UndefinedMetricWarning: Precision and F-score are ill-defined and being set to 0.0 in labels with no predicted samples. Use `zero_division` parameter to control this behavior.\n",
            "  _warn_prf(average, modifier, msg_start, len(result))\n",
            "/usr/local/lib/python3.7/dist-packages/sklearn/metrics/_classification.py:1318: UndefinedMetricWarning: Precision and F-score are ill-defined and being set to 0.0 in labels with no predicted samples. Use `zero_division` parameter to control this behavior.\n",
            "  _warn_prf(average, modifier, msg_start, len(result))\n"
          ]
        }
      ]
    },
    {
      "cell_type": "code",
      "source": [
        "plt.plot(thresholds, fixation_recall, label=\"Fixation Accuracy\")\n",
        "plt.plot(thresholds, fixation_precision, label=\"Fixation_Precision\")\n",
        "plt.plot(thresholds, fixation_f1_score, label=\"Fixation_f1_score\")\n",
        "plt.plot(thresholds, saccade_recall, label=\"Saccade accuracy\")\n",
        "plt.plot(thresholds, saccade_precision, label=\"Saccade_precision\")\n",
        "plt.plot(thresholds, saccade_f1_score, label=\"Saccade_f1_score\")\n",
        "\n",
        "\n",
        "\n",
        "#plt.plot(thresholds, accuracy, label=\"Acuracy\")\n",
        "plt.xlabel(\"D_threshold [px]\")\n",
        "plt.ylabel(\"Accuracy [%]\")\n",
        "plt.title(\"Dispersion threshold vs Accuracy\")\n",
        "plt.legend()\n",
        "plt.show()"
      ],
      "metadata": {
        "colab": {
          "base_uri": "https://localhost:8080/",
          "height": 296
        },
        "id": "6KYiZ3j_HqbX",
        "outputId": "f49db209-d317-4783-e1dc-df9de67e58b9"
      },
      "execution_count": null,
      "outputs": [
        {
          "output_type": "display_data",
          "data": {
            "text/plain": [
              "<Figure size 432x288 with 1 Axes>"
            ],
            "image/png": "[encoded data removed]"
          },
          "metadata": {
            "needs_background": "light"
          }
        }
      ]
    },
    {
      "cell_type": "code",
      "source": [
        "print('fixation recall=',fixation_recall)\n",
        "print('saccade accuracy=', saccade_recall)"
      ],
      "metadata": {
        "colab": {
          "base_uri": "https://localhost:8080/"
        },
        "id": "dZ7YqXs3Kv8L",
        "outputId": "5012f72a-37fa-4e18-d7d4-27e9341da231"
      },
      "execution_count": null,
      "outputs": [
        {
          "output_type": "stream",
          "name": "stdout",
          "text": [
            "fixation recall= [0.0, 38.9951441878902, 62.33277177683084, 77.95064909325141, 86.80011891784758, 92.01268457040928, 94.62887721732237, 96.31354672480428, 97.39371717371915, 97.98830641165395, 98.4243385194728, 98.79100188286591, 99.16757506689129, 99.35586165890398, 99.48468932712318, 99.55405807154891, 99.7027053810326, 99.78198394609058, 99.91081161430978, 99.91081161430978, 99.91081161430978, 99.92072143494202, 99.93063125557427, 99.94054107620651, 99.94054107620651, 99.94054107620651, 99.94054107620651, 99.94054107620651, 99.97027053810326]\n",
            "saccade accuracy= [100.0, 99.41471571906355, 98.49498327759197, 97.5752508361204, 96.32107023411372, 94.56521739130434, 92.89297658862876, 91.30434782608695, 89.88294314381271, 88.62876254180603, 87.29096989966555, 85.78595317725753, 84.6989966555184, 83.52842809364549, 82.27424749163879, 81.18729096989966, 78.84615384615384, 76.83946488294315, 73.57859531772576, 71.23745819397993, 69.7324414715719, 68.06020066889631, 66.1371237458194, 59.61538461538461, 56.8561872909699, 52.0066889632107, 45.819397993311036, 39.63210702341137, 22.74247491638796]\n"
          ]
        }
      ]
    }
  ],
  "metadata": {
    "colab": {
      "collapsed_sections": [],
      "provenance": [],
      "include_colab_link": true
    },
    "kernelspec": {
      "display_name": "Python 3",
      "name": "python3"
    },
    "language_info": {
      "name": "python"
    }
  },
  "nbformat": 4,
  "nbformat_minor": 0
}