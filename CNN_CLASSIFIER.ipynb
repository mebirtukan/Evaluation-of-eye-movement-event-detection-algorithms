{
  "nbformat": 4,
  "nbformat_minor": 0,
  "metadata": {
    "colab": {
      "provenance": [],
      "include_colab_link": true
    },
    "kernelspec": {
      "name": "python3",
      "display_name": "Python 3"
    },
    "language_info": {
      "name": "python"
    }
  },
  "cells": [
    {
      "cell_type": "markdown",
      "metadata": {
        "id": "view-in-github",
        "colab_type": "text"
      },
      "source": [
        "<a href=\"https://colab.research.google.com/github/mebirtukan/EyeMovementEventDetectionAlgorithms/blob/main/CNN_CLASSIFIER.ipynb\" target=\"_parent\"><img src=\"https://colab.research.google.com/assets/colab-badge.svg\" alt=\"Open In Colab\"/></a>"
      ]
    },
    {
      "cell_type": "code",
      "execution_count": null,
      "metadata": {
        "id": "w1-3AfYW4m4X"
      },
      "outputs": [],
      "source": [
        "from scipy.io import loadmat\n",
        "import pandas as pd\n",
        "import numpy as np\n",
        "import matplotlib as mpl\n",
        "import matplotlib.pyplot as plt\n",
        "from sklearn.model_selection import train_test_split\n",
        "from sklearn.preprocessing import MinMaxScaler, StandardScaler\n",
        "import tensorflow as tf\n",
        "from tensorflow.keras.preprocessing.sequence import TimeseriesGenerator\n",
        "from sklearn.metrics import confusion_matrix\n",
        "import matplotlib.pyplot as plt\n",
        "from tensorflow.keras.models import Sequential\n",
        "from tensorflow.keras.layers import Dense, Dropout, Activation, Flatten, Conv1D, MaxPool1D, Conv2D, BatchNormalization\n",
        "from sklearn.metrics import confusion_matrix, classification_report, accuracy_score, cohen_kappa_score\n",
        "\n"
      ]
    },
    {
      "cell_type": "code",
      "source": [
        "!wget www.kasprowski.pl/datasets/events.zip\n",
        "!unzip events.zip > xx\n"
      ],
      "metadata": {
        "colab": {
          "base_uri": "https://localhost:8080/"
        },
        "id": "YRJ-fOQ_4qTK",
        "outputId": "52b7a142-a869-41ef-e46d-9bd9bfa3e8ff"
      },
      "execution_count": null,
      "outputs": [
        {
          "output_type": "stream",
          "name": "stdout",
          "text": [
            "--2022-08-25 23:12:41--  http://www.kasprowski.pl/datasets/events.zip\n",
            "Resolving www.kasprowski.pl (www.kasprowski.pl)... 94.152.164.213\n",
            "Connecting to www.kasprowski.pl (www.kasprowski.pl)|94.152.164.213|:80... connected.\n",
            "HTTP request sent, awaiting response... 200 OK\n",
            "Length: 2909538 (2.8M) [application/zip]\n",
            "Saving to: ‘events.zip’\n",
            "\n",
            "events.zip          100%[===================>]   2.77M  2.35MB/s    in 1.2s    \n",
            "\n",
            "2022-08-25 23:12:43 (2.35 MB/s) - ‘events.zip’ saved [2909538/2909538]\n",
            "\n"
          ]
        }
      ]
    },
    {
      "cell_type": "code",
      "source": [
        "def openfile(filename):\n",
        "  mat = loadmat(filename)\n",
        "  mdata = mat['ETdata']\n",
        "  mtype = mdata.dtype\n",
        "  ndata = {n: mdata[n][0,0] for n in mtype.names}\n",
        "  data_headline = ndata['pos']\n",
        "  data_headline = data_headline[0]\n",
        "  data_raw = ndata['pos']\n",
        "  pdata = pd.DataFrame(data_raw,columns=data_headline)\n",
        "  df=pd.DataFrame(pdata)\n",
        "  df[1.0]=df[1.0].astype(int)\n",
        "  #t=pdata.iloc[:, 0].values maybe we should use it...\n",
        "  x=pdata.iloc[:, 3:5].values\n",
        "  y=pdata.iloc[:, 5].values\n",
        "  print(\"File\",filename,\"opened\")\n",
        "  return x ,y"
      ],
      "metadata": {
        "id": "sN2ckgan4xdH"
      },
      "execution_count": null,
      "outputs": []
    },
    {
      "cell_type": "code",
      "source": [
        "# data has two coordinates: X,Y returns velX and velY\n",
        "def calc_xy_velocity(data):\n",
        "  velX = [] #x values difference\n",
        "  velY = [] #y values difference \n",
        "\n",
        "  for i in range(len(data) - 1):\n",
        "    velX.append(float(data[i+1,0]) - float(data[i,0]) ) # 2ms!\n",
        "    velY.append(float(data[i+1,1]) - float(data[i,1]) )\n",
        "  velX = np.array(velX)\n",
        "  velY = np.array(velY)\n",
        "  velocity = np.vstack([velX,velY]).T\n",
        "  return velocity\n",
        "\n",
        "# data has two coordinates: X,Y returns ONE velocity\n",
        "def calc_velocity(data):\n",
        "  velX = [] #x values difference\n",
        "  velY = [] #y values difference \n",
        "  for i in range(len(data) - 1):\n",
        "    velX.append(float(data[i+1,0]) - float(data[i,0]) ) # 2ms!\n",
        "    velY.append(float(data[i+1,1]) - float(data[i,1]) )\n",
        "  velX = np.array(velX)\n",
        "  velY = np.array(velY)\n",
        "  velocity = np.sqrt(np.power(velX,2) + np.power(velY,2))\n",
        "  print(velocity.shape)  \n",
        "  return velocity"
      ],
      "metadata": {
        "id": "RU1O0icqzVjC"
      },
      "execution_count": null,
      "outputs": []
    },
    {
      "cell_type": "code",
      "source": [
        "def open_list_of_files(files_to_load):\n",
        "  samples = []\n",
        "  labels =[]\n",
        "  for my_file in files_to_load:\n",
        "    sam,lab = openfile(my_file)\n",
        "    #ssam,slab = make_sequences(sam,lab,50)\n",
        "    print('Number of samples so far:',len(samples))\n",
        "    samples.extend(sam)\n",
        "    labels.extend(lab)\n",
        "  samples = np.array(samples)\n",
        "  labels = np.array(labels)\n",
        "  print('Number of samples at the end:',len(samples))\n",
        "  return samples,labels\n",
        "files_to_load = ['data/UH33_img_vy_labelled_MN.mat','data/UH47_img_Europe_labelled_MN.mat','data/UH47_img_Europe_labelled_RA.mat','data/UH21_img_Rome_labelled_MN.mat', 'data/UH27_img_vy_labelled_MN.mat']\n",
        "files_to_load1 = ['data/TH34_img_Europe_labelled_MN.mat', 'data/UH21_img_Rome_labelled_RA.mat']\n",
        "#files_to_load = ['data/UH21_img_Rome_labelled_MN.mat']\n",
        "#files_to_load1 = ['data/TH34_img_Europe_labelled_MN.mat']\n",
        "\n",
        "s,l = open_list_of_files(files_to_load)\n",
        "s1,l1=open_list_of_files(files_to_load1)\n",
        "print(s.shape)\n",
        "print(l.shape)\n",
        "print(s1.shape)\n",
        "print(l1.shape)"
      ],
      "metadata": {
        "id": "n4pEzdka459S",
        "colab": {
          "base_uri": "https://localhost:8080/"
        },
        "outputId": "8403ecd0-486d-4afd-b24e-23d3cfbed96b"
      },
      "execution_count": null,
      "outputs": [
        {
          "output_type": "stream",
          "name": "stdout",
          "text": [
            "File data/UH33_img_vy_labelled_MN.mat opened\n",
            "Number of samples so far: 0\n",
            "File data/UH47_img_Europe_labelled_MN.mat opened\n",
            "Number of samples so far: 4988\n",
            "File data/UH47_img_Europe_labelled_RA.mat opened\n",
            "Number of samples so far: 6985\n",
            "File data/UH21_img_Rome_labelled_MN.mat opened\n",
            "Number of samples so far: 8982\n",
            "File data/UH27_img_vy_labelled_MN.mat opened\n",
            "Number of samples so far: 13970\n",
            "Number of samples at the end: 18958\n",
            "File data/TH34_img_Europe_labelled_MN.mat opened\n",
            "Number of samples so far: 0\n",
            "File data/UH21_img_Rome_labelled_RA.mat opened\n",
            "Number of samples so far: 4988\n",
            "Number of samples at the end: 9976\n",
            "(18958, 2)\n",
            "(18958,)\n",
            "(9976, 2)\n",
            "(9976,)\n"
          ]
        }
      ]
    },
    {
      "cell_type": "code",
      "source": [
        "# sequence \n",
        "def make_sequences(samples, labels, sequence_dim = 100, sequence_lag = 1, sequence_attributes = 2):\n",
        "    nsamples = []\n",
        "    nlabels = [] \n",
        "    for i in range(0,samples.shape[0]-sequence_dim,sequence_lag):\n",
        "            nsample = np.zeros((sequence_dim,sequence_attributes))\n",
        "            for j in range(i,i+sequence_dim):\n",
        "                nsample[j-i,0] = samples[j,0]\n",
        "                nsample[j-i,1] = samples[j,1]\n",
        "            nlabel = labels[i+sequence_dim//2]\n",
        "            #print(\"Sample\",nsample)\n",
        "            #print(\"Label\",nlabel)\n",
        "            nsamples.append(nsample)\n",
        "            nlabels.append(nlabel)\n",
        "        \n",
        "    samples = np.array(nsamples)\n",
        "    labels = np.array(nlabels)\n",
        "    return samples,labels "
      ],
      "metadata": {
        "id": "G0k_tI_i5GyG"
      },
      "execution_count": null,
      "outputs": []
    },
    {
      "cell_type": "code",
      "source": [
        "s = calc_xy_velocity(s)\n",
        "s1 = calc_xy_velocity(s1)\n",
        "\n",
        "sequence_dim = 100\n",
        "print(\"Samples shape before sequencing\",s.shape)\n",
        "\n",
        "print(\"Converting to sequences of length {}\".format(sequence_dim))\n",
        "x, y = make_sequences(s, l, sequence_dim)\n",
        "x1, y1 = make_sequences(s1, l1, sequence_dim)\n",
        "print(\"Samples shape after sequencing: {}\".format(x.shape))\n",
        "print(\"Labels shape after sequencing: {}\".format(y.shape))"
      ],
      "metadata": {
        "colab": {
          "base_uri": "https://localhost:8080/"
        },
        "id": "Wojlnvss5LRo",
        "outputId": "6042d561-3cb1-4a2a-eb31-46b3fa684b5e"
      },
      "execution_count": null,
      "outputs": [
        {
          "output_type": "stream",
          "name": "stdout",
          "text": [
            "Samples shape before sequencing (18957, 2)\n",
            "Converting to sequences of length 100\n",
            "Samples shape after sequencing: (18857, 100, 2)\n",
            "Labels shape after sequencing: (18857,)\n"
          ]
        }
      ]
    },
    {
      "cell_type": "code",
      "source": [
        "from sklearn.preprocessing import LabelBinarizer\n",
        "lb = LabelBinarizer()\n",
        "lb.fit(y)\n",
        "y = lb.transform(y)\n",
        "y1 = lb.transform(y1)\n"
      ],
      "metadata": {
        "id": "3308JsCN5ST9"
      },
      "execution_count": null,
      "outputs": []
    },
    {
      "cell_type": "code",
      "source": [
        "y1.shape"
      ],
      "metadata": {
        "colab": {
          "base_uri": "https://localhost:8080/"
        },
        "id": "GHMS0vFewaqz",
        "outputId": "1920ebf6-b6cb-4bad-ac29-07808bf15c3a"
      },
      "execution_count": null,
      "outputs": [
        {
          "output_type": "execute_result",
          "data": {
            "text/plain": [
              "(9874, 3)"
            ]
          },
          "metadata": {},
          "execution_count": 24
        }
      ]
    },
    {
      "cell_type": "code",
      "source": [
        "#Build CNN Model\n",
        "\n",
        "inputShape = (sequence_dim, 2)\n",
        "#inputShape = (x.shape)\n",
        "print('inputShape:',inputShape)\n",
        "model = Sequential()\n",
        "model.add(Conv1D(32, 3,input_shape=inputShape))\n",
        "model.add(BatchNormalization())\n",
        "model.add(Activation(\"relu\"))\n",
        "model.add(Dropout(0.2))\n",
        "\n",
        "model.add(Conv1D(64, 3, padding=\"same\"))\n",
        "model.add(BatchNormalization())\n",
        "model.add(Activation(\"relu\"))\n",
        "model.add(Dropout(0.2))\n",
        "model.add(Conv1D(128, 3, padding=\"same\"))\n",
        "model.add(Activation(\"relu\"))\n",
        "model.add(Dropout(0.2))\n",
        "model.add(Flatten())\n",
        "#model.add(Dense(128, activation='sigmoid'))\n",
        "model.add(Dense(64, activation='sigmoid'))\n",
        "model.add(Dense(3, activation='softmax'))\n",
        "#model.add(Dense(3, activation='softmax'))\n",
        "\n",
        "model.summary()"
      ],
      "metadata": {
        "colab": {
          "base_uri": "https://localhost:8080/"
        },
        "id": "2TzzNpQM5dHx",
        "outputId": "316e9a69-c4d0-4f07-fb0e-969e19afc282"
      },
      "execution_count": null,
      "outputs": [
        {
          "output_type": "stream",
          "name": "stdout",
          "text": [
            "inputShape: (100, 2)\n",
            "Model: \"sequential_5\"\n",
            "_________________________________________________________________\n",
            " Layer (type)                Output Shape              Param #   \n",
            "=================================================================\n",
            " conv1d_15 (Conv1D)          (None, 98, 32)            224       \n",
            "                                                                 \n",
            " batch_normalization_10 (Bat  (None, 98, 32)           128       \n",
            " chNormalization)                                                \n",
            "                                                                 \n",
            " activation_14 (Activation)  (None, 98, 32)            0         \n",
            "                                                                 \n",
            " dropout_13 (Dropout)        (None, 98, 32)            0         \n",
            "                                                                 \n",
            " conv1d_16 (Conv1D)          (None, 98, 64)            6208      \n",
            "                                                                 \n",
            " batch_normalization_11 (Bat  (None, 98, 64)           256       \n",
            " chNormalization)                                                \n",
            "                                                                 \n",
            " activation_15 (Activation)  (None, 98, 64)            0         \n",
            "                                                                 \n",
            " dropout_14 (Dropout)        (None, 98, 64)            0         \n",
            "                                                                 \n",
            " conv1d_17 (Conv1D)          (None, 98, 128)           24704     \n",
            "                                                                 \n",
            " activation_16 (Activation)  (None, 98, 128)           0         \n",
            "                                                                 \n",
            " dropout_15 (Dropout)        (None, 98, 128)           0         \n",
            "                                                                 \n",
            " flatten_5 (Flatten)         (None, 12544)             0         \n",
            "                                                                 \n",
            " dense_10 (Dense)            (None, 64)                802880    \n",
            "                                                                 \n",
            " dense_11 (Dense)            (None, 3)                 195       \n",
            "                                                                 \n",
            "=================================================================\n",
            "Total params: 834,595\n",
            "Trainable params: 834,403\n",
            "Non-trainable params: 192\n",
            "_________________________________________________________________\n"
          ]
        }
      ]
    },
    {
      "cell_type": "code",
      "source": [
        "#from tensorflow.keras.utils import plot_model\n",
        "#plot_model(model)"
      ],
      "metadata": {
        "id": "8rylMRT8RdlM"
      },
      "execution_count": null,
      "outputs": []
    },
    {
      "cell_type": "code",
      "source": [
        "model.save('CNN_CLASS.h5')"
      ],
      "metadata": {
        "id": "gd_FDMPIRkyx"
      },
      "execution_count": null,
      "outputs": []
    },
    {
      "cell_type": "code",
      "source": [
        "!pip install netron"
      ],
      "metadata": {
        "colab": {
          "base_uri": "https://localhost:8080/"
        },
        "id": "dbVPJt2dphcz",
        "outputId": "3d3b6b04-53eb-45ea-debf-7a2845fff09a"
      },
      "execution_count": null,
      "outputs": [
        {
          "output_type": "stream",
          "name": "stdout",
          "text": [
            "Looking in indexes: https://pypi.org/simple, https://us-python.pkg.dev/colab-wheels/public/simple/\n",
            "Requirement already satisfied: netron in /usr/local/lib/python3.7/dist-packages (6.0.0)\n"
          ]
        }
      ]
    },
    {
      "cell_type": "code",
      "source": [
        "import netron"
      ],
      "metadata": {
        "id": "hP3C1hAhpmTy"
      },
      "execution_count": null,
      "outputs": []
    },
    {
      "cell_type": "code",
      "source": [
        "model.compile(loss='categorical_crossentropy', optimizer=\"adam\",metrics=['accuracy'])\n",
        "    \n",
        "EPOCHS=20\n",
        "BATCH=100\n",
        "model.fit(x, y, batch_size=BATCH, epochs=EPOCHS\n",
        "              ,validation_data=(x1,y1)\n",
        "              )\n",
        "    \n",
        "\n",
        "print(\"Training\")\n",
        "cnnResults = model.predict(x)\n",
        "print(confusion_matrix(y.argmax(axis=1), cnnResults.argmax(axis=1)))\n",
        "print(classification_report(y.argmax(axis=1), cnnResults.argmax(axis=1)))\n",
        "print(\"CNN Accuracy: {:.2f}\".format(accuracy_score(y.argmax(axis=1), cnnResults.argmax(axis=1))))\n",
        "print(\"Cohen's Kappa {:.2f}\".format(cohen_kappa_score(y.argmax(axis=1), cnnResults.argmax(axis=1))))\n",
        "\n",
        "print(\"Test\")\n",
        "cnnResults = model.predict(x1)\n",
        "print(confusion_matrix(y1.argmax(axis=1), cnnResults.argmax(axis=1)))\n",
        "print(classification_report(y1.argmax(axis=1), cnnResults.argmax(axis=1)))\n",
        "CM=(confusion_matrix(y1.argmax(axis=1), cnnResults.argmax(axis=1)))\n",
        "print(\"CNN Accuracy: {:.2f}\".format(accuracy_score(y1.argmax(axis=1), cnnResults.argmax(axis=1))))\n",
        "print(\"Cohen's Kappa {:.2f}\".format(cohen_kappa_score(y1.argmax(axis=1), cnnResults.argmax(axis=1))))"
      ],
      "metadata": {
        "colab": {
          "base_uri": "https://localhost:8080/"
        },
        "id": "nZoyZ9ui5j2N",
        "outputId": "e1b1c9a8-f482-4dc5-8aad-38518f117514"
      },
      "execution_count": null,
      "outputs": [
        {
          "output_type": "stream",
          "name": "stdout",
          "text": [
            "Epoch 1/20\n",
            "189/189 [==============================] - 29s 143ms/step - loss: 0.1797 - accuracy: 0.9337 - val_loss: 0.1200 - val_accuracy: 0.9588\n",
            "Epoch 2/20\n",
            "189/189 [==============================] - 24s 129ms/step - loss: 0.1165 - accuracy: 0.9568 - val_loss: 0.1032 - val_accuracy: 0.9601\n",
            "Epoch 3/20\n",
            "189/189 [==============================] - 25s 130ms/step - loss: 0.0984 - accuracy: 0.9615 - val_loss: 0.0921 - val_accuracy: 0.9649\n",
            "Epoch 4/20\n",
            "189/189 [==============================] - 23s 122ms/step - loss: 0.0837 - accuracy: 0.9675 - val_loss: 0.0840 - val_accuracy: 0.9689\n",
            "Epoch 5/20\n",
            "189/189 [==============================] - 24s 125ms/step - loss: 0.0728 - accuracy: 0.9717 - val_loss: 0.0806 - val_accuracy: 0.9678\n",
            "Epoch 6/20\n",
            "189/189 [==============================] - 23s 122ms/step - loss: 0.0673 - accuracy: 0.9735 - val_loss: 0.0834 - val_accuracy: 0.9695\n",
            "Epoch 7/20\n",
            "189/189 [==============================] - 24s 128ms/step - loss: 0.0604 - accuracy: 0.9763 - val_loss: 0.0873 - val_accuracy: 0.9689\n",
            "Epoch 8/20\n",
            "189/189 [==============================] - 23s 120ms/step - loss: 0.0531 - accuracy: 0.9794 - val_loss: 0.0874 - val_accuracy: 0.9676\n",
            "Epoch 9/20\n",
            "189/189 [==============================] - 23s 121ms/step - loss: 0.0493 - accuracy: 0.9801 - val_loss: 0.0788 - val_accuracy: 0.9727\n",
            "Epoch 10/20\n",
            "189/189 [==============================] - 24s 129ms/step - loss: 0.0455 - accuracy: 0.9806 - val_loss: 0.0892 - val_accuracy: 0.9707\n",
            "Epoch 11/20\n",
            "189/189 [==============================] - 23s 121ms/step - loss: 0.0401 - accuracy: 0.9841 - val_loss: 0.0886 - val_accuracy: 0.9726\n",
            "Epoch 12/20\n",
            "189/189 [==============================] - 23s 121ms/step - loss: 0.0387 - accuracy: 0.9837 - val_loss: 0.0907 - val_accuracy: 0.9711\n",
            "Epoch 13/20\n",
            "189/189 [==============================] - 24s 125ms/step - loss: 0.0350 - accuracy: 0.9851 - val_loss: 0.1008 - val_accuracy: 0.9670\n",
            "Epoch 14/20\n",
            "189/189 [==============================] - 24s 126ms/step - loss: 0.0301 - accuracy: 0.9881 - val_loss: 0.0988 - val_accuracy: 0.9696\n",
            "Epoch 15/20\n",
            "189/189 [==============================] - 24s 128ms/step - loss: 0.0309 - accuracy: 0.9865 - val_loss: 0.1009 - val_accuracy: 0.9702\n",
            "Epoch 16/20\n",
            "189/189 [==============================] - 24s 129ms/step - loss: 0.0287 - accuracy: 0.9880 - val_loss: 0.1058 - val_accuracy: 0.9708\n",
            "Epoch 17/20\n",
            "189/189 [==============================] - 24s 126ms/step - loss: 0.0276 - accuracy: 0.9884 - val_loss: 0.1001 - val_accuracy: 0.9715\n",
            "Epoch 18/20\n",
            "189/189 [==============================] - 25s 132ms/step - loss: 0.0256 - accuracy: 0.9892 - val_loss: 0.1192 - val_accuracy: 0.9681\n",
            "Epoch 19/20\n",
            "189/189 [==============================] - 26s 136ms/step - loss: 0.0250 - accuracy: 0.9902 - val_loss: 0.1109 - val_accuracy: 0.9702\n",
            "Epoch 20/20\n",
            "189/189 [==============================] - 25s 135ms/step - loss: 0.0236 - accuracy: 0.9896 - val_loss: 0.1069 - val_accuracy: 0.9695\n",
            "Training\n",
            "[[15786    35    46]\n",
            " [    3  1804    17]\n",
            " [   17    16  1133]]\n",
            "              precision    recall  f1-score   support\n",
            "\n",
            "           0       1.00      0.99      1.00     15867\n",
            "           1       0.97      0.99      0.98      1824\n",
            "           2       0.95      0.97      0.96      1166\n",
            "\n",
            "    accuracy                           0.99     18857\n",
            "   macro avg       0.97      0.99      0.98     18857\n",
            "weighted avg       0.99      0.99      0.99     18857\n",
            "\n",
            "CNN Accuracy: 0.99\n",
            "Cohen's Kappa 0.97\n",
            "Test\n",
            "[[8212   54   80]\n",
            " [  27  907   31]\n",
            " [  69   40  455]]\n",
            "              precision    recall  f1-score   support\n",
            "\n",
            "           0       0.99      0.98      0.99      8346\n",
            "           1       0.91      0.94      0.92       965\n",
            "           2       0.80      0.81      0.81       564\n",
            "\n",
            "    accuracy                           0.97      9875\n",
            "   macro avg       0.90      0.91      0.90      9875\n",
            "weighted avg       0.97      0.97      0.97      9875\n",
            "\n",
            "CNN Accuracy: 0.97\n",
            "Cohen's Kappa 0.89\n"
          ]
        }
      ]
    },
    {
      "cell_type": "code",
      "source": [],
      "metadata": {
        "id": "kVJQtGPHyAum"
      },
      "execution_count": null,
      "outputs": []
    },
    {
      "cell_type": "code",
      "source": [
        "import seaborn as sns\n",
        "cm_normalized=np.round(CM/np.sum(CM, axis=1).reshape(-1, 1), 2)\n",
        "print(cm_normalized)\n",
        "sns.heatmap(cm_normalized, cmap='Blues', annot=True, cbar_kws={\"orientation\": \"vertical\", \"label\": \"color bar\"}, xticklabels=['fix','sac','pso'], yticklabels=['fix', 'sac', 'pso'])\n",
        "plt.xlabel(\"Predicted value\")\n",
        "plt.ylabel(\"Actual value\")\n",
        "plt.show()"
      ],
      "metadata": {
        "colab": {
          "base_uri": "https://localhost:8080/",
          "height": 334
        },
        "id": "hpEh57hG0vlQ",
        "outputId": "b6bd2046-7d08-4465-be1b-f8ef11f64c8e"
      },
      "execution_count": null,
      "outputs": [
        {
          "output_type": "stream",
          "name": "stdout",
          "text": [
            "[[0.99 0.   0.  ]\n",
            " [0.06 0.89 0.05]\n",
            " [0.21 0.04 0.75]]\n"
          ]
        },
        {
          "output_type": "display_data",
          "data": {
            "text/plain": [
              "<Figure size 432x288 with 2 Axes>"
            ],
            "image/png": "[encoded data removed]"
          },
          "metadata": {
            "needs_background": "light"
          }
        }
      ]
    }
  ]
}