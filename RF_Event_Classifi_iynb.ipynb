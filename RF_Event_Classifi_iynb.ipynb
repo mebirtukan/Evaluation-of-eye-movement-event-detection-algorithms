{
  "nbformat": 4,
  "nbformat_minor": 0,
  "metadata": {
    "colab": {
      "provenance": [],
      "collapsed_sections": [],
      "include_colab_link": true
    },
    "kernelspec": {
      "name": "python3",
      "display_name": "Python 3"
    },
    "language_info": {
      "name": "python"
    }
  },
  "cells": [
    {
      "cell_type": "markdown",
      "metadata": {
        "id": "view-in-github",
        "colab_type": "text"
      },
      "source": [
        "<a href=\"https://colab.research.google.com/github/mebirtukan/EyeMovementEventDetectionAlgorithms/blob/main/RF_Event_Classifi_iynb.ipynb\" target=\"_parent\"><img src=\"https://colab.research.google.com/assets/colab-badge.svg\" alt=\"Open In Colab\"/></a>"
      ]
    },
    {
      "cell_type": "code",
      "metadata": {
        "id": "LPxGKhtEcsX-"
      },
      "source": [
        "from scipy.io import loadmat\n",
        "import pandas as pd\n",
        "import numpy as np\n",
        "import matplotlib as mpl\n",
        "import matplotlib.pyplot as plt\n",
        "from sklearn.model_selection import train_test_split\n",
        "from tensorflow.keras.preprocessing.sequence import  TimeseriesGenerator\n",
        "from sklearn.preprocessing import MinMaxScaler, StandardScaler\n",
        "import tensorflow as tf\n",
        "from sklearn.metrics import f1_score \n",
        "\n",
        "import os\n",
        "import glob\n",
        "import seaborn as sns"
      ],
      "execution_count": null,
      "outputs": []
    },
    {
      "cell_type": "code",
      "source": [
        "!wget www.kasprowski.pl/datasets/events.zip\n",
        "!unzip events.zip > xx"
      ],
      "metadata": {
        "colab": {
          "base_uri": "https://localhost:8080/"
        },
        "id": "LR8h5__AVJvg",
        "outputId": "12dab79e-4c4d-4856-fe0d-804147da0d7b"
      },
      "execution_count": null,
      "outputs": [
        {
          "output_type": "stream",
          "name": "stdout",
          "text": [
            "--2022-10-31 12:42:02--  http://www.kasprowski.pl/datasets/events.zip\n",
            "Resolving www.kasprowski.pl (www.kasprowski.pl)... 94.152.164.213\n",
            "Connecting to www.kasprowski.pl (www.kasprowski.pl)|94.152.164.213|:80... connected.\n",
            "HTTP request sent, awaiting response... 200 OK\n",
            "Length: 2909538 (2.8M) [application/zip]\n",
            "Saving to: ‘events.zip’\n",
            "\n",
            "events.zip          100%[===================>]   2.77M  2.74MB/s    in 1.0s    \n",
            "\n",
            "2022-10-31 12:42:03 (2.74 MB/s) - ‘events.zip’ saved [2909538/2909538]\n",
            "\n"
          ]
        }
      ]
    },
    {
      "cell_type": "code",
      "source": [
        "def openfile(filename):\n",
        "  mat = loadmat(filename)\n",
        "  mdata = mat['ETdata']\n",
        "  mtype = mdata.dtype\n",
        "  ndata = {n: mdata[n][0,0] for n in mtype.names}\n",
        "  data_headline = ndata['pos']\n",
        "  data_headline = data_headline[0]\n",
        "  data_raw = ndata['pos']\n",
        "  pdata = pd.DataFrame(data_raw,columns=data_headline)\n",
        "  df=pd.DataFrame(pdata)\n",
        "  df[1.0]=df[1.0].astype(int)\n",
        "  #t=pdata.iloc[:, 0].values maybe we should use it...\n",
        "  x=pdata.iloc[:, 3:5].values\n",
        "  y=pdata.iloc[:, 5].values\n",
        "  print(\"File\",filename,\"opened\")\n",
        "  return x ,y"
      ],
      "metadata": {
        "id": "z_49FFAF4XSU"
      },
      "execution_count": null,
      "outputs": []
    },
    {
      "cell_type": "code",
      "source": [
        "# data has two coordinates: X,Y returns velX and velY\n",
        "def calc_xy_velocity(data):\n",
        "  velX = [] #x values difference\n",
        "  velY = [] #y values difference \n",
        "\n",
        "  for i in range(len(data) - 1):\n",
        "    velX.append(float(data[i+1,0]) - float(data[i,0]) ) # 2ms!\n",
        "    velY.append(float(data[i+1,1]) - float(data[i,1]) )\n",
        "  velX = np.array(velX)\n",
        "  velY = np.array(velY)\n",
        "  velocity = np.vstack([velX,velY]).T\n",
        "  return velocity\n",
        "\n",
        "# data has two coordinates: X,Y returns ONE velocity\n",
        "def calc_velocity(data):\n",
        "  velX = [] #x values difference\n",
        "  velY = [] #y values difference \n",
        "  for i in range(len(data) - 1):\n",
        "    velX.append(float(data[i+1,0]) - float(data[i,0]) ) # 2ms!\n",
        "    velY.append(float(data[i+1,1]) - float(data[i,1]) )\n",
        "  velX = np.array(velX)\n",
        "  velY = np.array(velY)\n",
        "  velocity = np.sqrt(np.power(velX,2) + np.power(velY,2))\n",
        "  print(velocity.shape)  \n",
        "  return velocity"
      ],
      "metadata": {
        "id": "RfjPQDs6mjGC"
      },
      "execution_count": null,
      "outputs": []
    },
    {
      "cell_type": "code",
      "source": [
        "\n",
        "\n",
        "def open_list_of_files(files_to_load):\n",
        "  samples = []\n",
        "  labels =[]\n",
        "  for my_file in files_to_load:\n",
        "    sam,lab = openfile(my_file)\n",
        "    #ssam,slab = make_sequences(sam,lab,50)\n",
        "    print('Number of samples so far:',len(samples))\n",
        "    samples.extend(sam)\n",
        "    labels.extend(lab)\n",
        "  samples = np.array(samples)\n",
        "  labels = np.array(labels)\n",
        "  print('Number of samples at the end:',len(samples))\n",
        "  return samples,labels\n",
        "files_to_load1 = ['data/UH33_img_vy_labelled_MN.mat','data/UH47_img_Europe_labelled_MN.mat','data/UH47_img_Europe_labelled_RA.mat','data/UH21_img_Rome_labelled_MN.mat', 'data/UH27_img_vy_labelled_MN.mat']\n",
        "#files_to_load = ['data/TH34_img_Europe_labelled_MN.mat', 'data/UH21_img_Rome_labelled_RA.mat']\n",
        "files_to_load = ['data/TH34_img_Europe_labelled_MN.mat', 'data/UH21_img_Rome_labelled_MN.mat']\n",
        "\n",
        "#files_to_load = ['data/UH21_img_Rome_labelled_MN.mat']\n",
        "#files_to_load1 = ['data/TH34_img_Europe_labelled_MN.mat']\n",
        "\n",
        "s,l = open_list_of_files(files_to_load)\n",
        "s1,l1=open_list_of_files(files_to_load1)\n",
        "print(s.shape)\n",
        "print(l.shape)\n",
        "print(s1.shape)\n",
        "print(l1.shape)"
      ],
      "metadata": {
        "id": "8FCmTBPkLSoh",
        "colab": {
          "base_uri": "https://localhost:8080/"
        },
        "outputId": "266e97bc-069d-4ea2-cb50-ca652aca31b7"
      },
      "execution_count": null,
      "outputs": [
        {
          "output_type": "stream",
          "name": "stdout",
          "text": [
            "File data/TH34_img_Europe_labelled_MN.mat opened\n",
            "Number of samples so far: 0\n",
            "File data/UH21_img_Rome_labelled_RA.mat opened\n",
            "Number of samples so far: 4988\n",
            "Number of samples at the end: 9976\n",
            "File data/UH33_img_vy_labelled_MN.mat opened\n",
            "Number of samples so far: 0\n",
            "File data/UH47_img_Europe_labelled_MN.mat opened\n",
            "Number of samples so far: 4988\n",
            "File data/UH47_img_Europe_labelled_RA.mat opened\n",
            "Number of samples so far: 6985\n",
            "File data/UH21_img_Rome_labelled_MN.mat opened\n",
            "Number of samples so far: 8982\n",
            "File data/UH27_img_vy_labelled_MN.mat opened\n",
            "Number of samples so far: 13970\n",
            "Number of samples at the end: 18958\n",
            "(9976, 2)\n",
            "(9976,)\n",
            "(18958, 2)\n",
            "(18958,)\n"
          ]
        }
      ]
    },
    {
      "cell_type": "code",
      "source": [
        "# simple visualization\n",
        "plt.plot(s)\n",
        "plt.show()\n",
        "s = calc_velocity(s)\n",
        "s1 = calc_velocity(s1)\n",
        "plt.plot(s)"
      ],
      "metadata": {
        "id": "gDtvXq9B4aUz",
        "colab": {
          "base_uri": "https://localhost:8080/",
          "height": 550
        },
        "outputId": "24f04321-bbe8-47bc-eac7-3731aa7bf5c8"
      },
      "execution_count": null,
      "outputs": [
        {
          "output_type": "display_data",
          "data": {
            "text/plain": [
              "<Figure size 432x288 with 1 Axes>"
            ],
            "image/png": "[encoded data removed]"
          },
          "metadata": {
            "needs_background": "light"
          }
        },
        {
          "output_type": "execute_result",
          "data": {
            "text/plain": [
              "[<matplotlib.lines.Line2D at 0x7f768b812c90>,\n",
              " <matplotlib.lines.Line2D at 0x7f768b812ed0>]"
            ]
          },
          "metadata": {},
          "execution_count": 6
        },
        {
          "output_type": "display_data",
          "data": {
            "text/plain": [
              "<Figure size 432x288 with 1 Axes>"
            ],
            "image/png": "[encoded data removed]"
          },
          "metadata": {
            "needs_background": "light"
          }
        }
      ]
    },
    {
      "cell_type": "code",
      "source": [
        "\n"
      ],
      "metadata": {
        "id": "WWmMbpL-lgns"
      },
      "execution_count": null,
      "outputs": []
    },
    {
      "cell_type": "code",
      "metadata": {
        "id": "vkqeVLUuPto_"
      },
      "source": [
        "# sequence \n",
        "def make_sequences(samples, labels, sequence_dim = 100, sequence_lag = 1, sequence_attributes = 2):\n",
        "    nsamples = []\n",
        "    nlabels = [] \n",
        "    for i in range(0,samples.shape[0]-sequence_dim,sequence_lag):\n",
        "            nsample = np.zeros((sequence_dim,sequence_attributes))\n",
        "            for j in range(i,i+sequence_dim):\n",
        "                nsample[j-i,0] = samples[j,0]\n",
        "                nsample[j-i,1] = samples[j,1]\n",
        "            nlabel = labels[i+sequence_dim//2]\n",
        "            nsamples.append(nsample)\n",
        "            nlabels.append(nlabel)\n",
        "        \n",
        "    samples = np.array(nsamples)\n",
        "    labels = np.array(nlabels)\n",
        "    return samples,labels "
      ],
      "execution_count": null,
      "outputs": []
    },
    {
      "cell_type": "code",
      "source": [
        "sequence_dim = 15\n",
        "print(\"Converting to sequences of length {}\".format(sequence_dim))\n",
        "x,y = make_sequences(s, l, sequence_dim)\n",
        "x1,y1 = make_sequences(s1, l1, sequence_dim)\n",
        "print(\"done:\",x.shape )"
      ],
      "metadata": {
        "colab": {
          "base_uri": "https://localhost:8080/"
        },
        "id": "PmSLYq5BVsIp",
        "outputId": "d566a299-5497-4bdf-be74-5feeb266cf88"
      },
      "execution_count": null,
      "outputs": [
        {
          "output_type": "stream",
          "name": "stdout",
          "text": [
            "Converting to sequences of length 15\n",
            "done: (9960, 15, 2)\n"
          ]
        }
      ]
    },
    {
      "cell_type": "code",
      "source": [
        "x = x.reshape(-1, sequence_dim*2)\n",
        "x1 = x1.reshape(-1, sequence_dim*2)\n",
        "\n",
        "x.shape"
      ],
      "metadata": {
        "id": "PC3dCx0NVNWh",
        "colab": {
          "base_uri": "https://localhost:8080/"
        },
        "outputId": "0ca515c2-41dc-4bda-ebeb-3a3c3095ed78"
      },
      "execution_count": null,
      "outputs": [
        {
          "output_type": "execute_result",
          "data": {
            "text/plain": [
              "(9960, 30)"
            ]
          },
          "metadata": {},
          "execution_count": 57
        }
      ]
    },
    {
      "cell_type": "code",
      "metadata": {
        "id": "xN6rhBjnCWzF",
        "colab": {
          "base_uri": "https://localhost:8080/"
        },
        "outputId": "080b3b91-fc28-4d85-c0cf-221d59afa932"
      },
      "source": [
        "from sklearn import ensemble\n",
        "from sklearn.metrics import classification_report, confusion_matrix\n",
        "#RF=OneVsRestClassifier(RandomForestClassifier(max_features=0.2))\n",
        "RF=ensemble.RandomForestClassifier()\n",
        "\n",
        "# from sklearn.neighbors import KNeighborsClassifier\n",
        "# RF = KNeighborsClassifier(n_neighbors=5)\n",
        "RF.fit(x, y)\n",
        "y1_pred=RF.predict(x1)\n",
        "print(classification_report(y1, y1_pred))\n",
        "print(confusion_matrix(y1, y1_pred))\n",
        "CM=confusion_matrix(y1, y1_pred)\n",
        "sumf=CM[0][0]+CM[0][1]+CM[0][2]\n",
        "#print(sum)\n",
        "Tcf=CM[0][0]\n",
        "Fixa_recall=Tcf*100/sumf\n",
        "print(\"Fixa_recall\",Fixa_recall)\n",
        "#fixation precision \n",
        "sumfp=CM[0][0]+CM[1][0]+CM[2][0]\n",
        "Tcfp=CM[0][0]\n",
        "fixation_precision=(Tcfp*100/sumfp)\n",
        "#print('Fixation precission', fixation_precision)\n",
        " #fixation f1_score\n",
        "multiply_recal_prec=2*((Tcfp*100/sumfp)*(Tcf*100/sumf))\n",
        "add_recall_prec=((Tcf*100/sumf)+Tcfp*100/sumfp)\n",
        "result_f1_score=multiply_recal_prec/add_recall_prec\n",
        "fixation_f1_score=(result_f1_score)\n",
        "#print('fixation_f1_score', fixation_f1_score)\n",
        "#Saccade recall\n",
        "sum_sac=CM[1][0]+CM[1][1]+CM[1][2]\n",
        "Tc_sac=CM[1][1]\n",
        "Sacc_recall=(Tc_sac*100/sum_sac)\n",
        "print(\"Sacc_recall\",Sacc_recall)\n",
        "#Saccade precison\n",
        "sum_saccP=CM[0][1]+CM[1][1]+CM[2][2]\n",
        "Tc_saccP=CM[1][1]\n",
        "saccade_precision=(Tc_saccP*100/sum_saccP)\n",
        "#print('saccade_precision', saccade_precision)\n",
        " #saccade f1_score\n",
        "multiply=2*((Tc_saccP*100/sum_saccP)*(Tc_sac*100/sum_sac))\n",
        "addition=(Tc_sac*100/sum_sac)+(Tc_saccP*100/sum_saccP)\n",
        "saccade_f1_score=(multiply/addition)\n",
        "#print('saccade_f1_score', saccade_f1_score)\n",
        "  #PSO Reacll\n",
        "sum_PSO=CM[2][0]+CM[2][1]+CM[2][2]\n",
        "#print(sum)\n",
        "Tc_PSO=CM[2][2]\n",
        "PSO_Recall=Tc_PSO*100/sum_PSO\n",
        "print(\"PSO_Recall\",PSO_Recall)\n",
        "#PSO precission\n",
        "sum_PSP_precison=CM[0][2]+CM[1][2]+CM[2][2]\n",
        "Tc_PSO_P=CM[2][2]\n",
        "PSO_Precision=(Tc_PSO_P*100/sum_PSP_precison)\n",
        "#print('PSO_Precision', PSO_Precision)\n",
        " #PSO f1_score\n",
        "multiply=2*((Tc_PSO_P*100/sum_PSP_precison)*(Tc_PSO*100/sum_PSO))\n",
        "adition=(Tc_PSO*100/sum_PSO)+(Tc_PSO_P*100/sum_PSP_precison)\n",
        "PSO_f1_score=(multiply/addition)\n",
        "#print('PSO_f1_score', PSO_f1_score)\n",
        "  "
      ],
      "execution_count": null,
      "outputs": [
        {
          "output_type": "stream",
          "name": "stdout",
          "text": [
            "              precision    recall  f1-score   support\n",
            "\n",
            "           1       0.99      0.97      0.98     15946\n",
            "           2       0.87      0.91      0.89      1830\n",
            "           3       0.62      0.76      0.68      1166\n",
            "\n",
            "    accuracy                           0.95     18942\n",
            "   macro avg       0.83      0.88      0.85     18942\n",
            "weighted avg       0.96      0.95      0.95     18942\n",
            "\n",
            "[[15444    43   459]\n",
            " [   77  1659    94]\n",
            " [   83   199   884]]\n",
            "Fixa_recall 96.85187507838957\n",
            "Sacc_recall 90.65573770491804\n",
            "PSO_Recall 75.8147512864494\n"
          ]
        }
      ]
    },
    {
      "cell_type": "code",
      "source": [
        "from sklearn.metrics import confusion_matrix, classification_report, accuracy_score, cohen_kappa_score\n",
        "print(cohen_kappa_score(y1, y1_pred))\n"
      ],
      "metadata": {
        "colab": {
          "base_uri": "https://localhost:8080/"
        },
        "id": "LfiARSEfxJcL",
        "outputId": "6cbadecf-ac0f-4f7b-8e92-72568e211b53"
      },
      "execution_count": null,
      "outputs": [
        {
          "output_type": "stream",
          "name": "stdout",
          "text": [
            "0.8274280923434728\n"
          ]
        }
      ]
    },
    {
      "cell_type": "code",
      "source": [
        "y1_pred"
      ],
      "metadata": {
        "colab": {
          "base_uri": "https://localhost:8080/"
        },
        "id": "eQguc2dogFpE",
        "outputId": "a41ea6a2-1481-4041-9d95-639bb438c4c7"
      },
      "execution_count": null,
      "outputs": [
        {
          "output_type": "execute_result",
          "data": {
            "text/plain": [
              "array([1, 1, 1, ..., 2, 2, 2])"
            ]
          },
          "metadata": {},
          "execution_count": 60
        }
      ]
    },
    {
      "cell_type": "code",
      "source": [
        "cm_normalized=np.round(CM/np.sum(CM, axis=1).reshape(-1, 1), 2)\n",
        "print(cm_normalized)\n",
        "sns.heatmap(cm_normalized, cmap='Blues', annot=True, cbar_kws={\"orientation\": \"vertical\", \"label\": \"color bar\"}, xticklabels=['fix','sac','pso'], yticklabels=['fix', 'sac', 'pso'])\n",
        "plt.xlabel(\"predicted value\")\n",
        "plt.ylabel(\"Actual value\")\n",
        "plt.show()"
      ],
      "metadata": {
        "id": "u4QhEab3S47c",
        "colab": {
          "base_uri": "https://localhost:8080/",
          "height": 334
        },
        "outputId": "8124fcb2-8f6f-4391-81d4-f605a8bdd4e8"
      },
      "execution_count": null,
      "outputs": [
        {
          "output_type": "stream",
          "name": "stdout",
          "text": [
            "[[0.97 0.   0.03]\n",
            " [0.04 0.91 0.05]\n",
            " [0.07 0.17 0.76]]\n"
          ]
        },
        {
          "output_type": "display_data",
          "data": {
            "text/plain": [
              "<Figure size 432x288 with 2 Axes>"
            ],
            "image/png": "[encoded data removed]"
          },
          "metadata": {
            "needs_background": "light"
          }
        }
      ]
    }
  ]
}