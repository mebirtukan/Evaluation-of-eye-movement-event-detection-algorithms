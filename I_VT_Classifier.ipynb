{
  "cells": [
    {
      "cell_type": "markdown",
      "metadata": {
        "id": "view-in-github",
        "colab_type": "text"
      },
      "source": [
        "<a href=\"https://colab.research.google.com/github/mebirtukan/EyeMovementEventDetectionAlgorithms/blob/main/I_VT_Classifier.ipynb\" target=\"_parent\"><img src=\"https://colab.research.google.com/assets/colab-badge.svg\" alt=\"Open In Colab\"/></a>"
      ]
    },
    {
      "cell_type": "code",
      "execution_count": null,
      "metadata": {
        "id": "7t4uPE39lrFM"
      },
      "outputs": [],
      "source": [
        "from scipy.io import loadmat\n",
        "import pandas as pd\n",
        "import numpy as np\n",
        "import matplotlib as mpl\n",
        "import matplotlib.pyplot as plt\n",
        "from tensorflow.keras.preprocessing.sequence import  TimeseriesGenerator\n",
        "from sklearn.preprocessing import MinMaxScaler, StandardScaler\n",
        "import tensorflow as tf\n",
        "import matplotlib.pyplot as plt\n",
        "from sklearn.metrics import accuracy_score\n",
        "from sklearn.metrics import confusion_matrix, classification_report, accuracy_score, cohen_kappa_score\n",
        "\n"
      ]
    },
    {
      "cell_type": "code",
      "execution_count": null,
      "metadata": {
        "colab": {
          "base_uri": "https://localhost:8080/"
        },
        "id": "gfzjAc3_R_Um",
        "outputId": "a2c7b0c9-6c3e-4bff-90a6-9ae01c5b27e7"
      },
      "outputs": [
        {
          "output_type": "stream",
          "name": "stdout",
          "text": [
            "--2022-10-31 20:07:21--  http://www.kasprowski.pl/datasets/events.zip\n",
            "Resolving www.kasprowski.pl (www.kasprowski.pl)... 94.152.164.213\n",
            "Connecting to www.kasprowski.pl (www.kasprowski.pl)|94.152.164.213|:80... connected.\n",
            "HTTP request sent, awaiting response... 200 OK\n",
            "Length: 2909538 (2.8M) [application/zip]\n",
            "Saving to: ‘events.zip’\n",
            "\n",
            "events.zip          100%[===================>]   2.77M  2.78MB/s    in 1.0s    \n",
            "\n",
            "2022-10-31 20:07:22 (2.78 MB/s) - ‘events.zip’ saved [2909538/2909538]\n",
            "\n"
          ]
        }
      ],
      "source": [
        "!wget www.kasprowski.pl/datasets/events.zip\n",
        "!unzip events.zip > xx"
      ]
    },
    {
      "cell_type": "code",
      "execution_count": null,
      "metadata": {
        "id": "xlYsRsGLlzyA"
      },
      "outputs": [],
      "source": []
    },
    {
      "cell_type": "code",
      "execution_count": null,
      "metadata": {
        "id": "7lQuSru3l33V"
      },
      "outputs": [],
      "source": [
        "def openfile(filename):\n",
        "  mat = loadmat(filename)\n",
        "  mdata = mat['ETdata']\n",
        "  mtype = mdata.dtype\n",
        "  ndata = {n: mdata[n][0,0] for n in mtype.names}\n",
        "  data_headline = ndata['pos']\n",
        "  data_headline = data_headline[0]\n",
        "  data_raw = ndata['pos']\n",
        "  pdata = pd.DataFrame(data_raw,columns=data_headline)\n",
        "  df=pd.DataFrame(pdata)\n",
        "  df[1.0]=df[1.0].astype(int)\n",
        "  #t=pdata.iloc[:, 0].values maybe we shoud use it...\n",
        "  x=pdata.iloc[:, 3:5].values\n",
        "  y=pdata.iloc[:, 5].values\n",
        "  print(\"File\",filename,\"opened\")\n",
        "  return x ,y"
      ]
    },
    {
      "cell_type": "code",
      "execution_count": null,
      "metadata": {
        "colab": {
          "base_uri": "https://localhost:8080/"
        },
        "id": "FvcngMA8418u",
        "outputId": "5533e838-b730-4f5a-92ec-e84fe2c3b848"
      },
      "outputs": [
        {
          "output_type": "stream",
          "name": "stdout",
          "text": [
            "File data/UH33_img_vy_labelled_MN.mat opened\n",
            "Number of samples so far: 0\n",
            "File data/UH47_img_Europe_labelled_RA.mat opened\n",
            "Number of samples so far: 4988\n",
            "File data/UH21_img_Rome_labelled_MN.mat opened\n",
            "Number of samples so far: 6985\n",
            "Number of samples at the end: 11973\n"
          ]
        }
      ],
      "source": [
        "## we don't use it here for now\n",
        "def open_list_of_files(files_to_load):\n",
        "  samples = []\n",
        "  labels =[]\n",
        "  for my_file in files_to_load:\n",
        "    sam,lab = openfile(my_file)\n",
        "    #ssam,slab = make_sequences(sam,lab,50)\n",
        "    print('Number of samples so far:',len(samples))\n",
        "    samples.extend(sam)\n",
        "    labels.extend(lab)\n",
        "  samples = np.array(samples)\n",
        "  labels = np.array(labels)\n",
        "  print('Number of samples at the end:',len(samples))\n",
        "  return samples,labels\n",
        "files_to_load = ['data/UH33_img_vy_labelled_MN.mat','data/UH47_img_Europe_labelled_RA.mat','data/UH21_img_Rome_labelled_MN.mat']\n",
        "#files_to_load = ['data/TH34_img_Europe_labelled_MN.mat', 'data/UH21_img_Rome_labelled_RA.mat', 'data/UH47_img_Europe_labelled_MN.mat', 'data/UH27_img_vy_labelled_MN.mat']\n",
        "\n",
        "#s,l = open_list_of_files(files_to_load)\n",
        "x,y=open_list_of_files(files_to_load)\n",
        "#print(x.shape)\n",
        "#print(y.shape)\n",
        "#print(s1.shape)\n",
        "#print(l1.shape)"
      ]
    },
    {
      "cell_type": "code",
      "execution_count": null,
      "metadata": {
        "id": "o2JBSfLD-lmz"
      },
      "outputs": [],
      "source": [
        "#len(y1)"
      ]
    },
    {
      "cell_type": "code",
      "execution_count": null,
      "metadata": {
        "id": "AaQJ6Ekil7jb"
      },
      "outputs": [],
      "source": [
        "#x,y=openfile('data/UH21_img_Rome_labelled_RA.mat')\n",
        "\n",
        "#x,y=openfile('UH21_video_BergoDalbana_labelled_MN.mat')\n",
        "#x,y=openfile('UH29_video_dolphin_fov_labelled_RA.mat')\n",
        "#x,y=openfile('data/UH33_img_vy_labelled_MN.mat')\n",
        "#x,y=openfile('data/UH29_video_dolphin_fov_labelled_RA.mat')"
      ]
    },
    {
      "cell_type": "code",
      "execution_count": null,
      "metadata": {
        "id": "_aJD0-hkwxnM"
      },
      "outputs": [],
      "source": [
        "import math"
      ]
    },
    {
      "cell_type": "code",
      "execution_count": null,
      "metadata": {
        "id": "4AADsOziwt95",
        "colab": {
          "base_uri": "https://localhost:8080/"
        },
        "outputId": "d88f55f8-b880-414a-9b52-77eb073bda23"
      },
      "outputs": [
        {
          "output_type": "stream",
          "name": "stdout",
          "text": [
            "Looking in indexes: https://pypi.org/simple, https://us-python.pkg.dev/colab-wheels/public/simple/\n",
            "\u001b[31mERROR: Could not find a version that satisfies the requirement atan2 (from versions: none)\u001b[0m\n",
            "\u001b[31mERROR: No matching distribution found for atan2\u001b[0m\n"
          ]
        }
      ],
      "source": [
        "! pip install atan2"
      ]
    },
    {
      "cell_type": "code",
      "execution_count": null,
      "metadata": {
        "id": "ADUJvFzr5PRq"
      },
      "outputs": [],
      "source": [
        "import csv\n",
        "import numpy as np\n",
        "\n",
        "# we assume that the frequency is 500Hz so there is 2ms gap between every two samples\n",
        "def ivt(data,v_threshold,verbose=0):\n",
        "  Xs = data[:,[0]]\n",
        "  Ys = data[:,[1]]\n",
        "\n",
        "  diffX = [] #x values difference\n",
        "  diffY = [] #y values difference \n",
        "\n",
        "  for i in range(len(data) - 1):\n",
        "    diffX.append(float(Xs[i+1]) - float(Xs[i]) )\n",
        "    diffY.append(float(Ys[i+1]) - float(Ys[i]) )\n",
        "  #distance = np.sqrt(np.power(diffX,2) + np.power(diffY,2))\n",
        "  #velocity = np.divide(distance,2) # 2ms gap!\n",
        "  #velocity = np.absolute(velocity)\n",
        "  Velocity = []\n",
        "  direction=[]\n",
        "  for i in range(len(diffX)):\n",
        "    Velocity.append(diffX[i] + diffY[i])\n",
        "    #direction.append(atan2(diffX[i], diffY[i]))\n",
        "    velocity=np.divide(Velocity, 2)\n",
        "    velocity=np.absolute(velocity)\n",
        "\n",
        "  global mvmts \n",
        "  mvmts = []  \n",
        "  #store 1 in mvmts[] if velocity is less than threshold else store 2\n",
        "  for v in velocity:\n",
        "    if(v<v_threshold):\n",
        "        mvmts.append(1)\n",
        "    else:\n",
        "        mvmts.append(2)\n",
        "\n",
        "\n",
        "  if verbose==1: ## to show charts\n",
        "    print(('minimum_velocity=',min(velocity)))\n",
        "    print(('maximum_velocity=',max(velocity)))\n",
        "    plt.plot(velocity)\n",
        "    plt.xlabel(\"Time [ms]\")\n",
        "    plt.ylabel(\"Velocity [px/ms]\")\n",
        "    plt.plot([0,len(velocity)],[v_threshold,v_threshold])\n",
        "    #plt.plot([number * 10 for number in mvmts])\n",
        "    plt.show()\n",
        "    plt.ylim(0,5)\n",
        "    plt.plot(velocity)\n",
        "    #plt.plot([number for number in mvmts])\n",
        "    plt.xlabel(\"Time [ms]\")\n",
        "    plt.ylabel(\"Velocity [px/ms]\")\n",
        "    plt.plot([0,len(velocity)],[v_threshold,v_threshold])\n",
        "  return mvmts,velocity\n"
      ]
    },
    {
      "cell_type": "code",
      "execution_count": null,
      "metadata": {
        "id": "BtCKUXOWnvj3",
        "colab": {
          "base_uri": "https://localhost:8080/",
          "height": 585
        },
        "outputId": "407e807b-7f49-476f-dc5c-7a9ed252e170"
      },
      "outputs": [
        {
          "output_type": "stream",
          "name": "stdout",
          "text": [
            "('minimum_velocity=', 2.842170943040401e-14)\n",
            "('maximum_velocity=', 95.76855)\n"
          ]
        },
        {
          "output_type": "display_data",
          "data": {
            "text/plain": [
              "<Figure size 432x288 with 1 Axes>"
            ],
            "image/png": "[encoded data removed]"
          },
          "metadata": {
            "needs_background": "light"
          }
        },
        {
          "output_type": "display_data",
          "data": {
            "text/plain": [
              "<Figure size 432x288 with 1 Axes>"
            ],
            "image/png": "[encoded data removed]"
          },
          "metadata": {
            "needs_background": "light"
          }
        }
      ],
      "source": [
        "# Visualisation of v_threshold\n",
        "y1=ivt(x, v_threshold=0.6,verbose=1)"
      ]
    },
    {
      "cell_type": "code",
      "execution_count": null,
      "metadata": {
        "id": "RJW35YQwJNOw"
      },
      "outputs": [],
      "source": [
        "#y1=ivt(x, v_threshold=2)"
      ]
    },
    {
      "cell_type": "code",
      "execution_count": null,
      "metadata": {
        "colab": {
          "base_uri": "https://localhost:8080/"
        },
        "id": "PTnBACpoKwoV",
        "outputId": "8c2bfe6c-5d04-483d-d7cc-341722ccf4c0"
      },
      "outputs": [
        {
          "output_type": "execute_result",
          "data": {
            "text/plain": [
              "(11973, 2)"
            ]
          },
          "metadata": {},
          "execution_count": 12
        }
      ],
      "source": [
        "x.shape"
      ]
    },
    {
      "cell_type": "code",
      "execution_count": null,
      "metadata": {
        "id": "91ovcuDsKThh"
      },
      "outputs": [],
      "source": [
        "#y1=(y1[:-1])\n",
        "y=(y[:-1])\n"
      ]
    },
    {
      "cell_type": "code",
      "execution_count": null,
      "metadata": {
        "colab": {
          "base_uri": "https://localhost:8080/"
        },
        "id": "b2znYLzsEANT",
        "outputId": "a33c5da0-3c52-4aac-cef8-dc028dc6932a"
      },
      "outputs": [
        {
          "output_type": "stream",
          "name": "stderr",
          "text": [
            "/usr/local/lib/python3.7/dist-packages/sklearn/metrics/_classification.py:1318: UndefinedMetricWarning: Precision and F-score are ill-defined and being set to 0.0 in labels with no predicted samples. Use `zero_division` parameter to control this behavior.\n",
            "  _warn_prf(average, modifier, msg_start, len(result))\n",
            "/usr/local/lib/python3.7/dist-packages/sklearn/metrics/_classification.py:1318: UndefinedMetricWarning: Precision and F-score are ill-defined and being set to 0.0 in labels with no predicted samples. Use `zero_division` parameter to control this behavior.\n",
            "  _warn_prf(average, modifier, msg_start, len(result))\n",
            "/usr/local/lib/python3.7/dist-packages/sklearn/metrics/_classification.py:1318: UndefinedMetricWarning: Precision and F-score are ill-defined and being set to 0.0 in labels with no predicted samples. Use `zero_division` parameter to control this behavior.\n",
            "  _warn_prf(average, modifier, msg_start, len(result))\n",
            "/usr/local/lib/python3.7/dist-packages/sklearn/metrics/_classification.py:1318: UndefinedMetricWarning: Precision and F-score are ill-defined and being set to 0.0 in labels with no predicted samples. Use `zero_division` parameter to control this behavior.\n",
            "  _warn_prf(average, modifier, msg_start, len(result))\n",
            "/usr/local/lib/python3.7/dist-packages/sklearn/metrics/_classification.py:1318: UndefinedMetricWarning: Precision and F-score are ill-defined and being set to 0.0 in labels with no predicted samples. Use `zero_division` parameter to control this behavior.\n",
            "  _warn_prf(average, modifier, msg_start, len(result))\n",
            "/usr/local/lib/python3.7/dist-packages/sklearn/metrics/_classification.py:1318: UndefinedMetricWarning: Precision and F-score are ill-defined and being set to 0.0 in labels with no predicted samples. Use `zero_division` parameter to control this behavior.\n",
            "  _warn_prf(average, modifier, msg_start, len(result))\n",
            "/usr/local/lib/python3.7/dist-packages/ipykernel_launcher.py:32: RuntimeWarning: invalid value encountered in long_scalars\n",
            "/usr/local/lib/python3.7/dist-packages/ipykernel_launcher.py:35: RuntimeWarning: invalid value encountered in long_scalars\n",
            "/usr/local/lib/python3.7/dist-packages/ipykernel_launcher.py:36: RuntimeWarning: invalid value encountered in long_scalars\n"
          ]
        },
        {
          "output_type": "stream",
          "name": "stdout",
          "text": [
            "classification_report for threshold 0.0               precision    recall  f1-score   support\n",
            "\n",
            "           1       0.00      0.00      0.00     10092\n",
            "           2       0.10      1.00      0.18      1196\n",
            "           3       0.00      0.00      0.00       684\n",
            "\n",
            "    accuracy                           0.10     11972\n",
            "   macro avg       0.03      0.33      0.06     11972\n",
            "weighted avg       0.01      0.10      0.02     11972\n",
            "\n",
            "Kochen kappa for threshold 0.0 0.0\n",
            "              precision    recall  f1-score   support\n",
            "\n",
            "           1       0.00      0.00      0.00     10092\n",
            "           2       0.10      1.00      0.18      1196\n",
            "           3       0.00      0.00      0.00       684\n",
            "\n",
            "    accuracy                           0.10     11972\n",
            "   macro avg       0.03      0.33      0.06     11972\n",
            "weighted avg       0.01      0.10      0.02     11972\n",
            "\n",
            "Fixation recall at threshol 0.0 is 0.0\n",
            "Fixation precission at threshold 0.0 is nan\n",
            "fixation_f1_score for threshold 0.0 is nan\n",
            "Saccade recall at threshol 0.0 is 100.0\n",
            "saccade_precision for threshold 0.0 is 10.595322466335931\n",
            "saccade_f1_score for threshold 0.0 is 19.160525472604935\n",
            "treshold= 0.0\n"
          ]
        },
        {
          "output_type": "stream",
          "name": "stderr",
          "text": [
            "/usr/local/lib/python3.7/dist-packages/sklearn/metrics/_classification.py:1318: UndefinedMetricWarning: Precision and F-score are ill-defined and being set to 0.0 in labels with no predicted samples. Use `zero_division` parameter to control this behavior.\n",
            "  _warn_prf(average, modifier, msg_start, len(result))\n",
            "/usr/local/lib/python3.7/dist-packages/sklearn/metrics/_classification.py:1318: UndefinedMetricWarning: Precision and F-score are ill-defined and being set to 0.0 in labels with no predicted samples. Use `zero_division` parameter to control this behavior.\n",
            "  _warn_prf(average, modifier, msg_start, len(result))\n",
            "/usr/local/lib/python3.7/dist-packages/sklearn/metrics/_classification.py:1318: UndefinedMetricWarning: Precision and F-score are ill-defined and being set to 0.0 in labels with no predicted samples. Use `zero_division` parameter to control this behavior.\n",
            "  _warn_prf(average, modifier, msg_start, len(result))\n",
            "/usr/local/lib/python3.7/dist-packages/sklearn/metrics/_classification.py:1318: UndefinedMetricWarning: Precision and F-score are ill-defined and being set to 0.0 in labels with no predicted samples. Use `zero_division` parameter to control this behavior.\n",
            "  _warn_prf(average, modifier, msg_start, len(result))\n",
            "/usr/local/lib/python3.7/dist-packages/sklearn/metrics/_classification.py:1318: UndefinedMetricWarning: Precision and F-score are ill-defined and being set to 0.0 in labels with no predicted samples. Use `zero_division` parameter to control this behavior.\n",
            "  _warn_prf(average, modifier, msg_start, len(result))\n",
            "/usr/local/lib/python3.7/dist-packages/sklearn/metrics/_classification.py:1318: UndefinedMetricWarning: Precision and F-score are ill-defined and being set to 0.0 in labels with no predicted samples. Use `zero_division` parameter to control this behavior.\n",
            "  _warn_prf(average, modifier, msg_start, len(result))\n"
          ]
        },
        {
          "output_type": "stream",
          "name": "stdout",
          "text": [
            "classification_report for threshold 0.1               precision    recall  f1-score   support\n",
            "\n",
            "           1       0.98      0.25      0.40     10092\n",
            "           2       0.13      0.98      0.22      1196\n",
            "           3       0.00      0.00      0.00       684\n",
            "\n",
            "    accuracy                           0.31     11972\n",
            "   macro avg       0.37      0.41      0.21     11972\n",
            "weighted avg       0.84      0.31      0.36     11972\n",
            "\n",
            "Kochen kappa for threshold 0.1 0.06705241233623682\n",
            "              precision    recall  f1-score   support\n",
            "\n",
            "           1       0.98      0.25      0.40     10092\n",
            "           2       0.13      0.98      0.22      1196\n",
            "           3       0.00      0.00      0.00       684\n",
            "\n",
            "    accuracy                           0.31     11972\n",
            "   macro avg       0.37      0.41      0.21     11972\n",
            "weighted avg       0.84      0.31      0.36     11972\n",
            "\n",
            "Fixation recall at threshol 0.1 is 25.28735632183908\n",
            "Fixation precission at threshold 0.1 is 99.29961089494164\n",
            "fixation_f1_score for threshold 0.1 is 40.30958774285263\n",
            "Saccade recall at threshol 0.1 is 98.49498327759197\n",
            "saccade_precision for threshold 0.1 is 13.512273457214958\n",
            "saccade_f1_score for threshold 0.1 is 23.764373613072422\n",
            "treshold= 0.1\n"
          ]
        },
        {
          "output_type": "stream",
          "name": "stderr",
          "text": [
            "/usr/local/lib/python3.7/dist-packages/sklearn/metrics/_classification.py:1318: UndefinedMetricWarning: Precision and F-score are ill-defined and being set to 0.0 in labels with no predicted samples. Use `zero_division` parameter to control this behavior.\n",
            "  _warn_prf(average, modifier, msg_start, len(result))\n",
            "/usr/local/lib/python3.7/dist-packages/sklearn/metrics/_classification.py:1318: UndefinedMetricWarning: Precision and F-score are ill-defined and being set to 0.0 in labels with no predicted samples. Use `zero_division` parameter to control this behavior.\n",
            "  _warn_prf(average, modifier, msg_start, len(result))\n",
            "/usr/local/lib/python3.7/dist-packages/sklearn/metrics/_classification.py:1318: UndefinedMetricWarning: Precision and F-score are ill-defined and being set to 0.0 in labels with no predicted samples. Use `zero_division` parameter to control this behavior.\n",
            "  _warn_prf(average, modifier, msg_start, len(result))\n",
            "/usr/local/lib/python3.7/dist-packages/sklearn/metrics/_classification.py:1318: UndefinedMetricWarning: Precision and F-score are ill-defined and being set to 0.0 in labels with no predicted samples. Use `zero_division` parameter to control this behavior.\n",
            "  _warn_prf(average, modifier, msg_start, len(result))\n",
            "/usr/local/lib/python3.7/dist-packages/sklearn/metrics/_classification.py:1318: UndefinedMetricWarning: Precision and F-score are ill-defined and being set to 0.0 in labels with no predicted samples. Use `zero_division` parameter to control this behavior.\n",
            "  _warn_prf(average, modifier, msg_start, len(result))\n",
            "/usr/local/lib/python3.7/dist-packages/sklearn/metrics/_classification.py:1318: UndefinedMetricWarning: Precision and F-score are ill-defined and being set to 0.0 in labels with no predicted samples. Use `zero_division` parameter to control this behavior.\n",
            "  _warn_prf(average, modifier, msg_start, len(result))\n"
          ]
        },
        {
          "output_type": "stream",
          "name": "stdout",
          "text": [
            "classification_report for threshold 0.2               precision    recall  f1-score   support\n",
            "\n",
            "           1       0.97      0.48      0.64     10092\n",
            "           2       0.16      0.97      0.28      1196\n",
            "           3       0.00      0.00      0.00       684\n",
            "\n",
            "    accuracy                           0.50     11972\n",
            "   macro avg       0.38      0.48      0.31     11972\n",
            "weighted avg       0.84      0.50      0.57     11972\n",
            "\n",
            "Kochen kappa for threshold 0.2 0.15374012622031097\n",
            "              precision    recall  f1-score   support\n",
            "\n",
            "           1       0.97      0.48      0.64     10092\n",
            "           2       0.16      0.97      0.28      1196\n",
            "           3       0.00      0.00      0.00       684\n",
            "\n",
            "    accuracy                           0.50     11972\n",
            "   macro avg       0.38      0.48      0.31     11972\n",
            "weighted avg       0.84      0.50      0.57     11972\n",
            "\n",
            "Fixation recall at threshol 0.2 is 47.6218787158145\n",
            "Fixation precission at threshold 0.2 is 99.15411594800908\n",
            "fixation_f1_score for threshold 0.2 is 64.34165606800991\n",
            "Saccade recall at threshol 0.2 is 96.57190635451505\n",
            "saccade_precision for threshold 0.2 is 17.93199813693526\n",
            "saccade_f1_score for threshold 0.2 is 30.24747937671861\n",
            "treshold= 0.2\n"
          ]
        },
        {
          "output_type": "stream",
          "name": "stderr",
          "text": [
            "/usr/local/lib/python3.7/dist-packages/sklearn/metrics/_classification.py:1318: UndefinedMetricWarning: Precision and F-score are ill-defined and being set to 0.0 in labels with no predicted samples. Use `zero_division` parameter to control this behavior.\n",
            "  _warn_prf(average, modifier, msg_start, len(result))\n",
            "/usr/local/lib/python3.7/dist-packages/sklearn/metrics/_classification.py:1318: UndefinedMetricWarning: Precision and F-score are ill-defined and being set to 0.0 in labels with no predicted samples. Use `zero_division` parameter to control this behavior.\n",
            "  _warn_prf(average, modifier, msg_start, len(result))\n",
            "/usr/local/lib/python3.7/dist-packages/sklearn/metrics/_classification.py:1318: UndefinedMetricWarning: Precision and F-score are ill-defined and being set to 0.0 in labels with no predicted samples. Use `zero_division` parameter to control this behavior.\n",
            "  _warn_prf(average, modifier, msg_start, len(result))\n",
            "/usr/local/lib/python3.7/dist-packages/sklearn/metrics/_classification.py:1318: UndefinedMetricWarning: Precision and F-score are ill-defined and being set to 0.0 in labels with no predicted samples. Use `zero_division` parameter to control this behavior.\n",
            "  _warn_prf(average, modifier, msg_start, len(result))\n",
            "/usr/local/lib/python3.7/dist-packages/sklearn/metrics/_classification.py:1318: UndefinedMetricWarning: Precision and F-score are ill-defined and being set to 0.0 in labels with no predicted samples. Use `zero_division` parameter to control this behavior.\n",
            "  _warn_prf(average, modifier, msg_start, len(result))\n",
            "/usr/local/lib/python3.7/dist-packages/sklearn/metrics/_classification.py:1318: UndefinedMetricWarning: Precision and F-score are ill-defined and being set to 0.0 in labels with no predicted samples. Use `zero_division` parameter to control this behavior.\n",
            "  _warn_prf(average, modifier, msg_start, len(result))\n"
          ]
        },
        {
          "output_type": "stream",
          "name": "stdout",
          "text": [
            "classification_report for threshold 0.3               precision    recall  f1-score   support\n",
            "\n",
            "           1       0.97      0.66      0.78     10092\n",
            "           2       0.22      0.94      0.36      1196\n",
            "           3       0.00      0.00      0.00       684\n",
            "\n",
            "    accuracy                           0.65     11972\n",
            "   macro avg       0.40      0.53      0.38     11972\n",
            "weighted avg       0.84      0.65      0.69     11972\n",
            "\n",
            "Kochen kappa for threshold 0.3 0.2570371554483908\n",
            "              precision    recall  f1-score   support\n",
            "\n",
            "           1       0.97      0.66      0.78     10092\n",
            "           2       0.22      0.94      0.36      1196\n",
            "           3       0.00      0.00      0.00       684\n",
            "\n",
            "    accuracy                           0.65     11972\n",
            "   macro avg       0.40      0.53      0.38     11972\n",
            "weighted avg       0.84      0.65      0.69     11972\n",
            "\n",
            "Fixation recall at threshol 0.3 is 65.57669441141498\n",
            "Fixation precission at threshold 0.3 is 98.9237668161435\n",
            "fixation_f1_score for threshold 0.3 is 78.87021809081158\n",
            "Saccade recall at threshol 0.3 is 93.9799331103679\n",
            "saccade_precision for threshold 0.3 is 24.445411048281862\n",
            "saccade_f1_score for threshold 0.3 is 38.79875733517432\n",
            "treshold= 0.3\n"
          ]
        },
        {
          "output_type": "stream",
          "name": "stderr",
          "text": [
            "/usr/local/lib/python3.7/dist-packages/sklearn/metrics/_classification.py:1318: UndefinedMetricWarning: Precision and F-score are ill-defined and being set to 0.0 in labels with no predicted samples. Use `zero_division` parameter to control this behavior.\n",
            "  _warn_prf(average, modifier, msg_start, len(result))\n",
            "/usr/local/lib/python3.7/dist-packages/sklearn/metrics/_classification.py:1318: UndefinedMetricWarning: Precision and F-score are ill-defined and being set to 0.0 in labels with no predicted samples. Use `zero_division` parameter to control this behavior.\n",
            "  _warn_prf(average, modifier, msg_start, len(result))\n",
            "/usr/local/lib/python3.7/dist-packages/sklearn/metrics/_classification.py:1318: UndefinedMetricWarning: Precision and F-score are ill-defined and being set to 0.0 in labels with no predicted samples. Use `zero_division` parameter to control this behavior.\n",
            "  _warn_prf(average, modifier, msg_start, len(result))\n",
            "/usr/local/lib/python3.7/dist-packages/sklearn/metrics/_classification.py:1318: UndefinedMetricWarning: Precision and F-score are ill-defined and being set to 0.0 in labels with no predicted samples. Use `zero_division` parameter to control this behavior.\n",
            "  _warn_prf(average, modifier, msg_start, len(result))\n",
            "/usr/local/lib/python3.7/dist-packages/sklearn/metrics/_classification.py:1318: UndefinedMetricWarning: Precision and F-score are ill-defined and being set to 0.0 in labels with no predicted samples. Use `zero_division` parameter to control this behavior.\n",
            "  _warn_prf(average, modifier, msg_start, len(result))\n",
            "/usr/local/lib/python3.7/dist-packages/sklearn/metrics/_classification.py:1318: UndefinedMetricWarning: Precision and F-score are ill-defined and being set to 0.0 in labels with no predicted samples. Use `zero_division` parameter to control this behavior.\n",
            "  _warn_prf(average, modifier, msg_start, len(result))\n"
          ]
        },
        {
          "output_type": "stream",
          "name": "stdout",
          "text": [
            "classification_report for threshold 0.4               precision    recall  f1-score   support\n",
            "\n",
            "           1       0.96      0.78      0.86     10092\n",
            "           2       0.29      0.91      0.44      1196\n",
            "           3       0.00      0.00      0.00       684\n",
            "\n",
            "    accuracy                           0.75     11972\n",
            "   macro avg       0.42      0.56      0.43     11972\n",
            "weighted avg       0.84      0.75      0.77     11972\n",
            "\n",
            "Kochen kappa for threshold 0.4 0.36083730160304683\n",
            "              precision    recall  f1-score   support\n",
            "\n",
            "           1       0.96      0.78      0.86     10092\n",
            "           2       0.29      0.91      0.44      1196\n",
            "           3       0.00      0.00      0.00       684\n",
            "\n",
            "    accuracy                           0.75     11972\n",
            "   macro avg       0.42      0.56      0.43     11972\n",
            "weighted avg       0.84      0.75      0.77     11972\n",
            "\n",
            "Fixation recall at threshol 0.4 is 77.93301625049544\n",
            "Fixation precission at threshold 0.4 is 98.70732931726907\n",
            "fixation_f1_score for threshold 0.4 is 87.0985603543743\n",
            "Saccade recall at threshol 0.4 is 91.38795986622074\n",
            "saccade_precision for threshold 0.4 is 32.92168674698795\n",
            "saccade_f1_score for threshold 0.4 is 48.40566873339238\n",
            "treshold= 0.4\n"
          ]
        },
        {
          "output_type": "stream",
          "name": "stderr",
          "text": [
            "/usr/local/lib/python3.7/dist-packages/sklearn/metrics/_classification.py:1318: UndefinedMetricWarning: Precision and F-score are ill-defined and being set to 0.0 in labels with no predicted samples. Use `zero_division` parameter to control this behavior.\n",
            "  _warn_prf(average, modifier, msg_start, len(result))\n",
            "/usr/local/lib/python3.7/dist-packages/sklearn/metrics/_classification.py:1318: UndefinedMetricWarning: Precision and F-score are ill-defined and being set to 0.0 in labels with no predicted samples. Use `zero_division` parameter to control this behavior.\n",
            "  _warn_prf(average, modifier, msg_start, len(result))\n",
            "/usr/local/lib/python3.7/dist-packages/sklearn/metrics/_classification.py:1318: UndefinedMetricWarning: Precision and F-score are ill-defined and being set to 0.0 in labels with no predicted samples. Use `zero_division` parameter to control this behavior.\n",
            "  _warn_prf(average, modifier, msg_start, len(result))\n",
            "/usr/local/lib/python3.7/dist-packages/sklearn/metrics/_classification.py:1318: UndefinedMetricWarning: Precision and F-score are ill-defined and being set to 0.0 in labels with no predicted samples. Use `zero_division` parameter to control this behavior.\n",
            "  _warn_prf(average, modifier, msg_start, len(result))\n",
            "/usr/local/lib/python3.7/dist-packages/sklearn/metrics/_classification.py:1318: UndefinedMetricWarning: Precision and F-score are ill-defined and being set to 0.0 in labels with no predicted samples. Use `zero_division` parameter to control this behavior.\n",
            "  _warn_prf(average, modifier, msg_start, len(result))\n",
            "/usr/local/lib/python3.7/dist-packages/sklearn/metrics/_classification.py:1318: UndefinedMetricWarning: Precision and F-score are ill-defined and being set to 0.0 in labels with no predicted samples. Use `zero_division` parameter to control this behavior.\n",
            "  _warn_prf(average, modifier, msg_start, len(result))\n"
          ]
        },
        {
          "output_type": "stream",
          "name": "stdout",
          "text": [
            "classification_report for threshold 0.5               precision    recall  f1-score   support\n",
            "\n",
            "           1       0.96      0.86      0.91     10092\n",
            "           2       0.37      0.89      0.52      1196\n",
            "           3       0.00      0.00      0.00       684\n",
            "\n",
            "    accuracy                           0.82     11972\n",
            "   macro avg       0.44      0.59      0.48     11972\n",
            "weighted avg       0.85      0.82      0.82     11972\n",
            "\n",
            "Kochen kappa for threshold 0.5 0.45857954083430463\n",
            "              precision    recall  f1-score   support\n",
            "\n",
            "           1       0.96      0.86      0.91     10092\n",
            "           2       0.37      0.89      0.52      1196\n",
            "           3       0.00      0.00      0.00       684\n",
            "\n",
            "    accuracy                           0.82     11972\n",
            "   macro avg       0.44      0.59      0.48     11972\n",
            "weighted avg       0.85      0.82      0.82     11972\n",
            "\n",
            "Fixation recall at threshol 0.5 is 86.34562029330162\n",
            "Fixation precission at threshold 0.5 is 98.56351091505486\n",
            "fixation_f1_score for threshold 0.5 is 92.05091638937304\n",
            "Saccade recall at threshol 0.5 is 89.38127090301003\n",
            "saccade_precision for threshold 0.5 is 43.68614630159379\n",
            "saccade_f1_score for threshold 0.5 is 58.68789459236893\n",
            "treshold= 0.5\n"
          ]
        },
        {
          "output_type": "stream",
          "name": "stderr",
          "text": [
            "/usr/local/lib/python3.7/dist-packages/sklearn/metrics/_classification.py:1318: UndefinedMetricWarning: Precision and F-score are ill-defined and being set to 0.0 in labels with no predicted samples. Use `zero_division` parameter to control this behavior.\n",
            "  _warn_prf(average, modifier, msg_start, len(result))\n",
            "/usr/local/lib/python3.7/dist-packages/sklearn/metrics/_classification.py:1318: UndefinedMetricWarning: Precision and F-score are ill-defined and being set to 0.0 in labels with no predicted samples. Use `zero_division` parameter to control this behavior.\n",
            "  _warn_prf(average, modifier, msg_start, len(result))\n",
            "/usr/local/lib/python3.7/dist-packages/sklearn/metrics/_classification.py:1318: UndefinedMetricWarning: Precision and F-score are ill-defined and being set to 0.0 in labels with no predicted samples. Use `zero_division` parameter to control this behavior.\n",
            "  _warn_prf(average, modifier, msg_start, len(result))\n",
            "/usr/local/lib/python3.7/dist-packages/sklearn/metrics/_classification.py:1318: UndefinedMetricWarning: Precision and F-score are ill-defined and being set to 0.0 in labels with no predicted samples. Use `zero_division` parameter to control this behavior.\n",
            "  _warn_prf(average, modifier, msg_start, len(result))\n",
            "/usr/local/lib/python3.7/dist-packages/sklearn/metrics/_classification.py:1318: UndefinedMetricWarning: Precision and F-score are ill-defined and being set to 0.0 in labels with no predicted samples. Use `zero_division` parameter to control this behavior.\n",
            "  _warn_prf(average, modifier, msg_start, len(result))\n",
            "/usr/local/lib/python3.7/dist-packages/sklearn/metrics/_classification.py:1318: UndefinedMetricWarning: Precision and F-score are ill-defined and being set to 0.0 in labels with no predicted samples. Use `zero_division` parameter to control this behavior.\n",
            "  _warn_prf(average, modifier, msg_start, len(result))\n"
          ]
        },
        {
          "output_type": "stream",
          "name": "stdout",
          "text": [
            "classification_report for threshold 0.6               precision    recall  f1-score   support\n",
            "\n",
            "           1       0.96      0.92      0.94     10092\n",
            "           2       0.46      0.87      0.60      1196\n",
            "           3       0.00      0.00      0.00       684\n",
            "\n",
            "    accuracy                           0.86     11972\n",
            "   macro avg       0.47      0.60      0.51     11972\n",
            "weighted avg       0.85      0.86      0.85     11972\n",
            "\n",
            "Kochen kappa for threshold 0.6 0.5361476326363349\n",
            "              precision    recall  f1-score   support\n",
            "\n",
            "           1       0.96      0.92      0.94     10092\n",
            "           2       0.46      0.87      0.60      1196\n",
            "           3       0.00      0.00      0.00       684\n",
            "\n",
            "    accuracy                           0.86     11972\n",
            "   macro avg       0.47      0.60      0.51     11972\n",
            "weighted avg       0.85      0.86      0.85     11972\n",
            "\n",
            "Fixation recall at threshol 0.6 is 91.81529924692826\n",
            "Fixation precission at threshold 0.6 is 98.39651693745354\n",
            "fixation_f1_score for threshold 0.6 is 94.99205494899789\n",
            "Saccade recall at threshol 0.6 is 87.37458193979933\n",
            "saccade_precision for threshold 0.6 is 55.85248530197755\n",
            "saccade_f1_score for threshold 0.6 is 68.14476687316596\n",
            "treshold= 0.6\n"
          ]
        },
        {
          "output_type": "stream",
          "name": "stderr",
          "text": [
            "/usr/local/lib/python3.7/dist-packages/sklearn/metrics/_classification.py:1318: UndefinedMetricWarning: Precision and F-score are ill-defined and being set to 0.0 in labels with no predicted samples. Use `zero_division` parameter to control this behavior.\n",
            "  _warn_prf(average, modifier, msg_start, len(result))\n",
            "/usr/local/lib/python3.7/dist-packages/sklearn/metrics/_classification.py:1318: UndefinedMetricWarning: Precision and F-score are ill-defined and being set to 0.0 in labels with no predicted samples. Use `zero_division` parameter to control this behavior.\n",
            "  _warn_prf(average, modifier, msg_start, len(result))\n",
            "/usr/local/lib/python3.7/dist-packages/sklearn/metrics/_classification.py:1318: UndefinedMetricWarning: Precision and F-score are ill-defined and being set to 0.0 in labels with no predicted samples. Use `zero_division` parameter to control this behavior.\n",
            "  _warn_prf(average, modifier, msg_start, len(result))\n",
            "/usr/local/lib/python3.7/dist-packages/sklearn/metrics/_classification.py:1318: UndefinedMetricWarning: Precision and F-score are ill-defined and being set to 0.0 in labels with no predicted samples. Use `zero_division` parameter to control this behavior.\n",
            "  _warn_prf(average, modifier, msg_start, len(result))\n",
            "/usr/local/lib/python3.7/dist-packages/sklearn/metrics/_classification.py:1318: UndefinedMetricWarning: Precision and F-score are ill-defined and being set to 0.0 in labels with no predicted samples. Use `zero_division` parameter to control this behavior.\n",
            "  _warn_prf(average, modifier, msg_start, len(result))\n",
            "/usr/local/lib/python3.7/dist-packages/sklearn/metrics/_classification.py:1318: UndefinedMetricWarning: Precision and F-score are ill-defined and being set to 0.0 in labels with no predicted samples. Use `zero_division` parameter to control this behavior.\n",
            "  _warn_prf(average, modifier, msg_start, len(result))\n"
          ]
        },
        {
          "output_type": "stream",
          "name": "stdout",
          "text": [
            "classification_report for threshold 0.7               precision    recall  f1-score   support\n",
            "\n",
            "           1       0.95      0.95      0.95     10092\n",
            "           2       0.53      0.86      0.66      1196\n",
            "           3       0.00      0.00      0.00       684\n",
            "\n",
            "    accuracy                           0.89     11972\n",
            "   macro avg       0.49      0.60      0.54     11972\n",
            "weighted avg       0.86      0.89      0.87     11972\n",
            "\n",
            "Kochen kappa for threshold 0.7 0.5852242606744402\n",
            "              precision    recall  f1-score   support\n",
            "\n",
            "           1       0.95      0.95      0.95     10092\n",
            "           2       0.53      0.86      0.66      1196\n",
            "           3       0.00      0.00      0.00       684\n",
            "\n",
            "    accuracy                           0.89     11972\n",
            "   macro avg       0.49      0.60      0.54     11972\n",
            "weighted avg       0.86      0.89      0.87     11972\n",
            "\n",
            "Fixation recall at threshol 0.7 is 94.86722156163297\n",
            "Fixation precission at threshold 0.7 is 98.23517340447363\n",
            "fixation_f1_score for threshold 0.7 is 96.52182679705615\n",
            "Saccade recall at threshol 0.7 is 85.61872909698997\n",
            "saccade_precision for threshold 0.7 is 66.40726329442283\n",
            "saccade_f1_score for threshold 0.7 is 74.79912344777212\n",
            "treshold= 0.7\n"
          ]
        },
        {
          "output_type": "stream",
          "name": "stderr",
          "text": [
            "/usr/local/lib/python3.7/dist-packages/sklearn/metrics/_classification.py:1318: UndefinedMetricWarning: Precision and F-score are ill-defined and being set to 0.0 in labels with no predicted samples. Use `zero_division` parameter to control this behavior.\n",
            "  _warn_prf(average, modifier, msg_start, len(result))\n",
            "/usr/local/lib/python3.7/dist-packages/sklearn/metrics/_classification.py:1318: UndefinedMetricWarning: Precision and F-score are ill-defined and being set to 0.0 in labels with no predicted samples. Use `zero_division` parameter to control this behavior.\n",
            "  _warn_prf(average, modifier, msg_start, len(result))\n",
            "/usr/local/lib/python3.7/dist-packages/sklearn/metrics/_classification.py:1318: UndefinedMetricWarning: Precision and F-score are ill-defined and being set to 0.0 in labels with no predicted samples. Use `zero_division` parameter to control this behavior.\n",
            "  _warn_prf(average, modifier, msg_start, len(result))\n",
            "/usr/local/lib/python3.7/dist-packages/sklearn/metrics/_classification.py:1318: UndefinedMetricWarning: Precision and F-score are ill-defined and being set to 0.0 in labels with no predicted samples. Use `zero_division` parameter to control this behavior.\n",
            "  _warn_prf(average, modifier, msg_start, len(result))\n",
            "/usr/local/lib/python3.7/dist-packages/sklearn/metrics/_classification.py:1318: UndefinedMetricWarning: Precision and F-score are ill-defined and being set to 0.0 in labels with no predicted samples. Use `zero_division` parameter to control this behavior.\n",
            "  _warn_prf(average, modifier, msg_start, len(result))\n",
            "/usr/local/lib/python3.7/dist-packages/sklearn/metrics/_classification.py:1318: UndefinedMetricWarning: Precision and F-score are ill-defined and being set to 0.0 in labels with no predicted samples. Use `zero_division` parameter to control this behavior.\n",
            "  _warn_prf(average, modifier, msg_start, len(result))\n"
          ]
        },
        {
          "output_type": "stream",
          "name": "stdout",
          "text": [
            "classification_report for threshold 0.8               precision    recall  f1-score   support\n",
            "\n",
            "           1       0.95      0.97      0.96     10092\n",
            "           2       0.60      0.84      0.70      1196\n",
            "           3       0.00      0.00      0.00       684\n",
            "\n",
            "    accuracy                           0.90     11972\n",
            "   macro avg       0.52      0.60      0.55     11972\n",
            "weighted avg       0.86      0.90      0.88     11972\n",
            "\n",
            "Kochen kappa for threshold 0.8 0.6167312104033253\n",
            "              precision    recall  f1-score   support\n",
            "\n",
            "           1       0.95      0.97      0.96     10092\n",
            "           2       0.60      0.84      0.70      1196\n",
            "           3       0.00      0.00      0.00       684\n",
            "\n",
            "    accuracy                           0.90     11972\n",
            "   macro avg       0.52      0.60      0.55     11972\n",
            "weighted avg       0.86      0.90      0.88     11972\n",
            "\n",
            "Fixation recall at threshol 0.8 is 96.76971858898138\n",
            "Fixation precission at threshold 0.8 is 98.10145655449523\n",
            "fixation_f1_score for threshold 0.8 is 97.43103706290219\n",
            "Saccade recall at threshol 0.8 is 84.19732441471572\n",
            "saccade_precision for threshold 0.8 is 75.54388597149287\n",
            "saccade_f1_score for threshold 0.8 is 79.63621984974299\n",
            "treshold= 0.8\n"
          ]
        },
        {
          "output_type": "stream",
          "name": "stderr",
          "text": [
            "/usr/local/lib/python3.7/dist-packages/sklearn/metrics/_classification.py:1318: UndefinedMetricWarning: Precision and F-score are ill-defined and being set to 0.0 in labels with no predicted samples. Use `zero_division` parameter to control this behavior.\n",
            "  _warn_prf(average, modifier, msg_start, len(result))\n",
            "/usr/local/lib/python3.7/dist-packages/sklearn/metrics/_classification.py:1318: UndefinedMetricWarning: Precision and F-score are ill-defined and being set to 0.0 in labels with no predicted samples. Use `zero_division` parameter to control this behavior.\n",
            "  _warn_prf(average, modifier, msg_start, len(result))\n",
            "/usr/local/lib/python3.7/dist-packages/sklearn/metrics/_classification.py:1318: UndefinedMetricWarning: Precision and F-score are ill-defined and being set to 0.0 in labels with no predicted samples. Use `zero_division` parameter to control this behavior.\n",
            "  _warn_prf(average, modifier, msg_start, len(result))\n",
            "/usr/local/lib/python3.7/dist-packages/sklearn/metrics/_classification.py:1318: UndefinedMetricWarning: Precision and F-score are ill-defined and being set to 0.0 in labels with no predicted samples. Use `zero_division` parameter to control this behavior.\n",
            "  _warn_prf(average, modifier, msg_start, len(result))\n",
            "/usr/local/lib/python3.7/dist-packages/sklearn/metrics/_classification.py:1318: UndefinedMetricWarning: Precision and F-score are ill-defined and being set to 0.0 in labels with no predicted samples. Use `zero_division` parameter to control this behavior.\n",
            "  _warn_prf(average, modifier, msg_start, len(result))\n",
            "/usr/local/lib/python3.7/dist-packages/sklearn/metrics/_classification.py:1318: UndefinedMetricWarning: Precision and F-score are ill-defined and being set to 0.0 in labels with no predicted samples. Use `zero_division` parameter to control this behavior.\n",
            "  _warn_prf(average, modifier, msg_start, len(result))\n"
          ]
        },
        {
          "output_type": "stream",
          "name": "stdout",
          "text": [
            "classification_report for threshold 0.9               precision    recall  f1-score   support\n",
            "\n",
            "           1       0.94      0.98      0.96     10092\n",
            "           2       0.64      0.81      0.72      1196\n",
            "           3       0.00      0.00      0.00       684\n",
            "\n",
            "    accuracy                           0.91     11972\n",
            "   macro avg       0.53      0.60      0.56     11972\n",
            "weighted avg       0.86      0.91      0.88     11972\n",
            "\n",
            "Kochen kappa for threshold 0.9 0.6233483367203334\n",
            "              precision    recall  f1-score   support\n",
            "\n",
            "           1       0.94      0.98      0.96     10092\n",
            "           2       0.64      0.81      0.72      1196\n",
            "           3       0.00      0.00      0.00       684\n",
            "\n",
            "    accuracy                           0.91     11972\n",
            "   macro avg       0.53      0.60      0.56     11972\n",
            "weighted avg       0.86      0.91      0.88     11972\n",
            "\n",
            "Fixation recall at threshol 0.9 is 97.79032897344432\n",
            "Fixation precission at threshold 0.9 is 97.78064004755771\n",
            "fixation_f1_score for threshold 0.9 is 97.78548427049788\n",
            "Saccade recall at threshol 0.9 is 81.27090301003345\n",
            "saccade_precision for threshold 0.9 is 81.33891213389121\n",
            "saccade_f1_score for threshold 0.9 is 81.30489335006274\n",
            "treshold= 0.9\n"
          ]
        },
        {
          "output_type": "stream",
          "name": "stderr",
          "text": [
            "/usr/local/lib/python3.7/dist-packages/sklearn/metrics/_classification.py:1318: UndefinedMetricWarning: Precision and F-score are ill-defined and being set to 0.0 in labels with no predicted samples. Use `zero_division` parameter to control this behavior.\n",
            "  _warn_prf(average, modifier, msg_start, len(result))\n",
            "/usr/local/lib/python3.7/dist-packages/sklearn/metrics/_classification.py:1318: UndefinedMetricWarning: Precision and F-score are ill-defined and being set to 0.0 in labels with no predicted samples. Use `zero_division` parameter to control this behavior.\n",
            "  _warn_prf(average, modifier, msg_start, len(result))\n",
            "/usr/local/lib/python3.7/dist-packages/sklearn/metrics/_classification.py:1318: UndefinedMetricWarning: Precision and F-score are ill-defined and being set to 0.0 in labels with no predicted samples. Use `zero_division` parameter to control this behavior.\n",
            "  _warn_prf(average, modifier, msg_start, len(result))\n",
            "/usr/local/lib/python3.7/dist-packages/sklearn/metrics/_classification.py:1318: UndefinedMetricWarning: Precision and F-score are ill-defined and being set to 0.0 in labels with no predicted samples. Use `zero_division` parameter to control this behavior.\n",
            "  _warn_prf(average, modifier, msg_start, len(result))\n",
            "/usr/local/lib/python3.7/dist-packages/sklearn/metrics/_classification.py:1318: UndefinedMetricWarning: Precision and F-score are ill-defined and being set to 0.0 in labels with no predicted samples. Use `zero_division` parameter to control this behavior.\n",
            "  _warn_prf(average, modifier, msg_start, len(result))\n",
            "/usr/local/lib/python3.7/dist-packages/sklearn/metrics/_classification.py:1318: UndefinedMetricWarning: Precision and F-score are ill-defined and being set to 0.0 in labels with no predicted samples. Use `zero_division` parameter to control this behavior.\n",
            "  _warn_prf(average, modifier, msg_start, len(result))\n"
          ]
        },
        {
          "output_type": "stream",
          "name": "stdout",
          "text": [
            "classification_report for threshold 1.0               precision    recall  f1-score   support\n",
            "\n",
            "           1       0.94      0.98      0.96     10092\n",
            "           2       0.68      0.80      0.73      1196\n",
            "           3       0.00      0.00      0.00       684\n",
            "\n",
            "    accuracy                           0.91     11972\n",
            "   macro avg       0.54      0.59      0.57     11972\n",
            "weighted avg       0.86      0.91      0.88     11972\n",
            "\n",
            "Kochen kappa for threshold 1.0 0.6287690928431444\n",
            "              precision    recall  f1-score   support\n",
            "\n",
            "           1       0.94      0.98      0.96     10092\n",
            "           2       0.68      0.80      0.73      1196\n",
            "           3       0.00      0.00      0.00       684\n",
            "\n",
            "    accuracy                           0.91     11972\n",
            "   macro avg       0.54      0.59      0.57     11972\n",
            "weighted avg       0.86      0.91      0.88     11972\n",
            "\n",
            "Fixation recall at threshol 1.0 is 98.46413000396353\n",
            "Fixation precission at threshold 1.0 is 97.60337884294273\n",
            "fixation_f1_score for threshold 1.0 is 98.03186504217432\n",
            "Saccade recall at threshol 1.0 is 79.59866220735786\n",
            "saccade_precision for threshold 1.0 is 85.99819331526649\n",
            "saccade_f1_score for threshold 1.0 is 82.67477203647417\n",
            "treshold= 1.0\n"
          ]
        },
        {
          "output_type": "stream",
          "name": "stderr",
          "text": [
            "/usr/local/lib/python3.7/dist-packages/sklearn/metrics/_classification.py:1318: UndefinedMetricWarning: Precision and F-score are ill-defined and being set to 0.0 in labels with no predicted samples. Use `zero_division` parameter to control this behavior.\n",
            "  _warn_prf(average, modifier, msg_start, len(result))\n",
            "/usr/local/lib/python3.7/dist-packages/sklearn/metrics/_classification.py:1318: UndefinedMetricWarning: Precision and F-score are ill-defined and being set to 0.0 in labels with no predicted samples. Use `zero_division` parameter to control this behavior.\n",
            "  _warn_prf(average, modifier, msg_start, len(result))\n",
            "/usr/local/lib/python3.7/dist-packages/sklearn/metrics/_classification.py:1318: UndefinedMetricWarning: Precision and F-score are ill-defined and being set to 0.0 in labels with no predicted samples. Use `zero_division` parameter to control this behavior.\n",
            "  _warn_prf(average, modifier, msg_start, len(result))\n",
            "/usr/local/lib/python3.7/dist-packages/sklearn/metrics/_classification.py:1318: UndefinedMetricWarning: Precision and F-score are ill-defined and being set to 0.0 in labels with no predicted samples. Use `zero_division` parameter to control this behavior.\n",
            "  _warn_prf(average, modifier, msg_start, len(result))\n",
            "/usr/local/lib/python3.7/dist-packages/sklearn/metrics/_classification.py:1318: UndefinedMetricWarning: Precision and F-score are ill-defined and being set to 0.0 in labels with no predicted samples. Use `zero_division` parameter to control this behavior.\n",
            "  _warn_prf(average, modifier, msg_start, len(result))\n",
            "/usr/local/lib/python3.7/dist-packages/sklearn/metrics/_classification.py:1318: UndefinedMetricWarning: Precision and F-score are ill-defined and being set to 0.0 in labels with no predicted samples. Use `zero_division` parameter to control this behavior.\n",
            "  _warn_prf(average, modifier, msg_start, len(result))\n"
          ]
        },
        {
          "output_type": "stream",
          "name": "stdout",
          "text": [
            "classification_report for threshold 1.1               precision    recall  f1-score   support\n",
            "\n",
            "           1       0.94      0.99      0.96     10092\n",
            "           2       0.71      0.78      0.74      1196\n",
            "           3       0.00      0.00      0.00       684\n",
            "\n",
            "    accuracy                           0.91     11972\n",
            "   macro avg       0.55      0.59      0.57     11972\n",
            "weighted avg       0.86      0.91      0.88     11972\n",
            "\n",
            "Kochen kappa for threshold 1.1 0.6283587962074393\n",
            "              precision    recall  f1-score   support\n",
            "\n",
            "           1       0.94      0.99      0.96     10092\n",
            "           2       0.71      0.78      0.74      1196\n",
            "           3       0.00      0.00      0.00       684\n",
            "\n",
            "    accuracy                           0.91     11972\n",
            "   macro avg       0.55      0.59      0.57     11972\n",
            "weighted avg       0.86      0.91      0.88     11972\n",
            "\n",
            "Fixation recall at threshol 1.1 is 98.87039239001189\n",
            "Fixation precission at threshold 1.1 is 97.43189141685383\n",
            "fixation_f1_score for threshold 1.1 is 98.14587124379088\n",
            "Saccade recall at threshol 1.1 is 78.01003344481606\n",
            "saccade_precision for threshold 1.1 is 89.11174785100286\n",
            "saccade_f1_score for threshold 1.1 is 83.19215336602764\n",
            "treshold= 1.1\n"
          ]
        },
        {
          "output_type": "stream",
          "name": "stderr",
          "text": [
            "/usr/local/lib/python3.7/dist-packages/sklearn/metrics/_classification.py:1318: UndefinedMetricWarning: Precision and F-score are ill-defined and being set to 0.0 in labels with no predicted samples. Use `zero_division` parameter to control this behavior.\n",
            "  _warn_prf(average, modifier, msg_start, len(result))\n",
            "/usr/local/lib/python3.7/dist-packages/sklearn/metrics/_classification.py:1318: UndefinedMetricWarning: Precision and F-score are ill-defined and being set to 0.0 in labels with no predicted samples. Use `zero_division` parameter to control this behavior.\n",
            "  _warn_prf(average, modifier, msg_start, len(result))\n",
            "/usr/local/lib/python3.7/dist-packages/sklearn/metrics/_classification.py:1318: UndefinedMetricWarning: Precision and F-score are ill-defined and being set to 0.0 in labels with no predicted samples. Use `zero_division` parameter to control this behavior.\n",
            "  _warn_prf(average, modifier, msg_start, len(result))\n",
            "/usr/local/lib/python3.7/dist-packages/sklearn/metrics/_classification.py:1318: UndefinedMetricWarning: Precision and F-score are ill-defined and being set to 0.0 in labels with no predicted samples. Use `zero_division` parameter to control this behavior.\n",
            "  _warn_prf(average, modifier, msg_start, len(result))\n",
            "/usr/local/lib/python3.7/dist-packages/sklearn/metrics/_classification.py:1318: UndefinedMetricWarning: Precision and F-score are ill-defined and being set to 0.0 in labels with no predicted samples. Use `zero_division` parameter to control this behavior.\n",
            "  _warn_prf(average, modifier, msg_start, len(result))\n",
            "/usr/local/lib/python3.7/dist-packages/sklearn/metrics/_classification.py:1318: UndefinedMetricWarning: Precision and F-score are ill-defined and being set to 0.0 in labels with no predicted samples. Use `zero_division` parameter to control this behavior.\n",
            "  _warn_prf(average, modifier, msg_start, len(result))\n"
          ]
        },
        {
          "output_type": "stream",
          "name": "stdout",
          "text": [
            "classification_report for threshold 1.2               precision    recall  f1-score   support\n",
            "\n",
            "           1       0.93      0.99      0.96     10092\n",
            "           2       0.74      0.76      0.75      1196\n",
            "           3       0.00      0.00      0.00       684\n",
            "\n",
            "    accuracy                           0.91     11972\n",
            "   macro avg       0.56      0.58      0.57     11972\n",
            "weighted avg       0.86      0.91      0.88     11972\n",
            "\n",
            "Kochen kappa for threshold 1.2 0.6233603766322211\n",
            "              precision    recall  f1-score   support\n",
            "\n",
            "           1       0.93      0.99      0.96     10092\n",
            "           2       0.74      0.76      0.75      1196\n",
            "           3       0.00      0.00      0.00       684\n",
            "\n",
            "    accuracy                           0.91     11972\n",
            "   macro avg       0.56      0.58      0.57     11972\n",
            "weighted avg       0.86      0.91      0.88     11972\n",
            "\n",
            "Fixation recall at threshol 1.2 is 99.17756638921918\n",
            "Fixation precission at threshold 1.2 is 97.21250971250971\n",
            "fixation_f1_score for threshold 1.2 is 98.1852069845007\n",
            "Saccade recall at threshol 1.2 is 76.00334448160535\n",
            "saccade_precision for threshold 1.2 is 91.63306451612904\n",
            "saccade_f1_score for threshold 1.2 is 83.08957952468006\n",
            "treshold= 1.2\n"
          ]
        },
        {
          "output_type": "stream",
          "name": "stderr",
          "text": [
            "/usr/local/lib/python3.7/dist-packages/sklearn/metrics/_classification.py:1318: UndefinedMetricWarning: Precision and F-score are ill-defined and being set to 0.0 in labels with no predicted samples. Use `zero_division` parameter to control this behavior.\n",
            "  _warn_prf(average, modifier, msg_start, len(result))\n",
            "/usr/local/lib/python3.7/dist-packages/sklearn/metrics/_classification.py:1318: UndefinedMetricWarning: Precision and F-score are ill-defined and being set to 0.0 in labels with no predicted samples. Use `zero_division` parameter to control this behavior.\n",
            "  _warn_prf(average, modifier, msg_start, len(result))\n",
            "/usr/local/lib/python3.7/dist-packages/sklearn/metrics/_classification.py:1318: UndefinedMetricWarning: Precision and F-score are ill-defined and being set to 0.0 in labels with no predicted samples. Use `zero_division` parameter to control this behavior.\n",
            "  _warn_prf(average, modifier, msg_start, len(result))\n",
            "/usr/local/lib/python3.7/dist-packages/sklearn/metrics/_classification.py:1318: UndefinedMetricWarning: Precision and F-score are ill-defined and being set to 0.0 in labels with no predicted samples. Use `zero_division` parameter to control this behavior.\n",
            "  _warn_prf(average, modifier, msg_start, len(result))\n",
            "/usr/local/lib/python3.7/dist-packages/sklearn/metrics/_classification.py:1318: UndefinedMetricWarning: Precision and F-score are ill-defined and being set to 0.0 in labels with no predicted samples. Use `zero_division` parameter to control this behavior.\n",
            "  _warn_prf(average, modifier, msg_start, len(result))\n",
            "/usr/local/lib/python3.7/dist-packages/sklearn/metrics/_classification.py:1318: UndefinedMetricWarning: Precision and F-score are ill-defined and being set to 0.0 in labels with no predicted samples. Use `zero_division` parameter to control this behavior.\n",
            "  _warn_prf(average, modifier, msg_start, len(result))\n"
          ]
        },
        {
          "output_type": "stream",
          "name": "stdout",
          "text": [
            "classification_report for threshold 1.3               precision    recall  f1-score   support\n",
            "\n",
            "           1       0.93      0.99      0.96     10092\n",
            "           2       0.76      0.74      0.75      1196\n",
            "           3       0.00      0.00      0.00       684\n",
            "\n",
            "    accuracy                           0.91     11972\n",
            "   macro avg       0.56      0.58      0.57     11972\n",
            "weighted avg       0.86      0.91      0.88     11972\n",
            "\n",
            "Kochen kappa for threshold 1.3 0.6182000946648485\n",
            "              precision    recall  f1-score   support\n",
            "\n",
            "           1       0.93      0.99      0.96     10092\n",
            "           2       0.76      0.74      0.75      1196\n",
            "           3       0.00      0.00      0.00       684\n",
            "\n",
            "    accuracy                           0.91     11972\n",
            "   macro avg       0.56      0.58      0.57     11972\n",
            "weighted avg       0.86      0.91      0.88     11972\n",
            "\n",
            "Fixation recall at threshol 1.3 is 99.41537851763773\n",
            "Fixation precission at threshold 1.3 is 97.03094777562863\n",
            "fixation_f1_score for threshold 1.3 is 98.20869224745496\n",
            "Saccade recall at threshol 1.3 is 74.33110367892976\n",
            "saccade_precision for threshold 1.3 is 93.77637130801688\n",
            "saccade_f1_score for threshold 1.3 is 82.92910447761194\n",
            "treshold= 1.3\n"
          ]
        },
        {
          "output_type": "stream",
          "name": "stderr",
          "text": [
            "/usr/local/lib/python3.7/dist-packages/sklearn/metrics/_classification.py:1318: UndefinedMetricWarning: Precision and F-score are ill-defined and being set to 0.0 in labels with no predicted samples. Use `zero_division` parameter to control this behavior.\n",
            "  _warn_prf(average, modifier, msg_start, len(result))\n",
            "/usr/local/lib/python3.7/dist-packages/sklearn/metrics/_classification.py:1318: UndefinedMetricWarning: Precision and F-score are ill-defined and being set to 0.0 in labels with no predicted samples. Use `zero_division` parameter to control this behavior.\n",
            "  _warn_prf(average, modifier, msg_start, len(result))\n",
            "/usr/local/lib/python3.7/dist-packages/sklearn/metrics/_classification.py:1318: UndefinedMetricWarning: Precision and F-score are ill-defined and being set to 0.0 in labels with no predicted samples. Use `zero_division` parameter to control this behavior.\n",
            "  _warn_prf(average, modifier, msg_start, len(result))\n",
            "/usr/local/lib/python3.7/dist-packages/sklearn/metrics/_classification.py:1318: UndefinedMetricWarning: Precision and F-score are ill-defined and being set to 0.0 in labels with no predicted samples. Use `zero_division` parameter to control this behavior.\n",
            "  _warn_prf(average, modifier, msg_start, len(result))\n",
            "/usr/local/lib/python3.7/dist-packages/sklearn/metrics/_classification.py:1318: UndefinedMetricWarning: Precision and F-score are ill-defined and being set to 0.0 in labels with no predicted samples. Use `zero_division` parameter to control this behavior.\n",
            "  _warn_prf(average, modifier, msg_start, len(result))\n",
            "/usr/local/lib/python3.7/dist-packages/sklearn/metrics/_classification.py:1318: UndefinedMetricWarning: Precision and F-score are ill-defined and being set to 0.0 in labels with no predicted samples. Use `zero_division` parameter to control this behavior.\n",
            "  _warn_prf(average, modifier, msg_start, len(result))\n"
          ]
        },
        {
          "output_type": "stream",
          "name": "stdout",
          "text": [
            "classification_report for threshold 1.4               precision    recall  f1-score   support\n",
            "\n",
            "           1       0.93      1.00      0.96     10092\n",
            "           2       0.78      0.72      0.75      1196\n",
            "           3       0.00      0.00      0.00       684\n",
            "\n",
            "    accuracy                           0.91     11972\n",
            "   macro avg       0.57      0.57      0.57     11972\n",
            "weighted avg       0.86      0.91      0.88     11972\n",
            "\n",
            "Kochen kappa for threshold 1.4 0.6104787374465952\n",
            "              precision    recall  f1-score   support\n",
            "\n",
            "           1       0.93      1.00      0.96     10092\n",
            "           2       0.78      0.72      0.75      1196\n",
            "           3       0.00      0.00      0.00       684\n",
            "\n",
            "    accuracy                           0.91     11972\n",
            "   macro avg       0.57      0.57      0.57     11972\n",
            "weighted avg       0.86      0.91      0.88     11972\n",
            "\n",
            "Fixation recall at threshol 1.4 is 99.60364645263576\n",
            "Fixation precission at threshold 1.4 is 96.83074848280512\n",
            "fixation_f1_score for threshold 1.4 is 98.19762614174768\n",
            "Saccade recall at threshol 1.4 is 72.49163879598662\n",
            "saccade_precision for threshold 1.4 is 95.58985667034179\n",
            "saccade_f1_score for threshold 1.4 is 82.45363766048501\n",
            "treshold= 1.4\n"
          ]
        },
        {
          "output_type": "stream",
          "name": "stderr",
          "text": [
            "/usr/local/lib/python3.7/dist-packages/sklearn/metrics/_classification.py:1318: UndefinedMetricWarning: Precision and F-score are ill-defined and being set to 0.0 in labels with no predicted samples. Use `zero_division` parameter to control this behavior.\n",
            "  _warn_prf(average, modifier, msg_start, len(result))\n",
            "/usr/local/lib/python3.7/dist-packages/sklearn/metrics/_classification.py:1318: UndefinedMetricWarning: Precision and F-score are ill-defined and being set to 0.0 in labels with no predicted samples. Use `zero_division` parameter to control this behavior.\n",
            "  _warn_prf(average, modifier, msg_start, len(result))\n",
            "/usr/local/lib/python3.7/dist-packages/sklearn/metrics/_classification.py:1318: UndefinedMetricWarning: Precision and F-score are ill-defined and being set to 0.0 in labels with no predicted samples. Use `zero_division` parameter to control this behavior.\n",
            "  _warn_prf(average, modifier, msg_start, len(result))\n",
            "/usr/local/lib/python3.7/dist-packages/sklearn/metrics/_classification.py:1318: UndefinedMetricWarning: Precision and F-score are ill-defined and being set to 0.0 in labels with no predicted samples. Use `zero_division` parameter to control this behavior.\n",
            "  _warn_prf(average, modifier, msg_start, len(result))\n",
            "/usr/local/lib/python3.7/dist-packages/sklearn/metrics/_classification.py:1318: UndefinedMetricWarning: Precision and F-score are ill-defined and being set to 0.0 in labels with no predicted samples. Use `zero_division` parameter to control this behavior.\n",
            "  _warn_prf(average, modifier, msg_start, len(result))\n",
            "/usr/local/lib/python3.7/dist-packages/sklearn/metrics/_classification.py:1318: UndefinedMetricWarning: Precision and F-score are ill-defined and being set to 0.0 in labels with no predicted samples. Use `zero_division` parameter to control this behavior.\n",
            "  _warn_prf(average, modifier, msg_start, len(result))\n"
          ]
        },
        {
          "output_type": "stream",
          "name": "stdout",
          "text": [
            "classification_report for threshold 1.5               precision    recall  f1-score   support\n",
            "\n",
            "           1       0.92      1.00      0.96     10092\n",
            "           2       0.80      0.71      0.75      1196\n",
            "           3       0.00      0.00      0.00       684\n",
            "\n",
            "    accuracy                           0.91     11972\n",
            "   macro avg       0.57      0.57      0.57     11972\n",
            "weighted avg       0.86      0.91      0.88     11972\n",
            "\n",
            "Kochen kappa for threshold 1.5 0.601105725575626\n",
            "              precision    recall  f1-score   support\n",
            "\n",
            "           1       0.92      1.00      0.96     10092\n",
            "           2       0.80      0.71      0.75      1196\n",
            "           3       0.00      0.00      0.00       684\n",
            "\n",
            "    accuracy                           0.91     11972\n",
            "   macro avg       0.57      0.57      0.57     11972\n",
            "weighted avg       0.86      0.91      0.88     11972\n",
            "\n",
            "Fixation recall at threshol 1.5 is 99.6928260007927\n",
            "Fixation precission at threshold 1.5 is 96.63817116511382\n",
            "fixation_f1_score for threshold 1.5 is 98.14173535580159\n",
            "Saccade recall at threshol 1.5 is 70.73578595317726\n",
            "saccade_precision for threshold 1.5 is 96.46522234891677\n",
            "saccade_f1_score for threshold 1.5 is 81.62083936324169\n",
            "treshold= 1.5\n"
          ]
        },
        {
          "output_type": "stream",
          "name": "stderr",
          "text": [
            "/usr/local/lib/python3.7/dist-packages/sklearn/metrics/_classification.py:1318: UndefinedMetricWarning: Precision and F-score are ill-defined and being set to 0.0 in labels with no predicted samples. Use `zero_division` parameter to control this behavior.\n",
            "  _warn_prf(average, modifier, msg_start, len(result))\n",
            "/usr/local/lib/python3.7/dist-packages/sklearn/metrics/_classification.py:1318: UndefinedMetricWarning: Precision and F-score are ill-defined and being set to 0.0 in labels with no predicted samples. Use `zero_division` parameter to control this behavior.\n",
            "  _warn_prf(average, modifier, msg_start, len(result))\n",
            "/usr/local/lib/python3.7/dist-packages/sklearn/metrics/_classification.py:1318: UndefinedMetricWarning: Precision and F-score are ill-defined and being set to 0.0 in labels with no predicted samples. Use `zero_division` parameter to control this behavior.\n",
            "  _warn_prf(average, modifier, msg_start, len(result))\n",
            "/usr/local/lib/python3.7/dist-packages/sklearn/metrics/_classification.py:1318: UndefinedMetricWarning: Precision and F-score are ill-defined and being set to 0.0 in labels with no predicted samples. Use `zero_division` parameter to control this behavior.\n",
            "  _warn_prf(average, modifier, msg_start, len(result))\n",
            "/usr/local/lib/python3.7/dist-packages/sklearn/metrics/_classification.py:1318: UndefinedMetricWarning: Precision and F-score are ill-defined and being set to 0.0 in labels with no predicted samples. Use `zero_division` parameter to control this behavior.\n",
            "  _warn_prf(average, modifier, msg_start, len(result))\n",
            "/usr/local/lib/python3.7/dist-packages/sklearn/metrics/_classification.py:1318: UndefinedMetricWarning: Precision and F-score are ill-defined and being set to 0.0 in labels with no predicted samples. Use `zero_division` parameter to control this behavior.\n",
            "  _warn_prf(average, modifier, msg_start, len(result))\n"
          ]
        },
        {
          "output_type": "stream",
          "name": "stdout",
          "text": [
            "classification_report for threshold 1.6               precision    recall  f1-score   support\n",
            "\n",
            "           1       0.92      1.00      0.96     10092\n",
            "           2       0.80      0.69      0.74      1196\n",
            "           3       0.00      0.00      0.00       684\n",
            "\n",
            "    accuracy                           0.91     11972\n",
            "   macro avg       0.57      0.56      0.57     11972\n",
            "weighted avg       0.86      0.91      0.88     11972\n",
            "\n",
            "Kochen kappa for threshold 1.6 0.5906368539157677\n",
            "              precision    recall  f1-score   support\n",
            "\n",
            "           1       0.92      1.00      0.96     10092\n",
            "           2       0.80      0.69      0.74      1196\n",
            "           3       0.00      0.00      0.00       684\n",
            "\n",
            "    accuracy                           0.91     11972\n",
            "   macro avg       0.57      0.56      0.57     11972\n",
            "weighted avg       0.86      0.91      0.88     11972\n",
            "\n",
            "Fixation recall at threshol 1.6 is 99.72255251684503\n",
            "Fixation precission at threshold 1.6 is 96.45390070921985\n",
            "fixation_f1_score for threshold 1.6 is 98.06099581019194\n",
            "Saccade recall at threshol 1.6 is 69.06354515050167\n",
            "saccade_precision for threshold 1.6 is 96.72131147540983\n",
            "saccade_f1_score for threshold 1.6 is 80.58536585365853\n",
            "treshold= 1.6\n"
          ]
        },
        {
          "output_type": "stream",
          "name": "stderr",
          "text": [
            "/usr/local/lib/python3.7/dist-packages/sklearn/metrics/_classification.py:1318: UndefinedMetricWarning: Precision and F-score are ill-defined and being set to 0.0 in labels with no predicted samples. Use `zero_division` parameter to control this behavior.\n",
            "  _warn_prf(average, modifier, msg_start, len(result))\n",
            "/usr/local/lib/python3.7/dist-packages/sklearn/metrics/_classification.py:1318: UndefinedMetricWarning: Precision and F-score are ill-defined and being set to 0.0 in labels with no predicted samples. Use `zero_division` parameter to control this behavior.\n",
            "  _warn_prf(average, modifier, msg_start, len(result))\n",
            "/usr/local/lib/python3.7/dist-packages/sklearn/metrics/_classification.py:1318: UndefinedMetricWarning: Precision and F-score are ill-defined and being set to 0.0 in labels with no predicted samples. Use `zero_division` parameter to control this behavior.\n",
            "  _warn_prf(average, modifier, msg_start, len(result))\n",
            "/usr/local/lib/python3.7/dist-packages/sklearn/metrics/_classification.py:1318: UndefinedMetricWarning: Precision and F-score are ill-defined and being set to 0.0 in labels with no predicted samples. Use `zero_division` parameter to control this behavior.\n",
            "  _warn_prf(average, modifier, msg_start, len(result))\n",
            "/usr/local/lib/python3.7/dist-packages/sklearn/metrics/_classification.py:1318: UndefinedMetricWarning: Precision and F-score are ill-defined and being set to 0.0 in labels with no predicted samples. Use `zero_division` parameter to control this behavior.\n",
            "  _warn_prf(average, modifier, msg_start, len(result))\n",
            "/usr/local/lib/python3.7/dist-packages/sklearn/metrics/_classification.py:1318: UndefinedMetricWarning: Precision and F-score are ill-defined and being set to 0.0 in labels with no predicted samples. Use `zero_division` parameter to control this behavior.\n",
            "  _warn_prf(average, modifier, msg_start, len(result))\n"
          ]
        },
        {
          "output_type": "stream",
          "name": "stdout",
          "text": [
            "classification_report for threshold 1.7               precision    recall  f1-score   support\n",
            "\n",
            "           1       0.92      1.00      0.96     10092\n",
            "           2       0.82      0.68      0.74      1196\n",
            "           3       0.00      0.00      0.00       684\n",
            "\n",
            "    accuracy                           0.91     11972\n",
            "   macro avg       0.58      0.56      0.57     11972\n",
            "weighted avg       0.85      0.91      0.88     11972\n",
            "\n",
            "Kochen kappa for threshold 1.7 0.5842203652328357\n",
            "              precision    recall  f1-score   support\n",
            "\n",
            "           1       0.92      1.00      0.96     10092\n",
            "           2       0.82      0.68      0.74      1196\n",
            "           3       0.00      0.00      0.00       684\n",
            "\n",
            "    accuracy                           0.91     11972\n",
            "   macro avg       0.58      0.56      0.57     11972\n",
            "weighted avg       0.85      0.91      0.88     11972\n",
            "\n",
            "Fixation recall at threshol 1.7 is 99.76218787158145\n",
            "Fixation precission at threshold 1.7 is 96.3444976076555\n",
            "fixation_f1_score for threshold 1.7 is 98.0235614837893\n",
            "Saccade recall at threshol 1.7 is 68.06020066889631\n",
            "saccade_precision for threshold 1.7 is 97.13603818615752\n",
            "saccade_f1_score for threshold 1.7 is 80.039331366765\n",
            "treshold= 1.7\n"
          ]
        },
        {
          "output_type": "stream",
          "name": "stderr",
          "text": [
            "/usr/local/lib/python3.7/dist-packages/sklearn/metrics/_classification.py:1318: UndefinedMetricWarning: Precision and F-score are ill-defined and being set to 0.0 in labels with no predicted samples. Use `zero_division` parameter to control this behavior.\n",
            "  _warn_prf(average, modifier, msg_start, len(result))\n",
            "/usr/local/lib/python3.7/dist-packages/sklearn/metrics/_classification.py:1318: UndefinedMetricWarning: Precision and F-score are ill-defined and being set to 0.0 in labels with no predicted samples. Use `zero_division` parameter to control this behavior.\n",
            "  _warn_prf(average, modifier, msg_start, len(result))\n",
            "/usr/local/lib/python3.7/dist-packages/sklearn/metrics/_classification.py:1318: UndefinedMetricWarning: Precision and F-score are ill-defined and being set to 0.0 in labels with no predicted samples. Use `zero_division` parameter to control this behavior.\n",
            "  _warn_prf(average, modifier, msg_start, len(result))\n",
            "/usr/local/lib/python3.7/dist-packages/sklearn/metrics/_classification.py:1318: UndefinedMetricWarning: Precision and F-score are ill-defined and being set to 0.0 in labels with no predicted samples. Use `zero_division` parameter to control this behavior.\n",
            "  _warn_prf(average, modifier, msg_start, len(result))\n",
            "/usr/local/lib/python3.7/dist-packages/sklearn/metrics/_classification.py:1318: UndefinedMetricWarning: Precision and F-score are ill-defined and being set to 0.0 in labels with no predicted samples. Use `zero_division` parameter to control this behavior.\n",
            "  _warn_prf(average, modifier, msg_start, len(result))\n",
            "/usr/local/lib/python3.7/dist-packages/sklearn/metrics/_classification.py:1318: UndefinedMetricWarning: Precision and F-score are ill-defined and being set to 0.0 in labels with no predicted samples. Use `zero_division` parameter to control this behavior.\n",
            "  _warn_prf(average, modifier, msg_start, len(result))\n"
          ]
        },
        {
          "output_type": "stream",
          "name": "stdout",
          "text": [
            "classification_report for threshold 1.8               precision    recall  f1-score   support\n",
            "\n",
            "           1       0.92      1.00      0.96     10092\n",
            "           2       0.83      0.67      0.74      1196\n",
            "           3       0.00      0.00      0.00       684\n",
            "\n",
            "    accuracy                           0.91     11972\n",
            "   macro avg       0.58      0.56      0.57     11972\n",
            "weighted avg       0.85      0.91      0.88     11972\n",
            "\n",
            "Kochen kappa for threshold 1.8 0.5794763241901463\n",
            "              precision    recall  f1-score   support\n",
            "\n",
            "           1       0.92      1.00      0.96     10092\n",
            "           2       0.83      0.67      0.74      1196\n",
            "           3       0.00      0.00      0.00       684\n",
            "\n",
            "    accuracy                           0.91     11972\n",
            "   macro avg       0.58      0.56      0.57     11972\n",
            "weighted avg       0.85      0.91      0.88     11972\n",
            "\n",
            "Fixation recall at threshol 1.8 is 99.82164090368609\n",
            "Fixation precission at threshold 1.8 is 96.2545385056373\n",
            "fixation_f1_score for threshold 1.8 is 98.00564257223465\n",
            "Saccade recall at threshol 1.8 is 67.22408026755853\n",
            "saccade_precision for threshold 1.8 is 97.81021897810218\n",
            "saccade_f1_score for threshold 1.8 is 79.68285431119921\n",
            "treshold= 1.8\n",
            "classification_report for threshold 1.9               precision    recall  f1-score   support\n",
            "\n",
            "           1       0.91      1.00      0.95     10092\n",
            "           2       0.84      0.66      0.74      1196\n",
            "           3       0.00      0.00      0.00       684\n",
            "\n",
            "    accuracy                           0.91     11972\n",
            "   macro avg       0.58      0.55      0.56     11972\n",
            "weighted avg       0.85      0.91      0.88     11972\n",
            "\n",
            "Kochen kappa for threshold 1.9 0.5717003235494922\n",
            "              precision    recall  f1-score   support\n",
            "\n",
            "           1       0.91      1.00      0.95     10092\n",
            "           2       0.84      0.66      0.74      1196\n",
            "           3       0.00      0.00      0.00       684\n",
            "\n",
            "    accuracy                           0.91     11972\n",
            "   macro avg       0.58      0.55      0.56     11972\n",
            "weighted avg       0.85      0.91      0.88     11972\n",
            "\n",
            "Fixation recall at threshol 1.9 is 99.85136741973841\n",
            "Fixation precission at threshold 1.9 is 96.12706286368406\n",
            "fixation_f1_score for threshold 1.9 is 97.95382746051033\n",
            "Saccade recall at threshol 1.9 is 66.05351170568562\n",
            "saccade_precision for threshold 1.9 is 98.13664596273291\n",
            "saccade_f1_score for threshold 1.9 is 78.96051974012994\n",
            "treshold= 1.9\n"
          ]
        },
        {
          "output_type": "stream",
          "name": "stderr",
          "text": [
            "/usr/local/lib/python3.7/dist-packages/sklearn/metrics/_classification.py:1318: UndefinedMetricWarning: Precision and F-score are ill-defined and being set to 0.0 in labels with no predicted samples. Use `zero_division` parameter to control this behavior.\n",
            "  _warn_prf(average, modifier, msg_start, len(result))\n",
            "/usr/local/lib/python3.7/dist-packages/sklearn/metrics/_classification.py:1318: UndefinedMetricWarning: Precision and F-score are ill-defined and being set to 0.0 in labels with no predicted samples. Use `zero_division` parameter to control this behavior.\n",
            "  _warn_prf(average, modifier, msg_start, len(result))\n",
            "/usr/local/lib/python3.7/dist-packages/sklearn/metrics/_classification.py:1318: UndefinedMetricWarning: Precision and F-score are ill-defined and being set to 0.0 in labels with no predicted samples. Use `zero_division` parameter to control this behavior.\n",
            "  _warn_prf(average, modifier, msg_start, len(result))\n",
            "/usr/local/lib/python3.7/dist-packages/sklearn/metrics/_classification.py:1318: UndefinedMetricWarning: Precision and F-score are ill-defined and being set to 0.0 in labels with no predicted samples. Use `zero_division` parameter to control this behavior.\n",
            "  _warn_prf(average, modifier, msg_start, len(result))\n",
            "/usr/local/lib/python3.7/dist-packages/sklearn/metrics/_classification.py:1318: UndefinedMetricWarning: Precision and F-score are ill-defined and being set to 0.0 in labels with no predicted samples. Use `zero_division` parameter to control this behavior.\n",
            "  _warn_prf(average, modifier, msg_start, len(result))\n",
            "/usr/local/lib/python3.7/dist-packages/sklearn/metrics/_classification.py:1318: UndefinedMetricWarning: Precision and F-score are ill-defined and being set to 0.0 in labels with no predicted samples. Use `zero_division` parameter to control this behavior.\n",
            "  _warn_prf(average, modifier, msg_start, len(result))\n"
          ]
        }
      ],
      "source": [
        "thresholds=[x/10 for x in range(0,20)]\n",
        "\n",
        "from sklearn.metrics import classification_report,accuracy_score, confusion_matrix, precision_score, cohen_kappa_score, recall_score\n",
        "fixation_recall=[]\n",
        "fixation_precision=[]\n",
        "fixation_f1_score=[]\n",
        "saccade_recall=[]\n",
        "saccade_precision=[]\n",
        "saccade_f1_score=[]\n",
        "cohen_kappa=[]\n",
        "\n",
        "\n",
        "for t in thresholds:\n",
        "  y1=ivt(x, v_threshold=t)[0]\n",
        "  y_pred=np.array(y1)\n",
        "  #print(len(y_real))\n",
        " # print(len(y_pred))\n",
        "  cm=confusion_matrix(y, y_pred)\n",
        "  #print(cm)\n",
        "  print('classification_report for threshold', t, classification_report(y, y_pred))\n",
        "  print('Kochen kappa for threshold', t, cohen_kappa_score(y, y_pred))\n",
        "  print(classification_report(y,y_pred))\n",
        "  #print(classification_report(y,y_pred['f1-score']))\n",
        "  #Fixation accuracy calculation\n",
        "  sumf=cm[0][0]+cm[0][1]\n",
        "  Tc=cm[0][0]\n",
        "  fixation_recall.append(Tc*100/sumf)\n",
        "  print('Fixation recall at threshol',t, 'is', fixation_recall[-1])\n",
        "  #fixation precision \n",
        "  sumfp=cm[0][0]+cm[1][0]\n",
        "  Tcfp=cm[0][0]\n",
        "  fixation_precision.append(Tcfp*100/sumfp)\n",
        "  print('Fixation precission at threshold', t, 'is', fixation_precision[-1])\n",
        "  #fixation f1_score\n",
        "  multiple_recal_prec=2*((Tcfp*100/sumfp)*(Tc*100/sumf))\n",
        "  add_recall_prec=((Tc*100/sumf)+Tcfp*100/sumfp)\n",
        "  result_f1_score=multiple_recal_prec/add_recall_prec\n",
        "  fixation_f1_score.append(result_f1_score)\n",
        "  print('fixation_f1_score for threshold', t, 'is', fixation_f1_score[-1])\n",
        "  #Saccade accuracy calculation\n",
        "  sums=cm[1][0]+cm[1][1]\n",
        "  Tcs=cm[1][1]\n",
        "  saccade_recall.append(Tcs*100/sums)\n",
        "  print('Saccade recall at threshol',t, 'is', saccade_recall[-1])\n",
        "  #Saccade precison\n",
        "  sum_saccP=cm[0][1]+cm[1][1]\n",
        "  Tc_saccP=cm[1][1]\n",
        "  saccade_precision.append(Tc_saccP*100/sum_saccP)\n",
        "  print('saccade_precision for threshold', t, 'is', saccade_precision[-1])\n",
        "  #saccade f1_score\n",
        "  multiply=2*((Tc_saccP*100/sum_saccP)*(Tcs*100/sums))\n",
        "  addition=(Tcs*100/sums)+(Tc_saccP*100/sum_saccP)\n",
        "  saccade_f1_score.append(multiply/addition)\n",
        "  print('saccade_f1_score for threshold', t, 'is', saccade_f1_score[-1])\n",
        "  print('treshold=', t)\n",
        "  \n",
        "  "
      ]
    },
    {
      "cell_type": "code",
      "execution_count": null,
      "metadata": {
        "id": "Sc2jpwd4FwBC",
        "colab": {
          "base_uri": "https://localhost:8080/",
          "height": 296
        },
        "outputId": "5cd260a6-61b2-4dc7-8630-88a497f1f498"
      },
      "outputs": [
        {
          "output_type": "display_data",
          "data": {
            "text/plain": [
              "<Figure size 432x288 with 1 Axes>"
            ],
            "image/png": "[encoded data removed]"
          },
          "metadata": {
            "needs_background": "light"
          }
        }
      ],
      "source": [
        "plt.plot(thresholds, fixation_recall, label=\"Fixation Recall\")\n",
        "plt.plot(thresholds, fixation_precision, label=\"Fixation_Precision\")\n",
        "plt.plot(thresholds, fixation_f1_score, label=\"Fixation_f1_score\")\n",
        "plt.plot(thresholds, saccade_recall, label=\"Saccade Recall\")\n",
        "plt.plot(thresholds, saccade_precision, label=\"Saccade_precision\")\n",
        "plt.plot(thresholds, saccade_f1_score, label=\"Saccade_f1_score\")\n",
        "\n",
        "\n",
        "\n",
        "#plt.plot(thresholds, accuracy, label=\"Acuracy\")\n",
        "plt.xlabel(\"V_threshold [px/ms]\")\n",
        "plt.ylabel(\"Accuracy [%]\")\n",
        "plt.title(\"Velocity threshold vs Accuracy\")\n",
        "plt.legend()\n",
        "plt.show()"
      ]
    },
    {
      "cell_type": "code",
      "execution_count": null,
      "metadata": {
        "id": "6macgDgpFNcB",
        "colab": {
          "base_uri": "https://localhost:8080/"
        },
        "outputId": "43d2b06b-fcdc-4393-b902-6fbae0e557dd"
      },
      "outputs": [
        {
          "output_type": "stream",
          "name": "stdout",
          "text": [
            "Fixation recla= [0.0, 25.28735632183908, 47.6218787158145, 65.57669441141498, 77.93301625049544, 86.34562029330162, 91.81529924692826, 94.86722156163297, 96.76971858898138, 97.79032897344432, 98.46413000396353, 98.87039239001189, 99.17756638921918, 99.41537851763773, 99.60364645263576, 99.6928260007927, 99.72255251684503, 99.76218787158145, 99.82164090368609, 99.85136741973841]\n",
            "saccade acuracy= [100.0, 98.49498327759197, 96.57190635451505, 93.9799331103679, 91.38795986622074, 89.38127090301003, 87.37458193979933, 85.61872909698997, 84.19732441471572, 81.27090301003345, 79.59866220735786, 78.01003344481606, 76.00334448160535, 74.33110367892976, 72.49163879598662, 70.73578595317726, 69.06354515050167, 68.06020066889631, 67.22408026755853, 66.05351170568562]\n"
          ]
        }
      ],
      "source": [
        "print('Fixation recla=', fixation_recall)\n",
        "print('saccade acuracy=', saccade_recall)"
      ]
    }
  ],
  "metadata": {
    "colab": {
      "collapsed_sections": [],
      "provenance": [],
      "include_colab_link": true
    },
    "kernelspec": {
      "display_name": "Python 3",
      "name": "python3"
    },
    "language_info": {
      "name": "python"
    }
  },
  "nbformat": 4,
  "nbformat_minor": 0
}